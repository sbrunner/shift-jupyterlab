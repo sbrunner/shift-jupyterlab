{
 "cells": [
  {
   "cell_type": "code",
   "execution_count": null,
   "id": "2983552b-de1b-4b65-aa54-a408825884e9",
   "metadata": {},
   "outputs": [],
   "source": [
    "# https://www.bp.com/en/global/corporate/energy-economics/statistical-review-of-world-energy.html\n",
    "\n",
    "from shifter_pandas.bp import UNITS_ENERGY, BPDatasource\n",
    "\n",
    "shifter_ds = BPDatasource(\"bp-stats-review-2021-all-data.xlsx\")"
   ]
  },
  {
   "cell_type": "code",
   "execution_count": null,
   "id": "895efc21-e735-41c0-8e0b-d10d44566ad0",
   "metadata": {},
   "outputs": [],
   "source": [
    "for type_ in shifter_ds.metadata():\n",
    "    print(f\"{type_['label']} [{type_['unit']}]\")"
   ]
  },
  {
   "cell_type": "code",
   "execution_count": null,
   "id": "f3817328-a1ef-4a88-95fb-1606ea26dfc0",
   "metadata": {},
   "outputs": [],
   "source": [
    "types_filter = []\n",
    "for type_ in shifter_ds.metadata():\n",
    "    values_split = type_[\"label\"].split(\" \")\n",
    "    if \"Generation\" in values_split:\n",
    "        types_filter.append(type_[\"label\"])\n",
    "    if \"Consumption\" in values_split:\n",
    "        types_filter.append(type_[\"label\"])\n",
    "types_filter"
   ]
  },
  {
   "cell_type": "code",
   "execution_count": null,
   "id": "0e67b678-0dbe-4241-8038-f027c15886e5",
   "metadata": {},
   "outputs": [],
   "source": [
    "df = shifter_ds.datasource(\n",
    "    units_filter=UNITS_ENERGY, regions_filter=[\"Switzerland\"], types_filter=types_filter\n",
    ")\n",
    "df"
   ]
  },
  {
   "cell_type": "code",
   "execution_count": null,
   "id": "06c1ff91-7950-45d4-ab8b-744a7ca08630",
   "metadata": {},
   "outputs": [],
   "source": [
    "import plotly.express as px\n",
    "\n",
    "fig = px.line(df, x=\"Year\", y=\"Value\", color=\"TypeUnit\", width=800, height=800)\n",
    "fig.update_layout(\n",
    "    yaxis_type=\"log\",\n",
    "    xaxis={\n",
    "        \"rangeslider\": {\"visible\": True},\n",
    "    },\n",
    ")\n",
    "fig.show()"
   ]
  }
 ],
 "metadata": {
  "kernelspec": {
   "display_name": "Python 3",
   "language": "python",
   "name": "python3"
  },
  "language_info": {
   "codemirror_mode": {
    "name": "ipython",
    "version": 3
   },
   "file_extension": ".py",
   "mimetype": "text/x-python",
   "name": "python",
   "nbconvert_exporter": "python",
   "pygments_lexer": "ipython3"
  },
  "widgets": {
   "application/vnd.jupyter.widget-state+json": {
    "state": {},
    "version_major": 2,
    "version_minor": 0
   }
  }
 },
 "nbformat": 4,
 "nbformat_minor": 5
}
