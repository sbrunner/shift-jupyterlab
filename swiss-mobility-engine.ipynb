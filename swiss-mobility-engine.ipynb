{
 "cells": [
  {
   "cell_type": "code",
   "execution_count": null,
   "id": "cda6e4cf",
   "metadata": {},
   "outputs": [],
   "source": [
    "from shifter_pandas.ofs import OFSDatasource\n",
    "\n",
    "shifter_ds = OFSDatasource(\n",
    "    \"https://www.pxweb.bfs.admin.ch/api/v1/fr/px-x-1103020100_105/px-x-1103020100_105.px\"\n",
    ")\n",
    "\n",
    "df = shifter_ds.datasource(\n",
    "    {\n",
    "        \"query\": [\n",
    "            {\"code\": \"Kanton\", \"selection\": {\"filter\": \"item\", \"values\": [\"0\"]}},\n",
    "            {\n",
    "                \"code\": \"Treibstoff\",\n",
    "                \"selection\": {\n",
    "                    \"filter\": \"item\",\n",
    "                    \"values\": [\n",
    "                        \"100\",\n",
    "                        \"200\",\n",
    "                        \"300\",\n",
    "                        \"310\",\n",
    "                        \"400\",\n",
    "                        \"410\",\n",
    "                        \"500\",\n",
    "                        \"550\",\n",
    "                        \"600\",\n",
    "                        \"9900\",\n",
    "                    ],\n",
    "                },\n",
    "            },\n",
    "        ],\n",
    "        \"response\": {\"format\": \"json-stat\"},\n",
    "    }\n",
    ")\n",
    "df"
   ]
  },
  {
   "cell_type": "code",
   "execution_count": null,
   "id": "fd44c6d2",
   "metadata": {},
   "outputs": [],
   "source": [
    "import plotly.express as px\n",
    "\n",
    "fig = px.line(df, x=\"Année\", y=\"values\", color=\"Carburant\")\n",
    "fig.update_layout(\n",
    "    yaxis_type=\"log\",\n",
    "    xaxis={\n",
    "        \"rangeslider\": {\"visible\": True},\n",
    "    },\n",
    ")\n",
    "fig.show()"
   ]
  },
  {
   "cell_type": "code",
   "execution_count": null,
   "id": "2b0ff20a-81b6-497c-b4e7-e5e35e2c3898",
   "metadata": {},
   "outputs": [],
   "source": [
    "# Save\n",
    "import plotly\n",
    "\n",
    "# Data\n",
    "df.to_pickle(\"swiss-mobility-engine.px\", protocol=4)\n",
    "\n",
    "# HTML file\n",
    "plotly.offline.plot(\n",
    "    fig,\n",
    "    filename=\"swiss-mobility-engine.html\",\n",
    "    auto_open=False,\n",
    "    include_plotlyjs=\"cdn\",\n",
    ")"
   ]
  }
 ],
 "metadata": {
  "kernelspec": {
   "display_name": "Python 3 (ipykernel)",
   "language": "python",
   "name": "python3"
  },
  "language_info": {
   "codemirror_mode": {
    "name": "ipython",
    "version": 3
   },
   "file_extension": ".py",
   "mimetype": "text/x-python",
   "name": "python",
   "nbconvert_exporter": "python",
   "pygments_lexer": "ipython3"
  },
  "widgets": {
   "application/vnd.jupyter.widget-state+json": {
    "state": {},
    "version_major": 2,
    "version_minor": 0
   }
  }
 },
 "nbformat": 4,
 "nbformat_minor": 5
}
