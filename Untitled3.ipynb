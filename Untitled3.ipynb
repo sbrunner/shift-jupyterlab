{
 "cells": [
  {
   "cell_type": "code",
   "execution_count": 20,
   "id": "cda6e4cf",
   "metadata": {},
   "outputs": [
    {
     "name": "stdout",
     "output_type": "stream",
     "text": [
      "{'dataset': {'dimension': {'Treibstoff': {'label': 'Carburant', 'category': {'index': {'100': 0, '200': 1, '300': 2, '400': 3, '500': 4, '600': 5, '9900': 6}, 'label': {'100': 'Essence', '200': 'Diesel', '300': 'Essence-électrique: hybride', '400': 'Diesel-électrique: hybride', '500': 'Électrique', '600': 'Gaz (monovalent et bivalent)', '9900': 'Autre'}}}, 'Jahr': {'label': 'Année', 'category': {'index': {'2005': 0, '2006': 1, '2007': 2, '2008': 3, '2009': 4, '2010': 5, '2011': 6, '2012': 7, '2013': 8, '2014': 9, '2015': 10, '2016': 11, '2017': 12, '2018': 13, '2019': 14, '2020': 15, '2021': 16}, 'label': {'2005': '2005', '2006': '2006', '2007': '2007', '2008': '2008', '2009': '2009', '2010': '2010', '2011': '2011', '2012': '2012', '2013': '2013', '2014': '2014', '2015': '2015', '2016': '2016', '2017': '2017', '2018': '2018', '2019': '2019', '2020': '2020', '2021': '2021'}}}, 'id': ['Treibstoff', 'Jahr'], 'size': [7, 17], 'role': {'time': ['Jahr']}}, 'label': 'Parc de motocycles selon Carburant et Année', 'source': 'OFS - Parc des véhicules routiers - © OFS', 'updated': '2010-12-14T13:38:00Z', 'value': [588376, 605189, 615196, 632082, 638966, 646481, 659298, 670718, 677582, 687524, 697612, 707703, 716194, 725731, 729843, 755597, 770926, 1139, 1274, 1614, 1154, 1112, 1084, 1064, 1021, 728, 864, 837, 797, 782, 760, 755, 791, 788, 51, 1, 9, 23, 25, 54, 64, 67, 74, 79, 73, 75, 72, 70, 69, 64, 60, 0, 0, 0, 2, 2, 2, 2, 5, 5, 5, 4, 3, 4, 4, 5, 5, 5, 1736, 1729, 1742, 2047, 2585, 3493, 5366, 7930, 9523, 10675, 11424, 11732, 12026, 12712, 13807, 15065, 16955, 11, 9, 5, 2, 1, 2, 4, 6, 7, 10, 9, 10, 11, 13, 12, 14, 14, 552, 458, 600, 1230, 86, 86, 72, 75, 71, 62, 63, 61, 60, 54, 51, 50, 52], 'extension': {'px': {'decimals': 0}}}}\n"
     ]
    }
   ],
   "source": [
    "# https://www.bfs.admin.ch/bfs/fr/home/services/recherche/api.html\n",
    "# https://dam-api.bfs.admin.ch/hub/swagger-ui/index.html\n",
    "# communes\n",
    "# https://www.bfs.admin.ch/bfs/fr/home/services/recherche/api/api-gemeinde.assetdetail.15224055.html\n",
    "\n",
    "# motorisation\n",
    "# https://www.pxweb.bfs.admin.ch/sq/ccc96ddd-61a9-49ab-ad7f-dabbc934e8c0\n",
    "\n",
    "import requests\n",
    "\n",
    "# Population\n",
    "dataset_url = 'https://www.pxweb.bfs.admin.ch/api/v1/en/px-x-0102030000_101/px-x-0102030000_101.px'\n",
    "dataset_url = 'https://www.pxweb.bfs.admin.ch/api/v1/fr/px-x-1103020100_165/px-x-1103020100_165.px'\n",
    "\n",
    "metadata_response = requests.get(dataset_url)\n",
    "metadata_json = metadata_response.json()\n",
    "\n",
    "response = requests.post(dataset_url, json={\n",
    "  \"query\": [\n",
    "    {\n",
    "      \"code\": \"Treibstoff\",\n",
    "      \"selection\": {\n",
    "        \"filter\": \"item\",\n",
    "        \"values\": [\n",
    "          \"100\",\n",
    "          \"200\",\n",
    "          \"300\",\n",
    "          \"400\",\n",
    "          \"500\",\n",
    "          \"600\",\n",
    "          \"9900\"\n",
    "        ]\n",
    "      }\n",
    "    }\n",
    "  ],\n",
    "  \"response\": {\n",
    "    \"format\": \"json-stat\"\n",
    "  }\n",
    "})\n",
    "json = response.json()\n",
    "print(json)"
   ]
  },
  {
   "cell_type": "code",
   "execution_count": 21,
   "id": "4143ab24",
   "metadata": {},
   "outputs": [
    {
     "name": "stdout",
     "output_type": "stream",
     "text": [
      "====\n",
      "label: Carburant\n",
      "category: {'index': {'100': 0, '200': 1, '300': 2, '400': 3, '500': 4, '600': 5, '9900': 6}, 'label': {'100': 'Essence', '200': 'Diesel', '300': 'Essence-électrique: hybride', '400': 'Diesel-électrique: hybride', '500': 'Électrique', '600': 'Gaz (monovalent et bivalent)', '9900': 'Autre'}}\n",
      "====\n",
      "label: Année\n",
      "category: {'index': {'2005': 0, '2006': 1, '2007': 2, '2008': 3, '2009': 4, '2010': 5, '2011': 6, '2012': 7, '2013': 8, '2014': 9, '2015': 10, '2016': 11, '2017': 12, '2018': 13, '2019': 14, '2020': 15, '2021': 16}, 'label': {'2005': '2005', '2006': '2006', '2007': '2007', '2008': '2008', '2009': '2009', '2010': '2010', '2011': '2011', '2012': '2012', '2013': '2013', '2014': '2014', '2015': '2015', '2016': '2016', '2017': '2017', '2018': '2018', '2019': '2019', '2020': '2020', '2021': '2021'}}\n"
     ]
    }
   ],
   "source": [
    "for elem in json['dataset']['dimension']['id']:\n",
    "    print('====')\n",
    "    for k, v in json['dataset']['dimension'][elem].items():\n",
    "        print(f'{k}: {v}')\n"
   ]
  },
  {
   "cell_type": "code",
   "execution_count": 22,
   "id": "7476a48c",
   "metadata": {},
   "outputs": [
    {
     "name": "stdout",
     "output_type": "stream",
     "text": [
      "     values Carburant Année\n",
      "0    588376   Essence  2005\n",
      "1    605189   Essence  2006\n",
      "2    615196   Essence  2007\n",
      "3    632082   Essence  2008\n",
      "4    638966   Essence  2009\n",
      "..      ...       ...   ...\n",
      "114      60     Autre  2017\n",
      "115      54     Autre  2018\n",
      "116      51     Autre  2019\n",
      "117      50     Autre  2020\n",
      "118      52     Autre  2021\n",
      "\n",
      "[119 rows x 3 columns]\n"
     ]
    }
   ],
   "source": [
    "import pandas as pd\n",
    "\n",
    "values = {\"values\": json['dataset']['value']}\n",
    "length = 1\n",
    "total_length = len(json['dataset']['value'])\n",
    "for dimension_id in json['dataset']['dimension']['id']:\n",
    "    dimension = json['dataset']['dimension'][dimension_id]\n",
    "    \n",
    "    current_length = len(dimension['category']['index'])\n",
    "    nb = int(total_length / (length * current_length))\n",
    "    \n",
    "    v = list(json['dataset']['value'])\n",
    "    for x in range(length):\n",
    "        for y, value in enumerate(dimension['category']['label'].values()):\n",
    "            for z in range(nb):\n",
    "                v[x * current_length * nb + y * nb + z] = value\n",
    "    \n",
    "    values[dimension['label']] = v\n",
    "            \n",
    "    length *= current_length\n",
    "\n",
    "df = pd.DataFrame(values)\n",
    "print(df)\n",
    "#print(json['dataset']['value'])"
   ]
  },
  {
   "cell_type": "code",
   "execution_count": null,
   "id": "c10e34f1",
   "metadata": {},
   "outputs": [],
   "source": [
    "import seaborn as sns \n",
    "import matplotlib.pyplot as plt\n",
    "\n",
    "sns.set_theme(style=\"ticks\")\n",
    "sns.set_theme(style=\"darkgrid\")\n",
    "\n",
    "keys = list(values.keys())\n",
    "\n",
    "\n",
    "fmri = sns.load_dataset(\"fmri\")\n",
    "print(fmri)\n",
    "\n",
    "# create the time series plot\n",
    "sns.lineplot(x = \"Date\", y = keys[0], data = df)\n",
    "sns.lineplot(x = \"Date\", y = keys[1], data = df)\n",
    "sns.lineplot(x = \"Date\", y = keys[2], data = df)\n",
    "sns.lineplot(x = \"Date\", y = keys[3], data = df)\n",
    "sns.lineplot(x = \"Date\", y = keys[4], data = df)\n",
    "\n",
    "#sns.pairplot(df, hue=\"Date\")\n",
    "sns.lineplot(x=\"Date\", y=\"signal\",\n",
    "             hue=\"region\", style=\"event\",\n",
    "             data=fmri)\n",
    "\n",
    "#plt.ylabel(\"motorisation\")\n",
    "#plt.xticks(rotation = 25)"
   ]
  },
  {
   "cell_type": "code",
   "execution_count": null,
   "id": "e3a7feb6",
   "metadata": {},
   "outputs": [],
   "source": [
    "from mpl_toolkits.mplot3d import axes3d\n",
    "import matplotlib.pyplot as plt\n",
    "from matplotlib import cm\n",
    "\n",
    "fig = plt.figure()\n",
    "ax = fig.gca(projection='3d')\n",
    "X, Y, Z = axes3d.get_test_data(0.05)\n",
    "ax.plot_surface(X, Y, Z, rstride=8, cstride=8, alpha=0.3)\n",
    "cset = ax.contourf(X, Y, Z, zdir='z', offset=-100, cmap=cm.coolwarm)\n",
    "cset = ax.contourf(X, Y, Z, zdir='x', offset=-40, cmap=cm.coolwarm)\n",
    "cset = ax.contourf(X, Y, Z, zdir='y', offset=40, cmap=cm.coolwarm)\n",
    "\n",
    "ax.set_xlabel('X')\n",
    "ax.set_xlim(-40, 40)\n",
    "ax.set_ylabel('Y')\n",
    "ax.set_ylim(-40, 40)\n",
    "ax.set_zlabel('Z')\n",
    "ax.set_zlim(-100, 100)\n",
    "\n",
    "plt.show()"
   ]
  },
  {
   "cell_type": "code",
   "execution_count": null,
   "id": "fd44c6d2",
   "metadata": {},
   "outputs": [],
   "source": [
    "import plotly.express as px\n",
    "\n",
    "\n",
    "\n",
    "fig = px.line(df, x=\"Année\", y=\"values\", color='Carburant')\n",
    "fig.show()\n",
    "df2 = px.data.gapminder().query(\"continent=='Oceania'\")\n",
    "#print(df)\n",
    "fig = px.line(df2, x=\"year\", y=\"lifeExp\", color='country')\n",
    "fig.show()\n",
    "\n",
    "\n"
   ]
  },
  {
   "cell_type": "code",
   "execution_count": null,
   "id": "9206dee1",
   "metadata": {},
   "outputs": [],
   "source": [
    "import bokeh.sampledata\n",
    "bokeh.sampledata.download()"
   ]
  },
  {
   "cell_type": "code",
   "execution_count": null,
   "id": "27d803d0",
   "metadata": {},
   "outputs": [],
   "source": [
    "import numpy as np\n",
    "\n",
    "from bokeh.layouts import gridplot\n",
    "from bokeh.plotting import figure, show\n",
    "from bokeh.io import output_notebook\n",
    "from bokeh.sampledata.stocks import AAPL, GOOG, IBM, MSFT\n",
    "\n",
    "\n",
    "def datetime(x):\n",
    "    return np.array(x, dtype=np.datetime64)\n",
    "\n",
    "p1 = figure(x_axis_type=\"datetime\", title=\"Stock Closing Prices\")\n",
    "p1.grid.grid_line_alpha=0.3\n",
    "p1.xaxis.axis_label = 'Date'\n",
    "p1.yaxis.axis_label = 'Price'\n",
    "\n",
    "p1.line(datetime(AAPL['date']), AAPL['adj_close'], color='#A6CEE3', legend_label='AAPL')\n",
    "p1.line(datetime(GOOG['date']), GOOG['adj_close'], color='#B2DF8A', legend_label='GOOG')\n",
    "p1.line(datetime(IBM['date']), IBM['adj_close'], color='#33A02C', legend_label='IBM')\n",
    "p1.line(datetime(MSFT['date']), MSFT['adj_close'], color='#FB9A99', legend_label='MSFT')\n",
    "p1.legend.location = \"top_left\"\n",
    "\n",
    "aapl = np.array(AAPL['adj_close'])\n",
    "aapl_dates = np.array(AAPL['date'], dtype=np.datetime64)\n",
    "\n",
    "window_size = 30\n",
    "window = np.ones(window_size)/float(window_size)\n",
    "aapl_avg = np.convolve(aapl, window, 'same')\n",
    "\n",
    "p2 = figure(x_axis_type=\"datetime\", title=\"AAPL One-Month Average\")\n",
    "p2.grid.grid_line_alpha = 0\n",
    "p2.xaxis.axis_label = 'Date'\n",
    "p2.yaxis.axis_label = 'Price'\n",
    "p2.ygrid.band_fill_color = \"olive\"\n",
    "p2.ygrid.band_fill_alpha = 0.1\n",
    "\n",
    "p2.scatter(aapl_dates, aapl, size=4, legend_label='close',\n",
    "           color='darkgrey', alpha=0.2)\n",
    "\n",
    "p2.line(aapl_dates, aapl_avg, legend_label='avg', color='navy')\n",
    "p2.legend.location = \"top_left\"\n",
    "\n",
    "output_notebook()\n",
    "show(gridplot([[p1,p2]], width=400, height=400))"
   ]
  }
 ],
 "metadata": {
  "kernelspec": {
   "display_name": "Python 3",
   "language": "python",
   "name": "python3"
  },
  "language_info": {
   "codemirror_mode": {
    "name": "ipython",
    "version": 3
   },
   "file_extension": ".py",
   "mimetype": "text/x-python",
   "name": "python",
   "nbconvert_exporter": "python",
   "pygments_lexer": "ipython3",
   "version": "3.8.6"
  }
 },
 "nbformat": 4,
 "nbformat_minor": 5
}
