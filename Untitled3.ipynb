{
 "cells": [
  {
   "cell_type": "code",
   "execution_count": 1,
   "id": "cda6e4cf",
   "metadata": {},
   "outputs": [
    {
     "name": "stdout",
     "output_type": "stream",
     "text": [
      "{'dataset': {'dimension': {'Treibstoff': {'label': 'Carburant', 'category': {'index': {'100': 0, '200': 1, '300': 2, '400': 3, '500': 4, '600': 5, '9900': 6}, 'label': {'100': 'Essence', '200': 'Diesel', '300': 'Essence-électrique: hybride', '400': 'Diesel-électrique: hybride', '500': 'Électrique', '600': 'Gaz (monovalent et bivalent)', '9900': 'Autre'}}}, 'Jahr': {'label': 'Année', 'category': {'index': {'2005': 0, '2006': 1, '2007': 2, '2008': 3, '2009': 4, '2010': 5, '2011': 6, '2012': 7, '2013': 8, '2014': 9, '2015': 10, '2016': 11, '2017': 12, '2018': 13, '2019': 14, '2020': 15, '2021': 16}, 'label': {'2005': '2005', '2006': '2006', '2007': '2007', '2008': '2008', '2009': '2009', '2010': '2010', '2011': '2011', '2012': '2012', '2013': '2013', '2014': '2014', '2015': '2015', '2016': '2016', '2017': '2017', '2018': '2018', '2019': '2019', '2020': '2020', '2021': '2021'}}}, 'id': ['Treibstoff', 'Jahr'], 'size': [7, 17], 'role': {'time': ['Jahr']}}, 'label': 'Parc de motocycles selon Carburant et Année', 'source': 'OFS - Parc des véhicules routiers - © OFS', 'updated': '2010-12-14T13:38:00Z', 'value': [588376, 605189, 615196, 632082, 638966, 646481, 659298, 670718, 677582, 687524, 697612, 707703, 716194, 725731, 729843, 755597, 770926, 1139, 1274, 1614, 1154, 1112, 1084, 1064, 1021, 728, 864, 837, 797, 782, 760, 755, 791, 788, 51, 1, 9, 23, 25, 54, 64, 67, 74, 79, 73, 75, 72, 70, 69, 64, 60, 0, 0, 0, 2, 2, 2, 2, 5, 5, 5, 4, 3, 4, 4, 5, 5, 5, 1736, 1729, 1742, 2047, 2585, 3493, 5366, 7930, 9523, 10675, 11424, 11732, 12026, 12712, 13807, 15065, 16955, 11, 9, 5, 2, 1, 2, 4, 6, 7, 10, 9, 10, 11, 13, 12, 14, 14, 552, 458, 600, 1230, 86, 86, 72, 75, 71, 62, 63, 61, 60, 54, 51, 50, 52], 'extension': {'px': {'decimals': 0}}}}\n"
     ]
    }
   ],
   "source": [
    "# https://www.bfs.admin.ch/bfs/fr/home/services/recherche/api.html\n",
    "# https://dam-api.bfs.admin.ch/hub/swagger-ui/index.html\n",
    "# communes\n",
    "# https://www.bfs.admin.ch/bfs/fr/home/services/recherche/api/api-gemeinde.assetdetail.15224055.html\n",
    "\n",
    "# motorisation\n",
    "# https://www.pxweb.bfs.admin.ch/sq/ccc96ddd-61a9-49ab-ad7f-dabbc934e8c0\n",
    "\n",
    "import requests\n",
    "\n",
    "# Population\n",
    "dataset_url = 'https://www.pxweb.bfs.admin.ch/api/v1/en/px-x-0102030000_101/px-x-0102030000_101.px'\n",
    "dataset_url = 'https://www.pxweb.bfs.admin.ch/api/v1/fr/px-x-1103020100_165/px-x-1103020100_165.px'\n",
    "\n",
    "metadata_response = requests.get(dataset_url)\n",
    "metadata_json = metadata_response.json()\n",
    "\n",
    "response = requests.post(dataset_url, json={\n",
    "  \"query\": [\n",
    "    {\n",
    "      \"code\": \"Treibstoff\",\n",
    "      \"selection\": {\n",
    "        \"filter\": \"item\",\n",
    "        \"values\": [\n",
    "          \"100\",\n",
    "          \"200\",\n",
    "          \"300\",\n",
    "          \"400\",\n",
    "          \"500\",\n",
    "          \"600\",\n",
    "          \"9900\"\n",
    "        ]\n",
    "      }\n",
    "    }\n",
    "  ],\n",
    "  \"response\": {\n",
    "    \"format\": \"json-stat\"\n",
    "  }\n",
    "})\n",
    "json = response.json()\n",
    "print(json)\n",
    "\n",
    "\n",
    "response_canton = requests.post(dataset_url, json={\n",
    "  \"query\": [\n",
    "    {\n",
    "      \"code\": \"Kanton\",\n",
    "      \"selection\": {\n",
    "        \"filter\": \"item\",\n",
    "        \"values\": [\n",
    "          \"1\",\n",
    "          \"2\",\n",
    "          \"3\",\n",
    "          \"4\",\n",
    "          \"5\",\n",
    "          \"6\",\n",
    "          \"7\",\n",
    "          \"8\",\n",
    "          \"9\",\n",
    "          \"10\",\n",
    "          \"11\",\n",
    "          \"12\",\n",
    "          \"13\",\n",
    "          \"14\",\n",
    "          \"15\",\n",
    "          \"16\",\n",
    "          \"17\",\n",
    "          \"18\",\n",
    "          \"19\",\n",
    "          \"20\",\n",
    "          \"21\",\n",
    "          \"22\",\n",
    "          \"23\",\n",
    "          \"24\",\n",
    "          \"25\",\n",
    "          \"26\",\n",
    "          \"27\"\n",
    "        ]\n",
    "      }\n",
    "    },\n",
    "    {\n",
    "      \"code\": \"Treibstoff\",\n",
    "      \"selection\": {\n",
    "        \"filter\": \"item\",\n",
    "        \"values\": [\n",
    "          \"100\",\n",
    "          \"200\",\n",
    "          \"300\",\n",
    "          \"400\",\n",
    "          \"500\",\n",
    "          \"600\",\n",
    "          \"9900\"\n",
    "        ]\n",
    "      }\n",
    "    }\n",
    "  ],\n",
    "  \"response\": {\n",
    "    \"format\": \"json-stat\"\n",
    "  }\n",
    "})\n",
    "json_canton = response_canton.json()"
   ]
  },
  {
   "cell_type": "code",
   "execution_count": 2,
   "id": "4143ab24",
   "metadata": {},
   "outputs": [
    {
     "name": "stdout",
     "output_type": "stream",
     "text": [
      "====\n",
      "label: Carburant\n",
      "category: {'index': {'100': 0, '200': 1, '300': 2, '400': 3, '500': 4, '600': 5, '9900': 6}, 'label': {'100': 'Essence', '200': 'Diesel', '300': 'Essence-électrique: hybride', '400': 'Diesel-électrique: hybride', '500': 'Électrique', '600': 'Gaz (monovalent et bivalent)', '9900': 'Autre'}}\n",
      "====\n",
      "label: Année\n",
      "category: {'index': {'2005': 0, '2006': 1, '2007': 2, '2008': 3, '2009': 4, '2010': 5, '2011': 6, '2012': 7, '2013': 8, '2014': 9, '2015': 10, '2016': 11, '2017': 12, '2018': 13, '2019': 14, '2020': 15, '2021': 16}, 'label': {'2005': '2005', '2006': '2006', '2007': '2007', '2008': '2008', '2009': '2009', '2010': '2010', '2011': '2011', '2012': '2012', '2013': '2013', '2014': '2014', '2015': '2015', '2016': '2016', '2017': '2017', '2018': '2018', '2019': '2019', '2020': '2020', '2021': '2021'}}\n"
     ]
    }
   ],
   "source": [
    "for elem in json['dataset']['dimension']['id']:\n",
    "    print('====')\n",
    "    for k, v in json['dataset']['dimension'][elem].items():\n",
    "        print(f'{k}: {v}')\n"
   ]
  },
  {
   "cell_type": "code",
   "execution_count": 3,
   "id": "7476a48c",
   "metadata": {},
   "outputs": [
    {
     "name": "stdout",
     "output_type": "stream",
     "text": [
      "     values Carburant Année\n",
      "0    588376   Essence  2005\n",
      "1    605189   Essence  2006\n",
      "2    615196   Essence  2007\n",
      "3    632082   Essence  2008\n",
      "4    638966   Essence  2009\n",
      "..      ...       ...   ...\n",
      "114      60     Autre  2017\n",
      "115      54     Autre  2018\n",
      "116      51     Autre  2019\n",
      "117      50     Autre  2020\n",
      "118      52     Autre  2021\n",
      "\n",
      "[119 rows x 3 columns]\n"
     ]
    }
   ],
   "source": [
    "import pandas as pd\n",
    "\n",
    "values = {\"values\": json['dataset']['value']}\n",
    "length = 1\n",
    "total_length = len(json['dataset']['value'])\n",
    "for dimension_id in json['dataset']['dimension']['id']:\n",
    "    dimension = json['dataset']['dimension'][dimension_id]\n",
    "    \n",
    "    current_length = len(dimension['category']['index'])\n",
    "    nb = int(total_length / (length * current_length))\n",
    "    \n",
    "    v = list(json['dataset']['value'])\n",
    "    for x in range(length):\n",
    "        for y, value in enumerate(dimension['category']['label'].values()):\n",
    "            for z in range(nb):\n",
    "                v[x * current_length * nb + y * nb + z] = value\n",
    "    \n",
    "    values[dimension['label']] = v\n",
    "            \n",
    "    length *= current_length\n",
    "\n",
    "df = pd.DataFrame(values)\n",
    "print(df)\n",
    "#print(json['dataset']['value'])"
   ]
  },
  {
   "cell_type": "code",
   "execution_count": 32,
   "id": "e9d0d29c",
   "metadata": {},
   "outputs": [
    {
     "name": "stdout",
     "output_type": "stream",
     "text": [
      "['Essence', 'Diesel', 'Essence-électrique: hybride', 'Diesel-électrique: hybride', 'Électrique', 'Gaz (monovalent et bivalent)', 'Autre']\n",
      "    year  Essence  Diesel  Essence-électrique: hybride  \\\n",
      "0   2005   588376    1139                           51   \n",
      "1   2006   605189    1274                            1   \n",
      "2   2007   615196    1614                            9   \n",
      "3   2008   632082    1154                           23   \n",
      "4   2009   638966    1112                           25   \n",
      "5   2010   646481    1084                           54   \n",
      "6   2011   659298    1064                           64   \n",
      "7   2012   670718    1021                           67   \n",
      "8   2013   677582     728                           74   \n",
      "9   2014   687524     864                           79   \n",
      "10  2015   697612     837                           73   \n",
      "11  2016   707703     797                           75   \n",
      "12  2017   716194     782                           72   \n",
      "13  2018   725731     760                           70   \n",
      "14  2019   729843     755                           69   \n",
      "15  2020   755597     791                           64   \n",
      "16  2021   770926     788                           60   \n",
      "\n",
      "    Diesel-électrique: hybride  Électrique  Gaz (monovalent et bivalent)  \\\n",
      "0                            0        1736                            11   \n",
      "1                            0        1729                             9   \n",
      "2                            0        1742                             5   \n",
      "3                            2        2047                             2   \n",
      "4                            2        2585                             1   \n",
      "5                            2        3493                             2   \n",
      "6                            2        5366                             4   \n",
      "7                            5        7930                             6   \n",
      "8                            5        9523                             7   \n",
      "9                            5       10675                            10   \n",
      "10                           4       11424                             9   \n",
      "11                           3       11732                            10   \n",
      "12                           4       12026                            11   \n",
      "13                           4       12712                            13   \n",
      "14                           5       13807                            12   \n",
      "15                           5       15065                            14   \n",
      "16                           5       16955                            14   \n",
      "\n",
      "    Autre  \n",
      "0     552  \n",
      "1     458  \n",
      "2     600  \n",
      "3    1230  \n",
      "4      86  \n",
      "5      86  \n",
      "6      72  \n",
      "7      75  \n",
      "8      71  \n",
      "9      62  \n",
      "10     63  \n",
      "11     61  \n",
      "12     60  \n",
      "13     54  \n",
      "14     51  \n",
      "15     50  \n",
      "16     52  \n"
     ]
    }
   ],
   "source": [
    "elem_key = json['dataset']['dimension']['id'][0]\n",
    "elem_dataset = json['dataset']['dimension'][elem_key]\n",
    "year_key = json['dataset']['dimension']['id'][1]\n",
    "year_dataset = json['dataset']['dimension'][year_key]\n",
    "year_length = len(year_dataset['category']['index'])\n",
    "values_bokeh={\n",
    "    'year': year_dataset['category']['label'].values()\n",
    "}\n",
    "col_bokeh = []\n",
    "for key, index in elem_dataset['category']['index'].items():\n",
    "    start = index*year_length\n",
    "    values_bokeh[elem_dataset['category']['label'][key]] = json['dataset']['value'][start: start+year_length]\n",
    "    col_bokeh.append(elem_dataset['category']['label'][key])\n",
    "\n",
    "df_bokeh = pd.DataFrame(values_bokeh)\n",
    "print(col_bokeh)\n",
    "print(df_bokeh)"
   ]
  },
  {
   "cell_type": "code",
   "execution_count": 57,
   "id": "c10e34f1",
   "metadata": {},
   "outputs": [
    {
     "data": {
      "text/plain": [
       "([0, 1, 2, 3, 4, 5, 6, 7, 8, 9, 10, 11, 12, 13, 14, 15, 16],\n",
       " [Text(0, 0, ''),\n",
       "  Text(0, 0, ''),\n",
       "  Text(0, 0, ''),\n",
       "  Text(0, 0, ''),\n",
       "  Text(0, 0, ''),\n",
       "  Text(0, 0, ''),\n",
       "  Text(0, 0, ''),\n",
       "  Text(0, 0, ''),\n",
       "  Text(0, 0, ''),\n",
       "  Text(0, 0, ''),\n",
       "  Text(0, 0, ''),\n",
       "  Text(0, 0, ''),\n",
       "  Text(0, 0, ''),\n",
       "  Text(0, 0, ''),\n",
       "  Text(0, 0, ''),\n",
       "  Text(0, 0, ''),\n",
       "  Text(0, 0, '')])"
      ]
     },
     "execution_count": 57,
     "metadata": {},
     "output_type": "execute_result"
    },
    {
     "data": {
      "image/png": "[encoded data removed]",
      "text/plain": [
       "<Figure size 72x7.2 with 1 Axes>"
      ]
     },
     "metadata": {},
     "output_type": "display_data"
    }
   ],
   "source": [
    "import seaborn as sns \n",
    "import matplotlib.pyplot as plt\n",
    "\n",
    "sns.set_theme(style=\"ticks\")\n",
    "sns.set_theme(style=\"darkgrid\")\n",
    "\n",
    "sns.set(rc={\"figure.figsize\":(4, 1)})\n",
    "sns.lineplot(x=\"Année\", y=\"values\",\n",
    "             hue=\"Carburant\",\n",
    "             data=df)\n",
    "\n",
    "plt.yscale('log')\n",
    "plt.ylabel(\"Carburant\")\n",
    "plt.xticks(rotation = 25)"
   ]
  },
  {
   "cell_type": "code",
   "execution_count": 58,
   "id": "fd44c6d2",
   "metadata": {},
   "outputs": [
    {
     "data": {
      "application/vnd.plotly.v1+json": {
       "config": {
        "plotlyServerURL": "https://plot.ly"
       },
       "data": [
        {
         "hovertemplate": "Carburant=Essence<br>Année=%{x}<br>values=%{y}<extra></extra>",
         "legendgroup": "Essence",
         "line": {
          "color": "#636efa",
          "dash": "solid"
         },
         "marker": {
          "symbol": "circle"
         },
         "mode": "lines",
         "name": "Essence",
         "orientation": "v",
         "showlegend": true,
         "type": "scatter",
         "x": [
          "2005",
          "2006",
          "2007",
          "2008",
          "2009",
          "2010",
          "2011",
          "2012",
          "2013",
          "2014",
          "2015",
          "2016",
          "2017",
          "2018",
          "2019",
          "2020",
          "2021"
         ],
         "xaxis": "x",
         "y": [
          588376,
          605189,
          615196,
          632082,
          638966,
          646481,
          659298,
          670718,
          677582,
          687524,
          697612,
          707703,
          716194,
          725731,
          729843,
          755597,
          770926
         ],
         "yaxis": "y"
        },
        {
         "hovertemplate": "Carburant=Diesel<br>Année=%{x}<br>values=%{y}<extra></extra>",
         "legendgroup": "Diesel",
         "line": {
          "color": "#EF553B",
          "dash": "solid"
         },
         "marker": {
          "symbol": "circle"
         },
         "mode": "lines",
         "name": "Diesel",
         "orientation": "v",
         "showlegend": true,
         "type": "scatter",
         "x": [
          "2005",
          "2006",
          "2007",
          "2008",
          "2009",
          "2010",
          "2011",
          "2012",
          "2013",
          "2014",
          "2015",
          "2016",
          "2017",
          "2018",
          "2019",
          "2020",
          "2021"
         ],
         "xaxis": "x",
         "y": [
          1139,
          1274,
          1614,
          1154,
          1112,
          1084,
          1064,
          1021,
          728,
          864,
          837,
          797,
          782,
          760,
          755,
          791,
          788
         ],
         "yaxis": "y"
        },
        {
         "hovertemplate": "Carburant=Essence-électrique: hybride<br>Année=%{x}<br>values=%{y}<extra></extra>",
         "legendgroup": "Essence-électrique: hybride",
         "line": {
          "color": "#00cc96",
          "dash": "solid"
         },
         "marker": {
          "symbol": "circle"
         },
         "mode": "lines",
         "name": "Essence-électrique: hybride",
         "orientation": "v",
         "showlegend": true,
         "type": "scatter",
         "x": [
          "2005",
          "2006",
          "2007",
          "2008",
          "2009",
          "2010",
          "2011",
          "2012",
          "2013",
          "2014",
          "2015",
          "2016",
          "2017",
          "2018",
          "2019",
          "2020",
          "2021"
         ],
         "xaxis": "x",
         "y": [
          51,
          1,
          9,
          23,
          25,
          54,
          64,
          67,
          74,
          79,
          73,
          75,
          72,
          70,
          69,
          64,
          60
         ],
         "yaxis": "y"
        },
        {
         "hovertemplate": "Carburant=Diesel-électrique: hybride<br>Année=%{x}<br>values=%{y}<extra></extra>",
         "legendgroup": "Diesel-électrique: hybride",
         "line": {
          "color": "#ab63fa",
          "dash": "solid"
         },
         "marker": {
          "symbol": "circle"
         },
         "mode": "lines",
         "name": "Diesel-électrique: hybride",
         "orientation": "v",
         "showlegend": true,
         "type": "scatter",
         "x": [
          "2005",
          "2006",
          "2007",
          "2008",
          "2009",
          "2010",
          "2011",
          "2012",
          "2013",
          "2014",
          "2015",
          "2016",
          "2017",
          "2018",
          "2019",
          "2020",
          "2021"
         ],
         "xaxis": "x",
         "y": [
          0,
          0,
          0,
          2,
          2,
          2,
          2,
          5,
          5,
          5,
          4,
          3,
          4,
          4,
          5,
          5,
          5
         ],
         "yaxis": "y"
        },
        {
         "hovertemplate": "Carburant=Électrique<br>Année=%{x}<br>values=%{y}<extra></extra>",
         "legendgroup": "Électrique",
         "line": {
          "color": "#FFA15A",
          "dash": "solid"
         },
         "marker": {
          "symbol": "circle"
         },
         "mode": "lines",
         "name": "Électrique",
         "orientation": "v",
         "showlegend": true,
         "type": "scatter",
         "x": [
          "2005",
          "2006",
          "2007",
          "2008",
          "2009",
          "2010",
          "2011",
          "2012",
          "2013",
          "2014",
          "2015",
          "2016",
          "2017",
          "2018",
          "2019",
          "2020",
          "2021"
         ],
         "xaxis": "x",
         "y": [
          1736,
          1729,
          1742,
          2047,
          2585,
          3493,
          5366,
          7930,
          9523,
          10675,
          11424,
          11732,
          12026,
          12712,
          13807,
          15065,
          16955
         ],
         "yaxis": "y"
        },
        {
         "hovertemplate": "Carburant=Gaz (monovalent et bivalent)<br>Année=%{x}<br>values=%{y}<extra></extra>",
         "legendgroup": "Gaz (monovalent et bivalent)",
         "line": {
          "color": "#19d3f3",
          "dash": "solid"
         },
         "marker": {
          "symbol": "circle"
         },
         "mode": "lines",
         "name": "Gaz (monovalent et bivalent)",
         "orientation": "v",
         "showlegend": true,
         "type": "scatter",
         "x": [
          "2005",
          "2006",
          "2007",
          "2008",
          "2009",
          "2010",
          "2011",
          "2012",
          "2013",
          "2014",
          "2015",
          "2016",
          "2017",
          "2018",
          "2019",
          "2020",
          "2021"
         ],
         "xaxis": "x",
         "y": [
          11,
          9,
          5,
          2,
          1,
          2,
          4,
          6,
          7,
          10,
          9,
          10,
          11,
          13,
          12,
          14,
          14
         ],
         "yaxis": "y"
        },
        {
         "hovertemplate": "Carburant=Autre<br>Année=%{x}<br>values=%{y}<extra></extra>",
         "legendgroup": "Autre",
         "line": {
          "color": "#FF6692",
          "dash": "solid"
         },
         "marker": {
          "symbol": "circle"
         },
         "mode": "lines",
         "name": "Autre",
         "orientation": "v",
         "showlegend": true,
         "type": "scatter",
         "x": [
          "2005",
          "2006",
          "2007",
          "2008",
          "2009",
          "2010",
          "2011",
          "2012",
          "2013",
          "2014",
          "2015",
          "2016",
          "2017",
          "2018",
          "2019",
          "2020",
          "2021"
         ],
         "xaxis": "x",
         "y": [
          552,
          458,
          600,
          1230,
          86,
          86,
          72,
          75,
          71,
          62,
          63,
          61,
          60,
          54,
          51,
          50,
          52
         ],
         "yaxis": "y"
        }
       ],
       "layout": {
        "legend": {
         "title": {
          "text": "Carburant"
         },
         "tracegroupgap": 0
        },
        "margin": {
         "t": 60
        },
        "template": {
         "data": {
          "bar": [
           {
            "error_x": {
             "color": "#2a3f5f"
            },
            "error_y": {
             "color": "#2a3f5f"
            },
            "marker": {
             "line": {
              "color": "#E5ECF6",
              "width": 0.5
             },
             "pattern": {
              "fillmode": "overlay",
              "size": 10,
              "solidity": 0.2
             }
            },
            "type": "bar"
           }
          ],
          "barpolar": [
           {
            "marker": {
             "line": {
              "color": "#E5ECF6",
              "width": 0.5
             },
             "pattern": {
              "fillmode": "overlay",
              "size": 10,
              "solidity": 0.2
             }
            },
            "type": "barpolar"
           }
          ],
          "carpet": [
           {
            "aaxis": {
             "endlinecolor": "#2a3f5f",
             "gridcolor": "white",
             "linecolor": "white",
             "minorgridcolor": "white",
             "startlinecolor": "#2a3f5f"
            },
            "baxis": {
             "endlinecolor": "#2a3f5f",
             "gridcolor": "white",
             "linecolor": "white",
             "minorgridcolor": "white",
             "startlinecolor": "#2a3f5f"
            },
            "type": "carpet"
           }
          ],
          "choropleth": [
           {
            "colorbar": {
             "outlinewidth": 0,
             "ticks": ""
            },
            "type": "choropleth"
           }
          ],
          "contour": [
           {
            "colorbar": {
             "outlinewidth": 0,
             "ticks": ""
            },
            "colorscale": [
             [
              0,
              "#0d0887"
             ],
             [
              0.1111111111111111,
              "#46039f"
             ],
             [
              0.2222222222222222,
              "#7201a8"
             ],
             [
              0.3333333333333333,
              "#9c179e"
             ],
             [
              0.4444444444444444,
              "#bd3786"
             ],
             [
              0.5555555555555556,
              "#d8576b"
             ],
             [
              0.6666666666666666,
              "#ed7953"
             ],
             [
              0.7777777777777778,
              "#fb9f3a"
             ],
             [
              0.8888888888888888,
              "#fdca26"
             ],
             [
              1,
              "#f0f921"
             ]
            ],
            "type": "contour"
           }
          ],
          "contourcarpet": [
           {
            "colorbar": {
             "outlinewidth": 0,
             "ticks": ""
            },
            "type": "contourcarpet"
           }
          ],
          "heatmap": [
           {
            "colorbar": {
             "outlinewidth": 0,
             "ticks": ""
            },
            "colorscale": [
             [
              0,
              "#0d0887"
             ],
             [
              0.1111111111111111,
              "#46039f"
             ],
             [
              0.2222222222222222,
              "#7201a8"
             ],
             [
              0.3333333333333333,
              "#9c179e"
             ],
             [
              0.4444444444444444,
              "#bd3786"
             ],
             [
              0.5555555555555556,
              "#d8576b"
             ],
             [
              0.6666666666666666,
              "#ed7953"
             ],
             [
              0.7777777777777778,
              "#fb9f3a"
             ],
             [
              0.8888888888888888,
              "#fdca26"
             ],
             [
              1,
              "#f0f921"
             ]
            ],
            "type": "heatmap"
           }
          ],
          "heatmapgl": [
           {
            "colorbar": {
             "outlinewidth": 0,
             "ticks": ""
            },
            "colorscale": [
             [
              0,
              "#0d0887"
             ],
             [
              0.1111111111111111,
              "#46039f"
             ],
             [
              0.2222222222222222,
              "#7201a8"
             ],
             [
              0.3333333333333333,
              "#9c179e"
             ],
             [
              0.4444444444444444,
              "#bd3786"
             ],
             [
              0.5555555555555556,
              "#d8576b"
             ],
             [
              0.6666666666666666,
              "#ed7953"
             ],
             [
              0.7777777777777778,
              "#fb9f3a"
             ],
             [
              0.8888888888888888,
              "#fdca26"
             ],
             [
              1,
              "#f0f921"
             ]
            ],
            "type": "heatmapgl"
           }
          ],
          "histogram": [
           {
            "marker": {
             "pattern": {
              "fillmode": "overlay",
              "size": 10,
              "solidity": 0.2
             }
            },
            "type": "histogram"
           }
          ],
          "histogram2d": [
           {
            "colorbar": {
             "outlinewidth": 0,
             "ticks": ""
            },
            "colorscale": [
             [
              0,
              "#0d0887"
             ],
             [
              0.1111111111111111,
              "#46039f"
             ],
             [
              0.2222222222222222,
              "#7201a8"
             ],
             [
              0.3333333333333333,
              "#9c179e"
             ],
             [
              0.4444444444444444,
              "#bd3786"
             ],
             [
              0.5555555555555556,
              "#d8576b"
             ],
             [
              0.6666666666666666,
              "#ed7953"
             ],
             [
              0.7777777777777778,
              "#fb9f3a"
             ],
             [
              0.8888888888888888,
              "#fdca26"
             ],
             [
              1,
              "#f0f921"
             ]
            ],
            "type": "histogram2d"
           }
          ],
          "histogram2dcontour": [
           {
            "colorbar": {
             "outlinewidth": 0,
             "ticks": ""
            },
            "colorscale": [
             [
              0,
              "#0d0887"
             ],
             [
              0.1111111111111111,
              "#46039f"
             ],
             [
              0.2222222222222222,
              "#7201a8"
             ],
             [
              0.3333333333333333,
              "#9c179e"
             ],
             [
              0.4444444444444444,
              "#bd3786"
             ],
             [
              0.5555555555555556,
              "#d8576b"
             ],
             [
              0.6666666666666666,
              "#ed7953"
             ],
             [
              0.7777777777777778,
              "#fb9f3a"
             ],
             [
              0.8888888888888888,
              "#fdca26"
             ],
             [
              1,
              "#f0f921"
             ]
            ],
            "type": "histogram2dcontour"
           }
          ],
          "mesh3d": [
           {
            "colorbar": {
             "outlinewidth": 0,
             "ticks": ""
            },
            "type": "mesh3d"
           }
          ],
          "parcoords": [
           {
            "line": {
             "colorbar": {
              "outlinewidth": 0,
              "ticks": ""
             }
            },
            "type": "parcoords"
           }
          ],
          "pie": [
           {
            "automargin": true,
            "type": "pie"
           }
          ],
          "scatter": [
           {
            "marker": {
             "colorbar": {
              "outlinewidth": 0,
              "ticks": ""
             }
            },
            "type": "scatter"
           }
          ],
          "scatter3d": [
           {
            "line": {
             "colorbar": {
              "outlinewidth": 0,
              "ticks": ""
             }
            },
            "marker": {
             "colorbar": {
              "outlinewidth": 0,
              "ticks": ""
             }
            },
            "type": "scatter3d"
           }
          ],
          "scattercarpet": [
           {
            "marker": {
             "colorbar": {
              "outlinewidth": 0,
              "ticks": ""
             }
            },
            "type": "scattercarpet"
           }
          ],
          "scattergeo": [
           {
            "marker": {
             "colorbar": {
              "outlinewidth": 0,
              "ticks": ""
             }
            },
            "type": "scattergeo"
           }
          ],
          "scattergl": [
           {
            "marker": {
             "colorbar": {
              "outlinewidth": 0,
              "ticks": ""
             }
            },
            "type": "scattergl"
           }
          ],
          "scattermapbox": [
           {
            "marker": {
             "colorbar": {
              "outlinewidth": 0,
              "ticks": ""
             }
            },
            "type": "scattermapbox"
           }
          ],
          "scatterpolar": [
           {
            "marker": {
             "colorbar": {
              "outlinewidth": 0,
              "ticks": ""
             }
            },
            "type": "scatterpolar"
           }
          ],
          "scatterpolargl": [
           {
            "marker": {
             "colorbar": {
              "outlinewidth": 0,
              "ticks": ""
             }
            },
            "type": "scatterpolargl"
           }
          ],
          "scatterternary": [
           {
            "marker": {
             "colorbar": {
              "outlinewidth": 0,
              "ticks": ""
             }
            },
            "type": "scatterternary"
           }
          ],
          "surface": [
           {
            "colorbar": {
             "outlinewidth": 0,
             "ticks": ""
            },
            "colorscale": [
             [
              0,
              "#0d0887"
             ],
             [
              0.1111111111111111,
              "#46039f"
             ],
             [
              0.2222222222222222,
              "#7201a8"
             ],
             [
              0.3333333333333333,
              "#9c179e"
             ],
             [
              0.4444444444444444,
              "#bd3786"
             ],
             [
              0.5555555555555556,
              "#d8576b"
             ],
             [
              0.6666666666666666,
              "#ed7953"
             ],
             [
              0.7777777777777778,
              "#fb9f3a"
             ],
             [
              0.8888888888888888,
              "#fdca26"
             ],
             [
              1,
              "#f0f921"
             ]
            ],
            "type": "surface"
           }
          ],
          "table": [
           {
            "cells": {
             "fill": {
              "color": "#EBF0F8"
             },
             "line": {
              "color": "white"
             }
            },
            "header": {
             "fill": {
              "color": "#C8D4E3"
             },
             "line": {
              "color": "white"
             }
            },
            "type": "table"
           }
          ]
         },
         "layout": {
          "annotationdefaults": {
           "arrowcolor": "#2a3f5f",
           "arrowhead": 0,
           "arrowwidth": 1
          },
          "autotypenumbers": "strict",
          "coloraxis": {
           "colorbar": {
            "outlinewidth": 0,
            "ticks": ""
           }
          },
          "colorscale": {
           "diverging": [
            [
             0,
             "#8e0152"
            ],
            [
             0.1,
             "#c51b7d"
            ],
            [
             0.2,
             "#de77ae"
            ],
            [
             0.3,
             "#f1b6da"
            ],
            [
             0.4,
             "#fde0ef"
            ],
            [
             0.5,
             "#f7f7f7"
            ],
            [
             0.6,
             "#e6f5d0"
            ],
            [
             0.7,
             "#b8e186"
            ],
            [
             0.8,
             "#7fbc41"
            ],
            [
             0.9,
             "#4d9221"
            ],
            [
             1,
             "#276419"
            ]
           ],
           "sequential": [
            [
             0,
             "#0d0887"
            ],
            [
             0.1111111111111111,
             "#46039f"
            ],
            [
             0.2222222222222222,
             "#7201a8"
            ],
            [
             0.3333333333333333,
             "#9c179e"
            ],
            [
             0.4444444444444444,
             "#bd3786"
            ],
            [
             0.5555555555555556,
             "#d8576b"
            ],
            [
             0.6666666666666666,
             "#ed7953"
            ],
            [
             0.7777777777777778,
             "#fb9f3a"
            ],
            [
             0.8888888888888888,
             "#fdca26"
            ],
            [
             1,
             "#f0f921"
            ]
           ],
           "sequentialminus": [
            [
             0,
             "#0d0887"
            ],
            [
             0.1111111111111111,
             "#46039f"
            ],
            [
             0.2222222222222222,
             "#7201a8"
            ],
            [
             0.3333333333333333,
             "#9c179e"
            ],
            [
             0.4444444444444444,
             "#bd3786"
            ],
            [
             0.5555555555555556,
             "#d8576b"
            ],
            [
             0.6666666666666666,
             "#ed7953"
            ],
            [
             0.7777777777777778,
             "#fb9f3a"
            ],
            [
             0.8888888888888888,
             "#fdca26"
            ],
            [
             1,
             "#f0f921"
            ]
           ]
          },
          "colorway": [
           "#636efa",
           "#EF553B",
           "#00cc96",
           "#ab63fa",
           "#FFA15A",
           "#19d3f3",
           "#FF6692",
           "#B6E880",
           "#FF97FF",
           "#FECB52"
          ],
          "font": {
           "color": "#2a3f5f"
          },
          "geo": {
           "bgcolor": "white",
           "lakecolor": "white",
           "landcolor": "#E5ECF6",
           "showlakes": true,
           "showland": true,
           "subunitcolor": "white"
          },
          "hoverlabel": {
           "align": "left"
          },
          "hovermode": "closest",
          "mapbox": {
           "style": "light"
          },
          "paper_bgcolor": "white",
          "plot_bgcolor": "#E5ECF6",
          "polar": {
           "angularaxis": {
            "gridcolor": "white",
            "linecolor": "white",
            "ticks": ""
           },
           "bgcolor": "#E5ECF6",
           "radialaxis": {
            "gridcolor": "white",
            "linecolor": "white",
            "ticks": ""
           }
          },
          "scene": {
           "xaxis": {
            "backgroundcolor": "#E5ECF6",
            "gridcolor": "white",
            "gridwidth": 2,
            "linecolor": "white",
            "showbackground": true,
            "ticks": "",
            "zerolinecolor": "white"
           },
           "yaxis": {
            "backgroundcolor": "#E5ECF6",
            "gridcolor": "white",
            "gridwidth": 2,
            "linecolor": "white",
            "showbackground": true,
            "ticks": "",
            "zerolinecolor": "white"
           },
           "zaxis": {
            "backgroundcolor": "#E5ECF6",
            "gridcolor": "white",
            "gridwidth": 2,
            "linecolor": "white",
            "showbackground": true,
            "ticks": "",
            "zerolinecolor": "white"
           }
          },
          "shapedefaults": {
           "line": {
            "color": "#2a3f5f"
           }
          },
          "ternary": {
           "aaxis": {
            "gridcolor": "white",
            "linecolor": "white",
            "ticks": ""
           },
           "baxis": {
            "gridcolor": "white",
            "linecolor": "white",
            "ticks": ""
           },
           "bgcolor": "#E5ECF6",
           "caxis": {
            "gridcolor": "white",
            "linecolor": "white",
            "ticks": ""
           }
          },
          "title": {
           "x": 0.05
          },
          "xaxis": {
           "automargin": true,
           "gridcolor": "white",
           "linecolor": "white",
           "ticks": "",
           "title": {
            "standoff": 15
           },
           "zerolinecolor": "white",
           "zerolinewidth": 2
          },
          "yaxis": {
           "automargin": true,
           "gridcolor": "white",
           "linecolor": "white",
           "ticks": "",
           "title": {
            "standoff": 15
           },
           "zerolinecolor": "white",
           "zerolinewidth": 2
          }
         }
        },
        "xaxis": {
         "anchor": "y",
         "domain": [
          0,
          1
         ],
         "title": {
          "text": "Année"
         }
        },
        "yaxis": {
         "anchor": "x",
         "domain": [
          0,
          1
         ],
         "title": {
          "text": "values"
         },
         "type": "log"
        }
       }
      },
      "text/html": [
       "<div>                            <div id=\"8747669f-3099-45d3-a457-fb87b1f2f48f\" class=\"plotly-graph-div\" style=\"height:525px; width:100%;\"></div>            <script type=\"text/javascript\">                require([\"plotly\"], function(Plotly) {                    window.PLOTLYENV=window.PLOTLYENV || {};                                    if (document.getElementById(\"8747669f-3099-45d3-a457-fb87b1f2f48f\")) {                    Plotly.newPlot(                        \"8747669f-3099-45d3-a457-fb87b1f2f48f\",                        [{\"hovertemplate\":\"Carburant=Essence<br>Ann\\u00e9e=%{x}<br>values=%{y}<extra></extra>\",\"legendgroup\":\"Essence\",\"line\":{\"color\":\"#636efa\",\"dash\":\"solid\"},\"marker\":{\"symbol\":\"circle\"},\"mode\":\"lines\",\"name\":\"Essence\",\"orientation\":\"v\",\"showlegend\":true,\"x\":[\"2005\",\"2006\",\"2007\",\"2008\",\"2009\",\"2010\",\"2011\",\"2012\",\"2013\",\"2014\",\"2015\",\"2016\",\"2017\",\"2018\",\"2019\",\"2020\",\"2021\"],\"xaxis\":\"x\",\"y\":[588376,605189,615196,632082,638966,646481,659298,670718,677582,687524,697612,707703,716194,725731,729843,755597,770926],\"yaxis\":\"y\",\"type\":\"scatter\"},{\"hovertemplate\":\"Carburant=Diesel<br>Ann\\u00e9e=%{x}<br>values=%{y}<extra></extra>\",\"legendgroup\":\"Diesel\",\"line\":{\"color\":\"#EF553B\",\"dash\":\"solid\"},\"marker\":{\"symbol\":\"circle\"},\"mode\":\"lines\",\"name\":\"Diesel\",\"orientation\":\"v\",\"showlegend\":true,\"x\":[\"2005\",\"2006\",\"2007\",\"2008\",\"2009\",\"2010\",\"2011\",\"2012\",\"2013\",\"2014\",\"2015\",\"2016\",\"2017\",\"2018\",\"2019\",\"2020\",\"2021\"],\"xaxis\":\"x\",\"y\":[1139,1274,1614,1154,1112,1084,1064,1021,728,864,837,797,782,760,755,791,788],\"yaxis\":\"y\",\"type\":\"scatter\"},{\"hovertemplate\":\"Carburant=Essence-\\u00e9lectrique: hybride<br>Ann\\u00e9e=%{x}<br>values=%{y}<extra></extra>\",\"legendgroup\":\"Essence-\\u00e9lectrique: hybride\",\"line\":{\"color\":\"#00cc96\",\"dash\":\"solid\"},\"marker\":{\"symbol\":\"circle\"},\"mode\":\"lines\",\"name\":\"Essence-\\u00e9lectrique: hybride\",\"orientation\":\"v\",\"showlegend\":true,\"x\":[\"2005\",\"2006\",\"2007\",\"2008\",\"2009\",\"2010\",\"2011\",\"2012\",\"2013\",\"2014\",\"2015\",\"2016\",\"2017\",\"2018\",\"2019\",\"2020\",\"2021\"],\"xaxis\":\"x\",\"y\":[51,1,9,23,25,54,64,67,74,79,73,75,72,70,69,64,60],\"yaxis\":\"y\",\"type\":\"scatter\"},{\"hovertemplate\":\"Carburant=Diesel-\\u00e9lectrique: hybride<br>Ann\\u00e9e=%{x}<br>values=%{y}<extra></extra>\",\"legendgroup\":\"Diesel-\\u00e9lectrique: hybride\",\"line\":{\"color\":\"#ab63fa\",\"dash\":\"solid\"},\"marker\":{\"symbol\":\"circle\"},\"mode\":\"lines\",\"name\":\"Diesel-\\u00e9lectrique: hybride\",\"orientation\":\"v\",\"showlegend\":true,\"x\":[\"2005\",\"2006\",\"2007\",\"2008\",\"2009\",\"2010\",\"2011\",\"2012\",\"2013\",\"2014\",\"2015\",\"2016\",\"2017\",\"2018\",\"2019\",\"2020\",\"2021\"],\"xaxis\":\"x\",\"y\":[0,0,0,2,2,2,2,5,5,5,4,3,4,4,5,5,5],\"yaxis\":\"y\",\"type\":\"scatter\"},{\"hovertemplate\":\"Carburant=\\u00c9lectrique<br>Ann\\u00e9e=%{x}<br>values=%{y}<extra></extra>\",\"legendgroup\":\"\\u00c9lectrique\",\"line\":{\"color\":\"#FFA15A\",\"dash\":\"solid\"},\"marker\":{\"symbol\":\"circle\"},\"mode\":\"lines\",\"name\":\"\\u00c9lectrique\",\"orientation\":\"v\",\"showlegend\":true,\"x\":[\"2005\",\"2006\",\"2007\",\"2008\",\"2009\",\"2010\",\"2011\",\"2012\",\"2013\",\"2014\",\"2015\",\"2016\",\"2017\",\"2018\",\"2019\",\"2020\",\"2021\"],\"xaxis\":\"x\",\"y\":[1736,1729,1742,2047,2585,3493,5366,7930,9523,10675,11424,11732,12026,12712,13807,15065,16955],\"yaxis\":\"y\",\"type\":\"scatter\"},{\"hovertemplate\":\"Carburant=Gaz (monovalent et bivalent)<br>Ann\\u00e9e=%{x}<br>values=%{y}<extra></extra>\",\"legendgroup\":\"Gaz (monovalent et bivalent)\",\"line\":{\"color\":\"#19d3f3\",\"dash\":\"solid\"},\"marker\":{\"symbol\":\"circle\"},\"mode\":\"lines\",\"name\":\"Gaz (monovalent et bivalent)\",\"orientation\":\"v\",\"showlegend\":true,\"x\":[\"2005\",\"2006\",\"2007\",\"2008\",\"2009\",\"2010\",\"2011\",\"2012\",\"2013\",\"2014\",\"2015\",\"2016\",\"2017\",\"2018\",\"2019\",\"2020\",\"2021\"],\"xaxis\":\"x\",\"y\":[11,9,5,2,1,2,4,6,7,10,9,10,11,13,12,14,14],\"yaxis\":\"y\",\"type\":\"scatter\"},{\"hovertemplate\":\"Carburant=Autre<br>Ann\\u00e9e=%{x}<br>values=%{y}<extra></extra>\",\"legendgroup\":\"Autre\",\"line\":{\"color\":\"#FF6692\",\"dash\":\"solid\"},\"marker\":{\"symbol\":\"circle\"},\"mode\":\"lines\",\"name\":\"Autre\",\"orientation\":\"v\",\"showlegend\":true,\"x\":[\"2005\",\"2006\",\"2007\",\"2008\",\"2009\",\"2010\",\"2011\",\"2012\",\"2013\",\"2014\",\"2015\",\"2016\",\"2017\",\"2018\",\"2019\",\"2020\",\"2021\"],\"xaxis\":\"x\",\"y\":[552,458,600,1230,86,86,72,75,71,62,63,61,60,54,51,50,52],\"yaxis\":\"y\",\"type\":\"scatter\"}],                        {\"template\":{\"data\":{\"bar\":[{\"error_x\":{\"color\":\"#2a3f5f\"},\"error_y\":{\"color\":\"#2a3f5f\"},\"marker\":{\"line\":{\"color\":\"#E5ECF6\",\"width\":0.5},\"pattern\":{\"fillmode\":\"overlay\",\"size\":10,\"solidity\":0.2}},\"type\":\"bar\"}],\"barpolar\":[{\"marker\":{\"line\":{\"color\":\"#E5ECF6\",\"width\":0.5},\"pattern\":{\"fillmode\":\"overlay\",\"size\":10,\"solidity\":0.2}},\"type\":\"barpolar\"}],\"carpet\":[{\"aaxis\":{\"endlinecolor\":\"#2a3f5f\",\"gridcolor\":\"white\",\"linecolor\":\"white\",\"minorgridcolor\":\"white\",\"startlinecolor\":\"#2a3f5f\"},\"baxis\":{\"endlinecolor\":\"#2a3f5f\",\"gridcolor\":\"white\",\"linecolor\":\"white\",\"minorgridcolor\":\"white\",\"startlinecolor\":\"#2a3f5f\"},\"type\":\"carpet\"}],\"choropleth\":[{\"colorbar\":{\"outlinewidth\":0,\"ticks\":\"\"},\"type\":\"choropleth\"}],\"contour\":[{\"colorbar\":{\"outlinewidth\":0,\"ticks\":\"\"},\"colorscale\":[[0.0,\"#0d0887\"],[0.1111111111111111,\"#46039f\"],[0.2222222222222222,\"#7201a8\"],[0.3333333333333333,\"#9c179e\"],[0.4444444444444444,\"#bd3786\"],[0.5555555555555556,\"#d8576b\"],[0.6666666666666666,\"#ed7953\"],[0.7777777777777778,\"#fb9f3a\"],[0.8888888888888888,\"#fdca26\"],[1.0,\"#f0f921\"]],\"type\":\"contour\"}],\"contourcarpet\":[{\"colorbar\":{\"outlinewidth\":0,\"ticks\":\"\"},\"type\":\"contourcarpet\"}],\"heatmap\":[{\"colorbar\":{\"outlinewidth\":0,\"ticks\":\"\"},\"colorscale\":[[0.0,\"#0d0887\"],[0.1111111111111111,\"#46039f\"],[0.2222222222222222,\"#7201a8\"],[0.3333333333333333,\"#9c179e\"],[0.4444444444444444,\"#bd3786\"],[0.5555555555555556,\"#d8576b\"],[0.6666666666666666,\"#ed7953\"],[0.7777777777777778,\"#fb9f3a\"],[0.8888888888888888,\"#fdca26\"],[1.0,\"#f0f921\"]],\"type\":\"heatmap\"}],\"heatmapgl\":[{\"colorbar\":{\"outlinewidth\":0,\"ticks\":\"\"},\"colorscale\":[[0.0,\"#0d0887\"],[0.1111111111111111,\"#46039f\"],[0.2222222222222222,\"#7201a8\"],[0.3333333333333333,\"#9c179e\"],[0.4444444444444444,\"#bd3786\"],[0.5555555555555556,\"#d8576b\"],[0.6666666666666666,\"#ed7953\"],[0.7777777777777778,\"#fb9f3a\"],[0.8888888888888888,\"#fdca26\"],[1.0,\"#f0f921\"]],\"type\":\"heatmapgl\"}],\"histogram\":[{\"marker\":{\"pattern\":{\"fillmode\":\"overlay\",\"size\":10,\"solidity\":0.2}},\"type\":\"histogram\"}],\"histogram2d\":[{\"colorbar\":{\"outlinewidth\":0,\"ticks\":\"\"},\"colorscale\":[[0.0,\"#0d0887\"],[0.1111111111111111,\"#46039f\"],[0.2222222222222222,\"#7201a8\"],[0.3333333333333333,\"#9c179e\"],[0.4444444444444444,\"#bd3786\"],[0.5555555555555556,\"#d8576b\"],[0.6666666666666666,\"#ed7953\"],[0.7777777777777778,\"#fb9f3a\"],[0.8888888888888888,\"#fdca26\"],[1.0,\"#f0f921\"]],\"type\":\"histogram2d\"}],\"histogram2dcontour\":[{\"colorbar\":{\"outlinewidth\":0,\"ticks\":\"\"},\"colorscale\":[[0.0,\"#0d0887\"],[0.1111111111111111,\"#46039f\"],[0.2222222222222222,\"#7201a8\"],[0.3333333333333333,\"#9c179e\"],[0.4444444444444444,\"#bd3786\"],[0.5555555555555556,\"#d8576b\"],[0.6666666666666666,\"#ed7953\"],[0.7777777777777778,\"#fb9f3a\"],[0.8888888888888888,\"#fdca26\"],[1.0,\"#f0f921\"]],\"type\":\"histogram2dcontour\"}],\"mesh3d\":[{\"colorbar\":{\"outlinewidth\":0,\"ticks\":\"\"},\"type\":\"mesh3d\"}],\"parcoords\":[{\"line\":{\"colorbar\":{\"outlinewidth\":0,\"ticks\":\"\"}},\"type\":\"parcoords\"}],\"pie\":[{\"automargin\":true,\"type\":\"pie\"}],\"scatter\":[{\"marker\":{\"colorbar\":{\"outlinewidth\":0,\"ticks\":\"\"}},\"type\":\"scatter\"}],\"scatter3d\":[{\"line\":{\"colorbar\":{\"outlinewidth\":0,\"ticks\":\"\"}},\"marker\":{\"colorbar\":{\"outlinewidth\":0,\"ticks\":\"\"}},\"type\":\"scatter3d\"}],\"scattercarpet\":[{\"marker\":{\"colorbar\":{\"outlinewidth\":0,\"ticks\":\"\"}},\"type\":\"scattercarpet\"}],\"scattergeo\":[{\"marker\":{\"colorbar\":{\"outlinewidth\":0,\"ticks\":\"\"}},\"type\":\"scattergeo\"}],\"scattergl\":[{\"marker\":{\"colorbar\":{\"outlinewidth\":0,\"ticks\":\"\"}},\"type\":\"scattergl\"}],\"scattermapbox\":[{\"marker\":{\"colorbar\":{\"outlinewidth\":0,\"ticks\":\"\"}},\"type\":\"scattermapbox\"}],\"scatterpolar\":[{\"marker\":{\"colorbar\":{\"outlinewidth\":0,\"ticks\":\"\"}},\"type\":\"scatterpolar\"}],\"scatterpolargl\":[{\"marker\":{\"colorbar\":{\"outlinewidth\":0,\"ticks\":\"\"}},\"type\":\"scatterpolargl\"}],\"scatterternary\":[{\"marker\":{\"colorbar\":{\"outlinewidth\":0,\"ticks\":\"\"}},\"type\":\"scatterternary\"}],\"surface\":[{\"colorbar\":{\"outlinewidth\":0,\"ticks\":\"\"},\"colorscale\":[[0.0,\"#0d0887\"],[0.1111111111111111,\"#46039f\"],[0.2222222222222222,\"#7201a8\"],[0.3333333333333333,\"#9c179e\"],[0.4444444444444444,\"#bd3786\"],[0.5555555555555556,\"#d8576b\"],[0.6666666666666666,\"#ed7953\"],[0.7777777777777778,\"#fb9f3a\"],[0.8888888888888888,\"#fdca26\"],[1.0,\"#f0f921\"]],\"type\":\"surface\"}],\"table\":[{\"cells\":{\"fill\":{\"color\":\"#EBF0F8\"},\"line\":{\"color\":\"white\"}},\"header\":{\"fill\":{\"color\":\"#C8D4E3\"},\"line\":{\"color\":\"white\"}},\"type\":\"table\"}]},\"layout\":{\"annotationdefaults\":{\"arrowcolor\":\"#2a3f5f\",\"arrowhead\":0,\"arrowwidth\":1},\"autotypenumbers\":\"strict\",\"coloraxis\":{\"colorbar\":{\"outlinewidth\":0,\"ticks\":\"\"}},\"colorscale\":{\"diverging\":[[0,\"#8e0152\"],[0.1,\"#c51b7d\"],[0.2,\"#de77ae\"],[0.3,\"#f1b6da\"],[0.4,\"#fde0ef\"],[0.5,\"#f7f7f7\"],[0.6,\"#e6f5d0\"],[0.7,\"#b8e186\"],[0.8,\"#7fbc41\"],[0.9,\"#4d9221\"],[1,\"#276419\"]],\"sequential\":[[0.0,\"#0d0887\"],[0.1111111111111111,\"#46039f\"],[0.2222222222222222,\"#7201a8\"],[0.3333333333333333,\"#9c179e\"],[0.4444444444444444,\"#bd3786\"],[0.5555555555555556,\"#d8576b\"],[0.6666666666666666,\"#ed7953\"],[0.7777777777777778,\"#fb9f3a\"],[0.8888888888888888,\"#fdca26\"],[1.0,\"#f0f921\"]],\"sequentialminus\":[[0.0,\"#0d0887\"],[0.1111111111111111,\"#46039f\"],[0.2222222222222222,\"#7201a8\"],[0.3333333333333333,\"#9c179e\"],[0.4444444444444444,\"#bd3786\"],[0.5555555555555556,\"#d8576b\"],[0.6666666666666666,\"#ed7953\"],[0.7777777777777778,\"#fb9f3a\"],[0.8888888888888888,\"#fdca26\"],[1.0,\"#f0f921\"]]},\"colorway\":[\"#636efa\",\"#EF553B\",\"#00cc96\",\"#ab63fa\",\"#FFA15A\",\"#19d3f3\",\"#FF6692\",\"#B6E880\",\"#FF97FF\",\"#FECB52\"],\"font\":{\"color\":\"#2a3f5f\"},\"geo\":{\"bgcolor\":\"white\",\"lakecolor\":\"white\",\"landcolor\":\"#E5ECF6\",\"showlakes\":true,\"showland\":true,\"subunitcolor\":\"white\"},\"hoverlabel\":{\"align\":\"left\"},\"hovermode\":\"closest\",\"mapbox\":{\"style\":\"light\"},\"paper_bgcolor\":\"white\",\"plot_bgcolor\":\"#E5ECF6\",\"polar\":{\"angularaxis\":{\"gridcolor\":\"white\",\"linecolor\":\"white\",\"ticks\":\"\"},\"bgcolor\":\"#E5ECF6\",\"radialaxis\":{\"gridcolor\":\"white\",\"linecolor\":\"white\",\"ticks\":\"\"}},\"scene\":{\"xaxis\":{\"backgroundcolor\":\"#E5ECF6\",\"gridcolor\":\"white\",\"gridwidth\":2,\"linecolor\":\"white\",\"showbackground\":true,\"ticks\":\"\",\"zerolinecolor\":\"white\"},\"yaxis\":{\"backgroundcolor\":\"#E5ECF6\",\"gridcolor\":\"white\",\"gridwidth\":2,\"linecolor\":\"white\",\"showbackground\":true,\"ticks\":\"\",\"zerolinecolor\":\"white\"},\"zaxis\":{\"backgroundcolor\":\"#E5ECF6\",\"gridcolor\":\"white\",\"gridwidth\":2,\"linecolor\":\"white\",\"showbackground\":true,\"ticks\":\"\",\"zerolinecolor\":\"white\"}},\"shapedefaults\":{\"line\":{\"color\":\"#2a3f5f\"}},\"ternary\":{\"aaxis\":{\"gridcolor\":\"white\",\"linecolor\":\"white\",\"ticks\":\"\"},\"baxis\":{\"gridcolor\":\"white\",\"linecolor\":\"white\",\"ticks\":\"\"},\"bgcolor\":\"#E5ECF6\",\"caxis\":{\"gridcolor\":\"white\",\"linecolor\":\"white\",\"ticks\":\"\"}},\"title\":{\"x\":0.05},\"xaxis\":{\"automargin\":true,\"gridcolor\":\"white\",\"linecolor\":\"white\",\"ticks\":\"\",\"title\":{\"standoff\":15},\"zerolinecolor\":\"white\",\"zerolinewidth\":2},\"yaxis\":{\"automargin\":true,\"gridcolor\":\"white\",\"linecolor\":\"white\",\"ticks\":\"\",\"title\":{\"standoff\":15},\"zerolinecolor\":\"white\",\"zerolinewidth\":2}}},\"xaxis\":{\"anchor\":\"y\",\"domain\":[0.0,1.0],\"title\":{\"text\":\"Ann\\u00e9e\"}},\"yaxis\":{\"anchor\":\"x\",\"domain\":[0.0,1.0],\"title\":{\"text\":\"values\"},\"type\":\"log\"},\"legend\":{\"title\":{\"text\":\"Carburant\"},\"tracegroupgap\":0},\"margin\":{\"t\":60}},                        {\"responsive\": true}                    ).then(function(){\n",
       "                            \n",
       "var gd = document.getElementById('8747669f-3099-45d3-a457-fb87b1f2f48f');\n",
       "var x = new MutationObserver(function (mutations, observer) {{\n",
       "        var display = window.getComputedStyle(gd).display;\n",
       "        if (!display || display === 'none') {{\n",
       "            console.log([gd, 'removed!']);\n",
       "            Plotly.purge(gd);\n",
       "            observer.disconnect();\n",
       "        }}\n",
       "}});\n",
       "\n",
       "// Listen for the removal of the full notebook cells\n",
       "var notebookContainer = gd.closest('#notebook-container');\n",
       "if (notebookContainer) {{\n",
       "    x.observe(notebookContainer, {childList: true});\n",
       "}}\n",
       "\n",
       "// Listen for the clearing of the current output cell\n",
       "var outputEl = gd.closest('.output');\n",
       "if (outputEl) {{\n",
       "    x.observe(outputEl, {childList: true});\n",
       "}}\n",
       "\n",
       "                        })                };                });            </script>        </div>"
      ]
     },
     "metadata": {},
     "output_type": "display_data"
    }
   ],
   "source": [
    "import plotly.express as px\n",
    "\n",
    "fig = px.line(df, x=\"Année\", y=\"values\", color='Carburant')\n",
    "fig.update_layout(yaxis_type=\"log\")\n",
    "plot.update_layout(\n",
    "    xaxis=dict(\n",
    "        rangeselector=dict(\n",
    "            buttons=list([\n",
    "                dict(count=1,\n",
    "                    step=\"day\",\n",
    "                    stepmode=\"backward\"),\n",
    "            ])\n",
    "        ),\n",
    "        rangeslider=dict(\n",
    "            visible=True\n",
    "        ),\n",
    "    )\n",
    ")\n",
    "fig.show()"
   ]
  },
  {
   "cell_type": "code",
   "execution_count": 6,
   "id": "9206dee1",
   "metadata": {},
   "outputs": [
    {
     "name": "stdout",
     "output_type": "stream",
     "text": [
      "Using data directory: /home/sbrunner/.bokeh/data\n",
      "Skipping 'CGM.csv' (checksum match)\n",
      "Skipping 'US_Counties.zip' (checksum match)\n",
      "Skipping 'us_cities.json' (checksum match)\n",
      "Skipping 'unemployment09.csv' (checksum match)\n",
      "Skipping 'AAPL.csv' (checksum match)\n",
      "Skipping 'FB.csv' (checksum match)\n",
      "Skipping 'GOOG.csv' (checksum match)\n",
      "Skipping 'IBM.csv' (checksum match)\n",
      "Skipping 'MSFT.csv' (checksum match)\n",
      "Skipping 'WPP2012_SA_DB03_POPULATION_QUINQUENNIAL.zip' (checksum match)\n",
      "Skipping 'gapminder_fertility.csv' (checksum match)\n",
      "Skipping 'gapminder_population.csv' (checksum match)\n",
      "Skipping 'gapminder_life_expectancy.csv' (checksum match)\n",
      "Skipping 'gapminder_regions.csv' (checksum match)\n",
      "Skipping 'world_cities.zip' (checksum match)\n",
      "Skipping 'airports.json' (checksum match)\n",
      "Skipping 'movies.db.zip' (checksum match)\n",
      "Skipping 'airports.csv' (checksum match)\n",
      "Skipping 'routes.csv' (checksum match)\n",
      "Skipping 'haarcascade_frontalface_default.xml' (checksum match)\n"
     ]
    }
   ],
   "source": [
    "import bokeh.sampledata\n",
    "bokeh.sampledata.download()"
   ]
  },
  {
   "cell_type": "code",
   "execution_count": 61,
   "id": "e4255181",
   "metadata": {},
   "outputs": [
    {
     "data": {
      "text/html": [
       "\n",
       "\n",
       "\n",
       "\n",
       "\n",
       "\n",
       "  <div class=\"bk-root\" id=\"ad5a7a6f-718d-4b99-8e7d-65edac67a228\" data-root-id=\"3940\"></div>\n"
      ]
     },
     "metadata": {},
     "output_type": "display_data"
    },
    {
     "data": {
      "application/javascript": [
       "(function(root) {\n",
       "  function embed_document(root) {\n",
       "    \n",
       "  const docs_json = {\"854f6527-ab5a-43d4-908c-c01b3cb21371\":{\"defs\":[],\"roots\":{\"references\":[{\"attributes\":{\"children\":[{\"id\":\"3661\"},{\"id\":\"3696\"}]},\"id\":\"3940\",\"type\":\"Column\"},{\"attributes\":{},\"id\":\"4136\",\"type\":\"UnionRenderers\"},{\"attributes\":{\"coordinates\":null,\"group\":null,\"text\":\"Drag the box to change the range above.\"},\"id\":\"3697\",\"type\":\"Title\"},{\"attributes\":{\"line_color\":\"#2ca02c\",\"line_width\":2,\"x\":{\"field\":\"__x__values\"},\"y\":{\"field\":\"Essence-\\u00e9lectrique: hybride\"}},\"id\":\"3770\",\"type\":\"Line\"},{\"attributes\":{},\"id\":\"3704\",\"type\":\"LinearScale\"},{\"attributes\":{},\"id\":\"4137\",\"type\":\"Selection\"},{\"attributes\":{\"coordinates\":null,\"data_source\":{\"id\":\"3713\"},\"glyph\":{\"id\":\"3715\"},\"group\":null,\"hover_glyph\":null,\"muted_glyph\":{\"id\":\"3717\"},\"nonselection_glyph\":{\"id\":\"3716\"},\"view\":{\"id\":\"3719\"}},\"id\":\"3718\",\"type\":\"GlyphRenderer\"},{\"attributes\":{\"data\":{\"Autre\":[552,458,600,1230,86,86,72,75,71,62,63,61,60,54,51,50,52],\"Diesel\":[1139,1274,1614,1154,1112,1084,1064,1021,728,864,837,797,782,760,755,791,788],\"Diesel-\\u00e9lectrique: hybride\":[0,0,0,2,2,2,2,5,5,5,4,3,4,4,5,5,5],\"Essence\":[588376,605189,615196,632082,638966,646481,659298,670718,677582,687524,697612,707703,716194,725731,729843,755597,770926],\"Essence-\\u00e9lectrique: hybride\":[51,1,9,23,25,54,64,67,74,79,73,75,72,70,69,64,60],\"Gaz (monovalent et bivalent)\":[11,9,5,2,1,2,4,6,7,10,9,10,11,13,12,14,14],\"__x__values\":[0,1,2,3,4,5,6,7,8,9,10,11,12,13,14,15,16],\"__x__values_original\":[\"2005\",\"2006\",\"2007\",\"2008\",\"2009\",\"2010\",\"2011\",\"2012\",\"2013\",\"2014\",\"2015\",\"2016\",\"2017\",\"2018\",\"2019\",\"2020\",\"2021\"],\"\\u00c9lectrique\":[1736,1729,1742,2047,2585,3493,5366,7930,9523,10675,11424,11732,12026,12712,13807,15065,16955]},\"selected\":{\"id\":\"3727\"},\"selection_policy\":{\"id\":\"3726\"}},\"id\":\"3713\",\"type\":\"ColumnDataSource\"},{\"attributes\":{\"active_multi\":{\"id\":\"3708\"},\"tools\":[{\"id\":\"3708\"}]},\"id\":\"3706\",\"type\":\"Toolbar\"},{\"attributes\":{\"callback\":null,\"mode\":\"vline\",\"renderers\":[{\"id\":\"3718\"}],\"tooltips\":[[\"Date\",\"@__x__values_original\"],[\"Essence\",\"@{Essence}\"]]},\"id\":\"3731\",\"type\":\"HoverTool\"},{\"attributes\":{\"click_policy\":\"hide\",\"coordinates\":null,\"group\":null,\"items\":[{\"id\":\"3730\"},{\"id\":\"3758\"},{\"id\":\"3788\"},{\"id\":\"3820\"},{\"id\":\"3854\"},{\"id\":\"3890\"},{\"id\":\"3928\"}]},\"id\":\"3729\",\"type\":\"Legend\"},{\"attributes\":{\"line_alpha\":0.1,\"line_color\":\"#1f77b4\",\"line_width\":2,\"x\":{\"field\":\"__x__values\"},\"y\":{\"field\":\"Essence\"}},\"id\":\"3716\",\"type\":\"Line\"},{\"attributes\":{\"line_color\":\"#1f77b4\",\"line_width\":2,\"x\":{\"field\":\"__x__values\"},\"y\":{\"field\":\"Essence\"}},\"id\":\"3715\",\"type\":\"Line\"},{\"attributes\":{\"coordinates\":null,\"data_source\":{\"id\":\"3931\"},\"glyph\":{\"id\":\"3933\"},\"group\":null,\"hover_glyph\":null,\"muted_glyph\":{\"id\":\"3935\"},\"nonselection_glyph\":{\"id\":\"3934\"},\"view\":{\"id\":\"3937\"}},\"id\":\"3936\",\"type\":\"GlyphRenderer\"},{\"attributes\":{\"data\":{\"Autre\":[552,458,600,1230,86,86,72,75,71,62,63,61,60,54,51,50,52],\"Diesel\":[1139,1274,1614,1154,1112,1084,1064,1021,728,864,837,797,782,760,755,791,788],\"Diesel-\\u00e9lectrique: hybride\":[0,0,0,2,2,2,2,5,5,5,4,3,4,4,5,5,5],\"Essence\":[588376,605189,615196,632082,638966,646481,659298,670718,677582,687524,697612,707703,716194,725731,729843,755597,770926],\"Essence-\\u00e9lectrique: hybride\":[51,1,9,23,25,54,64,67,74,79,73,75,72,70,69,64,60],\"Gaz (monovalent et bivalent)\":[11,9,5,2,1,2,4,6,7,10,9,10,11,13,12,14,14],\"__x__values\":[0,1,2,3,4,5,6,7,8,9,10,11,12,13,14,15,16],\"__x__values_original\":[\"2005\",\"2006\",\"2007\",\"2008\",\"2009\",\"2010\",\"2011\",\"2012\",\"2013\",\"2014\",\"2015\",\"2016\",\"2017\",\"2018\",\"2019\",\"2020\",\"2021\"],\"\\u00c9lectrique\":[1736,1729,1742,2047,2585,3493,5366,7930,9523,10675,11424,11732,12026,12712,13807,15065,16955]},\"selected\":{\"id\":\"4139\"},\"selection_policy\":{\"id\":\"4138\"}},\"id\":\"3931\",\"type\":\"ColumnDataSource\"},{\"attributes\":{},\"id\":\"3726\",\"type\":\"UnionRenderers\"},{\"attributes\":{\"line_alpha\":0.1,\"line_color\":\"#e377c2\",\"x\":{\"field\":\"__x__values\"},\"y\":{\"field\":\"Autre\"}},\"id\":\"3934\",\"type\":\"Line\"},{\"attributes\":{},\"id\":\"4138\",\"type\":\"UnionRenderers\"},{\"attributes\":{\"line_color\":\"#e377c2\",\"x\":{\"field\":\"__x__values\"},\"y\":{\"field\":\"Autre\"}},\"id\":\"3933\",\"type\":\"Line\"},{\"attributes\":{},\"id\":\"4139\",\"type\":\"Selection\"},{\"attributes\":{\"line_alpha\":0.2,\"line_color\":\"#e377c2\",\"x\":{\"field\":\"__x__values\"},\"y\":{\"field\":\"Autre\"}},\"id\":\"3935\",\"type\":\"Line\"},{\"attributes\":{\"source\":{\"id\":\"3931\"}},\"id\":\"3937\",\"type\":\"CDSView\"},{\"attributes\":{\"line_alpha\":0.2,\"line_color\":\"#1f77b4\",\"line_width\":2,\"x\":{\"field\":\"__x__values\"},\"y\":{\"field\":\"Essence\"}},\"id\":\"3717\",\"type\":\"Line\"},{\"attributes\":{\"ticks\":[0,1,2,3,4,5,6,7,8,9,10,11,12,13,14,15,16]},\"id\":\"3938\",\"type\":\"FixedTicker\"},{\"attributes\":{\"source\":{\"id\":\"3713\"}},\"id\":\"3719\",\"type\":\"CDSView\"},{\"attributes\":{\"callback\":null,\"mode\":\"vline\",\"renderers\":[{\"id\":\"3745\"}],\"tooltips\":[[\"Date\",\"@__x__values_original\"],[\"Diesel\",\"@{Diesel}\"]]},\"id\":\"3759\",\"type\":\"HoverTool\"},{\"attributes\":{\"label\":{\"value\":\" Essence\"},\"renderers\":[{\"id\":\"3718\"}]},\"id\":\"3730\",\"type\":\"LegendItem\"},{\"attributes\":{\"line_alpha\":0.1,\"line_color\":\"#1f77b4\",\"x\":{\"field\":\"__x__values\"},\"y\":{\"field\":\"Essence\"}},\"id\":\"3736\",\"type\":\"Line\"},{\"attributes\":{\"data\":{\"Autre\":[552,458,600,1230,86,86,72,75,71,62,63,61,60,54,51,50,52],\"Diesel\":[1139,1274,1614,1154,1112,1084,1064,1021,728,864,837,797,782,760,755,791,788],\"Diesel-\\u00e9lectrique: hybride\":[0,0,0,2,2,2,2,5,5,5,4,3,4,4,5,5,5],\"Essence\":[588376,605189,615196,632082,638966,646481,659298,670718,677582,687524,697612,707703,716194,725731,729843,755597,770926],\"Essence-\\u00e9lectrique: hybride\":[51,1,9,23,25,54,64,67,74,79,73,75,72,70,69,64,60],\"Gaz (monovalent et bivalent)\":[11,9,5,2,1,2,4,6,7,10,9,10,11,13,12,14,14],\"__x__values\":[0,1,2,3,4,5,6,7,8,9,10,11,12,13,14,15,16],\"__x__values_original\":[\"2005\",\"2006\",\"2007\",\"2008\",\"2009\",\"2010\",\"2011\",\"2012\",\"2013\",\"2014\",\"2015\",\"2016\",\"2017\",\"2018\",\"2019\",\"2020\",\"2021\"],\"\\u00c9lectrique\":[1736,1729,1742,2047,2585,3493,5366,7930,9523,10675,11424,11732,12026,12712,13807,15065,16955]},\"selected\":{\"id\":\"4127\"},\"selection_policy\":{\"id\":\"4126\"}},\"id\":\"3733\",\"type\":\"ColumnDataSource\"},{\"attributes\":{\"coordinates\":null,\"data_source\":{\"id\":\"3791\"},\"glyph\":{\"id\":\"3793\"},\"group\":null,\"hover_glyph\":null,\"muted_glyph\":{\"id\":\"3795\"},\"nonselection_glyph\":{\"id\":\"3794\"},\"view\":{\"id\":\"3797\"}},\"id\":\"3796\",\"type\":\"GlyphRenderer\"},{\"attributes\":{\"line_color\":\"#1f77b4\",\"x\":{\"field\":\"__x__values\"},\"y\":{\"field\":\"Essence\"}},\"id\":\"3735\",\"type\":\"Line\"},{\"attributes\":{\"line_alpha\":0.2,\"line_color\":\"#1f77b4\",\"x\":{\"field\":\"__x__values\"},\"y\":{\"field\":\"Essence\"}},\"id\":\"3737\",\"type\":\"Line\"},{\"attributes\":{\"source\":{\"id\":\"3733\"}},\"id\":\"3739\",\"type\":\"CDSView\"},{\"attributes\":{\"coordinates\":null,\"data_source\":{\"id\":\"3740\"},\"glyph\":{\"id\":\"3742\"},\"group\":null,\"hover_glyph\":null,\"muted_glyph\":{\"id\":\"3744\"},\"nonselection_glyph\":{\"id\":\"3743\"},\"view\":{\"id\":\"3746\"}},\"id\":\"3745\",\"type\":\"GlyphRenderer\"},{\"attributes\":{\"data\":{\"Autre\":[552,458,600,1230,86,86,72,75,71,62,63,61,60,54,51,50,52],\"Diesel\":[1139,1274,1614,1154,1112,1084,1064,1021,728,864,837,797,782,760,755,791,788],\"Diesel-\\u00e9lectrique: hybride\":[0,0,0,2,2,2,2,5,5,5,4,3,4,4,5,5,5],\"Essence\":[588376,605189,615196,632082,638966,646481,659298,670718,677582,687524,697612,707703,716194,725731,729843,755597,770926],\"Essence-\\u00e9lectrique: hybride\":[51,1,9,23,25,54,64,67,74,79,73,75,72,70,69,64,60],\"Gaz (monovalent et bivalent)\":[11,9,5,2,1,2,4,6,7,10,9,10,11,13,12,14,14],\"__x__values\":[0,1,2,3,4,5,6,7,8,9,10,11,12,13,14,15,16],\"__x__values_original\":[\"2005\",\"2006\",\"2007\",\"2008\",\"2009\",\"2010\",\"2011\",\"2012\",\"2013\",\"2014\",\"2015\",\"2016\",\"2017\",\"2018\",\"2019\",\"2020\",\"2021\"],\"\\u00c9lectrique\":[1736,1729,1742,2047,2585,3493,5366,7930,9523,10675,11424,11732,12026,12712,13807,15065,16955]},\"selected\":{\"id\":\"3756\"},\"selection_policy\":{\"id\":\"3755\"}},\"id\":\"3740\",\"type\":\"ColumnDataSource\"},{\"attributes\":{\"line_alpha\":0.1,\"line_color\":\"#ff7f0e\",\"line_width\":2,\"x\":{\"field\":\"__x__values\"},\"y\":{\"field\":\"Diesel\"}},\"id\":\"3743\",\"type\":\"Line\"},{\"attributes\":{\"line_color\":\"#ff7f0e\",\"line_width\":2,\"x\":{\"field\":\"__x__values\"},\"y\":{\"field\":\"Diesel\"}},\"id\":\"3742\",\"type\":\"Line\"},{\"attributes\":{\"line_alpha\":0.2,\"line_color\":\"#ff7f0e\",\"line_width\":2,\"x\":{\"field\":\"__x__values\"},\"y\":{\"field\":\"Diesel\"}},\"id\":\"3744\",\"type\":\"Line\"},{\"attributes\":{\"label\":{\"value\":\" Diesel\"},\"renderers\":[{\"id\":\"3745\"}]},\"id\":\"3758\",\"type\":\"LegendItem\"},{\"attributes\":{},\"id\":\"3727\",\"type\":\"Selection\"},{\"attributes\":{\"source\":{\"id\":\"3740\"}},\"id\":\"3746\",\"type\":\"CDSView\"},{\"attributes\":{},\"id\":\"3755\",\"type\":\"UnionRenderers\"},{\"attributes\":{},\"id\":\"3756\",\"type\":\"Selection\"},{\"attributes\":{},\"id\":\"3722\",\"type\":\"BasicTickFormatter\"},{\"attributes\":{\"source\":{\"id\":\"3768\"}},\"id\":\"3774\",\"type\":\"CDSView\"},{\"attributes\":{},\"id\":\"3723\",\"type\":\"AllLabels\"},{\"attributes\":{},\"id\":\"3888\",\"type\":\"Selection\"},{\"attributes\":{\"line_color\":\"#9467bd\",\"x\":{\"field\":\"__x__values\"},\"y\":{\"field\":\"\\u00c9lectrique\"}},\"id\":\"3859\",\"type\":\"Line\"},{\"attributes\":{\"callback\":null,\"mode\":\"vline\",\"renderers\":[{\"id\":\"3773\"}],\"tooltips\":[[\"Date\",\"@__x__values_original\"],[\"Essence-\\u00e9lectrique: hybride\",\"@{Essence-\\u00e9lectrique: hybride}\"]]},\"id\":\"3789\",\"type\":\"HoverTool\"},{\"attributes\":{},\"id\":\"4126\",\"type\":\"UnionRenderers\"},{\"attributes\":{\"coordinates\":null,\"data_source\":{\"id\":\"3768\"},\"glyph\":{\"id\":\"3770\"},\"group\":null,\"hover_glyph\":null,\"muted_glyph\":{\"id\":\"3772\"},\"nonselection_glyph\":{\"id\":\"3771\"},\"view\":{\"id\":\"3774\"}},\"id\":\"3773\",\"type\":\"GlyphRenderer\"},{\"attributes\":{},\"id\":\"4127\",\"type\":\"Selection\"},{\"attributes\":{\"line_alpha\":0.2,\"line_color\":\"#2ca02c\",\"line_width\":2,\"x\":{\"field\":\"__x__values\"},\"y\":{\"field\":\"Essence-\\u00e9lectrique: hybride\"}},\"id\":\"3772\",\"type\":\"Line\"},{\"attributes\":{\"source\":{\"id\":\"3857\"}},\"id\":\"3863\",\"type\":\"CDSView\"},{\"attributes\":{\"data\":{\"Autre\":[552,458,600,1230,86,86,72,75,71,62,63,61,60,54,51,50,52],\"Diesel\":[1139,1274,1614,1154,1112,1084,1064,1021,728,864,837,797,782,760,755,791,788],\"Diesel-\\u00e9lectrique: hybride\":[0,0,0,2,2,2,2,5,5,5,4,3,4,4,5,5,5],\"Essence\":[588376,605189,615196,632082,638966,646481,659298,670718,677582,687524,697612,707703,716194,725731,729843,755597,770926],\"Essence-\\u00e9lectrique: hybride\":[51,1,9,23,25,54,64,67,74,79,73,75,72,70,69,64,60],\"Gaz (monovalent et bivalent)\":[11,9,5,2,1,2,4,6,7,10,9,10,11,13,12,14,14],\"__x__values\":[0,1,2,3,4,5,6,7,8,9,10,11,12,13,14,15,16],\"__x__values_original\":[\"2005\",\"2006\",\"2007\",\"2008\",\"2009\",\"2010\",\"2011\",\"2012\",\"2013\",\"2014\",\"2015\",\"2016\",\"2017\",\"2018\",\"2019\",\"2020\",\"2021\"],\"\\u00c9lectrique\":[1736,1729,1742,2047,2585,3493,5366,7930,9523,10675,11424,11732,12026,12712,13807,15065,16955]},\"selected\":{\"id\":\"3888\"},\"selection_policy\":{\"id\":\"3887\"}},\"id\":\"3864\",\"type\":\"ColumnDataSource\"},{\"attributes\":{\"data\":{\"Autre\":[552,458,600,1230,86,86,72,75,71,62,63,61,60,54,51,50,52],\"Diesel\":[1139,1274,1614,1154,1112,1084,1064,1021,728,864,837,797,782,760,755,791,788],\"Diesel-\\u00e9lectrique: hybride\":[0,0,0,2,2,2,2,5,5,5,4,3,4,4,5,5,5],\"Essence\":[588376,605189,615196,632082,638966,646481,659298,670718,677582,687524,697612,707703,716194,725731,729843,755597,770926],\"Essence-\\u00e9lectrique: hybride\":[51,1,9,23,25,54,64,67,74,79,73,75,72,70,69,64,60],\"Gaz (monovalent et bivalent)\":[11,9,5,2,1,2,4,6,7,10,9,10,11,13,12,14,14],\"__x__values\":[0,1,2,3,4,5,6,7,8,9,10,11,12,13,14,15,16],\"__x__values_original\":[\"2005\",\"2006\",\"2007\",\"2008\",\"2009\",\"2010\",\"2011\",\"2012\",\"2013\",\"2014\",\"2015\",\"2016\",\"2017\",\"2018\",\"2019\",\"2020\",\"2021\"],\"\\u00c9lectrique\":[1736,1729,1742,2047,2585,3493,5366,7930,9523,10675,11424,11732,12026,12712,13807,15065,16955]},\"selected\":{\"id\":\"3786\"},\"selection_policy\":{\"id\":\"3785\"}},\"id\":\"3768\",\"type\":\"ColumnDataSource\"},{\"attributes\":{\"coordinates\":null,\"data_source\":{\"id\":\"3864\"},\"glyph\":{\"id\":\"3866\"},\"group\":null,\"hover_glyph\":null,\"muted_glyph\":{\"id\":\"3868\"},\"nonselection_glyph\":{\"id\":\"3867\"},\"view\":{\"id\":\"3870\"}},\"id\":\"3869\",\"type\":\"GlyphRenderer\"},{\"attributes\":{\"coordinates\":null,\"data_source\":{\"id\":\"3761\"},\"glyph\":{\"id\":\"3763\"},\"group\":null,\"hover_glyph\":null,\"muted_glyph\":{\"id\":\"3765\"},\"nonselection_glyph\":{\"id\":\"3764\"},\"view\":{\"id\":\"3767\"}},\"id\":\"3766\",\"type\":\"GlyphRenderer\"},{\"attributes\":{\"coordinates\":null,\"data_source\":{\"id\":\"3798\"},\"glyph\":{\"id\":\"3800\"},\"group\":null,\"hover_glyph\":null,\"muted_glyph\":{\"id\":\"3802\"},\"nonselection_glyph\":{\"id\":\"3801\"},\"view\":{\"id\":\"3804\"}},\"id\":\"3803\",\"type\":\"GlyphRenderer\"},{\"attributes\":{\"line_alpha\":0.1,\"line_color\":\"#8c564b\",\"line_width\":2,\"x\":{\"field\":\"__x__values\"},\"y\":{\"field\":\"Gaz (monovalent et bivalent)\"}},\"id\":\"3867\",\"type\":\"Line\"},{\"attributes\":{\"line_color\":\"#8c564b\",\"line_width\":2,\"x\":{\"field\":\"__x__values\"},\"y\":{\"field\":\"Gaz (monovalent et bivalent)\"}},\"id\":\"3866\",\"type\":\"Line\"},{\"attributes\":{\"data\":{\"Autre\":[552,458,600,1230,86,86,72,75,71,62,63,61,60,54,51,50,52],\"Diesel\":[1139,1274,1614,1154,1112,1084,1064,1021,728,864,837,797,782,760,755,791,788],\"Diesel-\\u00e9lectrique: hybride\":[0,0,0,2,2,2,2,5,5,5,4,3,4,4,5,5,5],\"Essence\":[588376,605189,615196,632082,638966,646481,659298,670718,677582,687524,697612,707703,716194,725731,729843,755597,770926],\"Essence-\\u00e9lectrique: hybride\":[51,1,9,23,25,54,64,67,74,79,73,75,72,70,69,64,60],\"Gaz (monovalent et bivalent)\":[11,9,5,2,1,2,4,6,7,10,9,10,11,13,12,14,14],\"__x__values\":[0,1,2,3,4,5,6,7,8,9,10,11,12,13,14,15,16],\"__x__values_original\":[\"2005\",\"2006\",\"2007\",\"2008\",\"2009\",\"2010\",\"2011\",\"2012\",\"2013\",\"2014\",\"2015\",\"2016\",\"2017\",\"2018\",\"2019\",\"2020\",\"2021\"],\"\\u00c9lectrique\":[1736,1729,1742,2047,2585,3493,5366,7930,9523,10675,11424,11732,12026,12712,13807,15065,16955]},\"selected\":{\"id\":\"4129\"},\"selection_policy\":{\"id\":\"4128\"}},\"id\":\"3761\",\"type\":\"ColumnDataSource\"},{\"attributes\":{\"data\":{\"Autre\":[552,458,600,1230,86,86,72,75,71,62,63,61,60,54,51,50,52],\"Diesel\":[1139,1274,1614,1154,1112,1084,1064,1021,728,864,837,797,782,760,755,791,788],\"Diesel-\\u00e9lectrique: hybride\":[0,0,0,2,2,2,2,5,5,5,4,3,4,4,5,5,5],\"Essence\":[588376,605189,615196,632082,638966,646481,659298,670718,677582,687524,697612,707703,716194,725731,729843,755597,770926],\"Essence-\\u00e9lectrique: hybride\":[51,1,9,23,25,54,64,67,74,79,73,75,72,70,69,64,60],\"Gaz (monovalent et bivalent)\":[11,9,5,2,1,2,4,6,7,10,9,10,11,13,12,14,14],\"__x__values\":[0,1,2,3,4,5,6,7,8,9,10,11,12,13,14,15,16],\"__x__values_original\":[\"2005\",\"2006\",\"2007\",\"2008\",\"2009\",\"2010\",\"2011\",\"2012\",\"2013\",\"2014\",\"2015\",\"2016\",\"2017\",\"2018\",\"2019\",\"2020\",\"2021\"],\"\\u00c9lectrique\":[1736,1729,1742,2047,2585,3493,5366,7930,9523,10675,11424,11732,12026,12712,13807,15065,16955]},\"selected\":{\"id\":\"4131\"},\"selection_policy\":{\"id\":\"4130\"}},\"id\":\"3791\",\"type\":\"ColumnDataSource\"},{\"attributes\":{\"line_alpha\":0.1,\"line_color\":\"#ff7f0e\",\"x\":{\"field\":\"__x__values\"},\"y\":{\"field\":\"Diesel\"}},\"id\":\"3764\",\"type\":\"Line\"},{\"attributes\":{\"line_alpha\":0.2,\"line_color\":\"#8c564b\",\"line_width\":2,\"x\":{\"field\":\"__x__values\"},\"y\":{\"field\":\"Gaz (monovalent et bivalent)\"}},\"id\":\"3868\",\"type\":\"Line\"},{\"attributes\":{\"line_color\":\"#ff7f0e\",\"x\":{\"field\":\"__x__values\"},\"y\":{\"field\":\"Diesel\"}},\"id\":\"3763\",\"type\":\"Line\"},{\"attributes\":{\"callback\":null,\"mode\":\"vline\",\"renderers\":[{\"id\":\"3905\"}],\"tooltips\":[[\"Date\",\"@__x__values_original\"],[\"Autre\",\"@{Autre}\"]]},\"id\":\"3929\",\"type\":\"HoverTool\"},{\"attributes\":{\"line_alpha\":0.2,\"line_color\":\"#2ca02c\",\"x\":{\"field\":\"__x__values\"},\"y\":{\"field\":\"Essence-\\u00e9lectrique: hybride\"}},\"id\":\"3795\",\"type\":\"Line\"},{\"attributes\":{\"source\":{\"id\":\"3864\"}},\"id\":\"3870\",\"type\":\"CDSView\"},{\"attributes\":{},\"id\":\"3680\",\"type\":\"PanTool\"},{\"attributes\":{},\"id\":\"3785\",\"type\":\"UnionRenderers\"},{\"attributes\":{\"line_alpha\":0.2,\"line_color\":\"#ff7f0e\",\"x\":{\"field\":\"__x__values\"},\"y\":{\"field\":\"Diesel\"}},\"id\":\"3765\",\"type\":\"Line\"},{\"attributes\":{},\"id\":\"4128\",\"type\":\"UnionRenderers\"},{\"attributes\":{\"source\":{\"id\":\"3761\"}},\"id\":\"3767\",\"type\":\"CDSView\"},{\"attributes\":{\"label\":{\"value\":\" Gaz (monovalent et bivalent)\"},\"renderers\":[{\"id\":\"3869\"}]},\"id\":\"3890\",\"type\":\"LegendItem\"},{\"attributes\":{},\"id\":\"3786\",\"type\":\"Selection\"},{\"attributes\":{},\"id\":\"4129\",\"type\":\"Selection\"},{\"attributes\":{\"label\":{\"value\":\" Essence-\\u00e9lectrique: hybride\"},\"renderers\":[{\"id\":\"3773\"}]},\"id\":\"3788\",\"type\":\"LegendItem\"},{\"attributes\":{\"data\":{\"Autre\":[552,458,600,1230,86,86,72,75,71,62,63,61,60,54,51,50,52],\"Diesel\":[1139,1274,1614,1154,1112,1084,1064,1021,728,864,837,797,782,760,755,791,788],\"Diesel-\\u00e9lectrique: hybride\":[0,0,0,2,2,2,2,5,5,5,4,3,4,4,5,5,5],\"Essence\":[588376,605189,615196,632082,638966,646481,659298,670718,677582,687524,697612,707703,716194,725731,729843,755597,770926],\"Essence-\\u00e9lectrique: hybride\":[51,1,9,23,25,54,64,67,74,79,73,75,72,70,69,64,60],\"Gaz (monovalent et bivalent)\":[11,9,5,2,1,2,4,6,7,10,9,10,11,13,12,14,14],\"__x__values\":[0,1,2,3,4,5,6,7,8,9,10,11,12,13,14,15,16],\"__x__values_original\":[\"2005\",\"2006\",\"2007\",\"2008\",\"2009\",\"2010\",\"2011\",\"2012\",\"2013\",\"2014\",\"2015\",\"2016\",\"2017\",\"2018\",\"2019\",\"2020\",\"2021\"],\"\\u00c9lectrique\":[1736,1729,1742,2047,2585,3493,5366,7930,9523,10675,11424,11732,12026,12712,13807,15065,16955]},\"selected\":{\"id\":\"3852\"},\"selection_policy\":{\"id\":\"3851\"}},\"id\":\"3830\",\"type\":\"ColumnDataSource\"},{\"attributes\":{\"line_alpha\":0.2,\"line_color\":\"#9467bd\",\"x\":{\"field\":\"__x__values\"},\"y\":{\"field\":\"\\u00c9lectrique\"}},\"id\":\"3861\",\"type\":\"Line\"},{\"attributes\":{\"coordinates\":null,\"data_source\":{\"id\":\"3823\"},\"glyph\":{\"id\":\"3825\"},\"group\":null,\"hover_glyph\":null,\"muted_glyph\":{\"id\":\"3827\"},\"nonselection_glyph\":{\"id\":\"3826\"},\"view\":{\"id\":\"3829\"}},\"id\":\"3828\",\"type\":\"GlyphRenderer\"},{\"attributes\":{\"data\":{\"Autre\":[552,458,600,1230,86,86,72,75,71,62,63,61,60,54,51,50,52],\"Diesel\":[1139,1274,1614,1154,1112,1084,1064,1021,728,864,837,797,782,760,755,791,788],\"Diesel-\\u00e9lectrique: hybride\":[0,0,0,2,2,2,2,5,5,5,4,3,4,4,5,5,5],\"Essence\":[588376,605189,615196,632082,638966,646481,659298,670718,677582,687524,697612,707703,716194,725731,729843,755597,770926],\"Essence-\\u00e9lectrique: hybride\":[51,1,9,23,25,54,64,67,74,79,73,75,72,70,69,64,60],\"Gaz (monovalent et bivalent)\":[11,9,5,2,1,2,4,6,7,10,9,10,11,13,12,14,14],\"__x__values\":[0,1,2,3,4,5,6,7,8,9,10,11,12,13,14,15,16],\"__x__values_original\":[\"2005\",\"2006\",\"2007\",\"2008\",\"2009\",\"2010\",\"2011\",\"2012\",\"2013\",\"2014\",\"2015\",\"2016\",\"2017\",\"2018\",\"2019\",\"2020\",\"2021\"],\"\\u00c9lectrique\":[1736,1729,1742,2047,2585,3493,5366,7930,9523,10675,11424,11732,12026,12712,13807,15065,16955]},\"selected\":{\"id\":\"4133\"},\"selection_policy\":{\"id\":\"4132\"}},\"id\":\"3823\",\"type\":\"ColumnDataSource\"},{\"attributes\":{\"coordinates\":null,\"data_source\":{\"id\":\"3733\"},\"glyph\":{\"id\":\"3735\"},\"group\":null,\"hover_glyph\":null,\"muted_glyph\":{\"id\":\"3737\"},\"nonselection_glyph\":{\"id\":\"3736\"},\"view\":{\"id\":\"3739\"}},\"id\":\"3738\",\"type\":\"GlyphRenderer\"},{\"attributes\":{\"line_alpha\":0.1,\"line_color\":\"#d62728\",\"x\":{\"field\":\"__x__values\"},\"y\":{\"field\":\"Diesel-\\u00e9lectrique: hybride\"}},\"id\":\"3826\",\"type\":\"Line\"},{\"attributes\":{\"bottom_units\":\"screen\",\"coordinates\":null,\"fill_alpha\":0.5,\"fill_color\":\"lightgrey\",\"group\":null,\"left_units\":\"screen\",\"level\":\"overlay\",\"line_alpha\":1.0,\"line_color\":\"black\",\"line_dash\":[4,4],\"line_width\":2,\"right_units\":\"screen\",\"syncable\":false,\"top_units\":\"screen\"},\"id\":\"3686\",\"type\":\"BoxAnnotation\"},{\"attributes\":{},\"id\":\"3725\",\"type\":\"AllLabels\"},{\"attributes\":{\"line_color\":\"#d62728\",\"x\":{\"field\":\"__x__values\"},\"y\":{\"field\":\"Diesel-\\u00e9lectrique: hybride\"}},\"id\":\"3825\",\"type\":\"Line\"},{\"attributes\":{\"coordinates\":null,\"data_source\":{\"id\":\"3830\"},\"glyph\":{\"id\":\"3832\"},\"group\":null,\"hover_glyph\":null,\"muted_glyph\":{\"id\":\"3834\"},\"nonselection_glyph\":{\"id\":\"3833\"},\"view\":{\"id\":\"3836\"}},\"id\":\"3835\",\"type\":\"GlyphRenderer\"},{\"attributes\":{},\"id\":\"3684\",\"type\":\"ResetTool\"},{\"attributes\":{\"callback\":null,\"mode\":\"vline\",\"renderers\":[{\"id\":\"3803\"}],\"tooltips\":[[\"Date\",\"@__x__values_original\"],[\"Diesel-\\u00e9lectrique: hybride\",\"@{Diesel-\\u00e9lectrique: hybride}\"]]},\"id\":\"3821\",\"type\":\"HoverTool\"},{\"attributes\":{\"line_alpha\":0.2,\"line_color\":\"#d62728\",\"x\":{\"field\":\"__x__values\"},\"y\":{\"field\":\"Diesel-\\u00e9lectrique: hybride\"}},\"id\":\"3827\",\"type\":\"Line\"},{\"attributes\":{\"overlay\":{\"id\":\"3686\"}},\"id\":\"3682\",\"type\":\"BoxZoomTool\"},{\"attributes\":{\"source\":{\"id\":\"3823\"}},\"id\":\"3829\",\"type\":\"CDSView\"},{\"attributes\":{},\"id\":\"3683\",\"type\":\"SaveTool\"},{\"attributes\":{},\"id\":\"4130\",\"type\":\"UnionRenderers\"},{\"attributes\":{\"line_alpha\":0.1,\"line_color\":\"#2ca02c\",\"line_width\":2,\"x\":{\"field\":\"__x__values\"},\"y\":{\"field\":\"Essence-\\u00e9lectrique: hybride\"}},\"id\":\"3771\",\"type\":\"Line\"},{\"attributes\":{\"line_alpha\":0.1,\"line_color\":\"#9467bd\",\"line_width\":2,\"x\":{\"field\":\"__x__values\"},\"y\":{\"field\":\"\\u00c9lectrique\"}},\"id\":\"3833\",\"type\":\"Line\"},{\"attributes\":{\"line_color\":\"#9467bd\",\"line_width\":2,\"x\":{\"field\":\"__x__values\"},\"y\":{\"field\":\"\\u00c9lectrique\"}},\"id\":\"3832\",\"type\":\"Line\"},{\"attributes\":{},\"id\":\"3685\",\"type\":\"HelpTool\"},{\"attributes\":{},\"id\":\"4131\",\"type\":\"Selection\"},{\"attributes\":{\"axis_label\":\"Voitures\",\"coordinates\":null,\"formatter\":{\"id\":\"3722\"},\"group\":null,\"major_label_policy\":{\"id\":\"3723\"},\"ticker\":{\"id\":\"3677\"}},\"id\":\"3676\",\"type\":\"LinearAxis\"},{\"attributes\":{\"line_alpha\":0.2,\"line_color\":\"#9467bd\",\"line_width\":2,\"x\":{\"field\":\"__x__values\"},\"y\":{\"field\":\"\\u00c9lectrique\"}},\"id\":\"3834\",\"type\":\"Line\"},{\"attributes\":{},\"id\":\"3677\",\"type\":\"BasicTicker\"},{\"attributes\":{},\"id\":\"3681\",\"type\":\"WheelZoomTool\"},{\"attributes\":{\"label\":{\"value\":\" \\u00c9lectrique\"},\"renderers\":[{\"id\":\"3835\"}]},\"id\":\"3854\",\"type\":\"LegendItem\"},{\"attributes\":{\"axis\":{\"id\":\"3676\"},\"coordinates\":null,\"dimension\":1,\"group\":null,\"ticker\":null},\"id\":\"3679\",\"type\":\"Grid\"},{\"attributes\":{\"source\":{\"id\":\"3830\"}},\"id\":\"3836\",\"type\":\"CDSView\"},{\"attributes\":{},\"id\":\"3851\",\"type\":\"UnionRenderers\"},{\"attributes\":{},\"id\":\"3666\",\"type\":\"DataRange1d\"},{\"attributes\":{},\"id\":\"3852\",\"type\":\"Selection\"},{\"attributes\":{},\"id\":\"3925\",\"type\":\"UnionRenderers\"},{\"attributes\":{\"coordinates\":null,\"data_source\":{\"id\":\"3893\"},\"glyph\":{\"id\":\"3895\"},\"group\":null,\"hover_glyph\":null,\"muted_glyph\":{\"id\":\"3897\"},\"nonselection_glyph\":{\"id\":\"3896\"},\"view\":{\"id\":\"3899\"}},\"id\":\"3898\",\"type\":\"GlyphRenderer\"},{\"attributes\":{\"data\":{\"Autre\":[552,458,600,1230,86,86,72,75,71,62,63,61,60,54,51,50,52],\"Diesel\":[1139,1274,1614,1154,1112,1084,1064,1021,728,864,837,797,782,760,755,791,788],\"Diesel-\\u00e9lectrique: hybride\":[0,0,0,2,2,2,2,5,5,5,4,3,4,4,5,5,5],\"Essence\":[588376,605189,615196,632082,638966,646481,659298,670718,677582,687524,697612,707703,716194,725731,729843,755597,770926],\"Essence-\\u00e9lectrique: hybride\":[51,1,9,23,25,54,64,67,74,79,73,75,72,70,69,64,60],\"Gaz (monovalent et bivalent)\":[11,9,5,2,1,2,4,6,7,10,9,10,11,13,12,14,14],\"__x__values\":[0,1,2,3,4,5,6,7,8,9,10,11,12,13,14,15,16],\"__x__values_original\":[\"2005\",\"2006\",\"2007\",\"2008\",\"2009\",\"2010\",\"2011\",\"2012\",\"2013\",\"2014\",\"2015\",\"2016\",\"2017\",\"2018\",\"2019\",\"2020\",\"2021\"],\"\\u00c9lectrique\":[1736,1729,1742,2047,2585,3493,5366,7930,9523,10675,11424,11732,12026,12712,13807,15065,16955]},\"selected\":{\"id\":\"4137\"},\"selection_policy\":{\"id\":\"4136\"}},\"id\":\"3893\",\"type\":\"ColumnDataSource\"},{\"attributes\":{\"line_alpha\":0.1,\"line_color\":\"#8c564b\",\"x\":{\"field\":\"__x__values\"},\"y\":{\"field\":\"Gaz (monovalent et bivalent)\"}},\"id\":\"3896\",\"type\":\"Line\"},{\"attributes\":{\"line_color\":\"#8c564b\",\"x\":{\"field\":\"__x__values\"},\"y\":{\"field\":\"Gaz (monovalent et bivalent)\"}},\"id\":\"3895\",\"type\":\"Line\"},{\"attributes\":{\"line_color\":\"#2ca02c\",\"x\":{\"field\":\"__x__values\"},\"y\":{\"field\":\"Essence-\\u00e9lectrique: hybride\"}},\"id\":\"3793\",\"type\":\"Line\"},{\"attributes\":{\"line_alpha\":0.2,\"line_color\":\"#8c564b\",\"x\":{\"field\":\"__x__values\"},\"y\":{\"field\":\"Gaz (monovalent et bivalent)\"}},\"id\":\"3897\",\"type\":\"Line\"},{\"attributes\":{},\"id\":\"4132\",\"type\":\"UnionRenderers\"},{\"attributes\":{\"source\":{\"id\":\"3893\"}},\"id\":\"3899\",\"type\":\"CDSView\"},{\"attributes\":{\"data\":{\"Autre\":[552,458,600,1230,86,86,72,75,71,62,63,61,60,54,51,50,52],\"Diesel\":[1139,1274,1614,1154,1112,1084,1064,1021,728,864,837,797,782,760,755,791,788],\"Diesel-\\u00e9lectrique: hybride\":[0,0,0,2,2,2,2,5,5,5,4,3,4,4,5,5,5],\"Essence\":[588376,605189,615196,632082,638966,646481,659298,670718,677582,687524,697612,707703,716194,725731,729843,755597,770926],\"Essence-\\u00e9lectrique: hybride\":[51,1,9,23,25,54,64,67,74,79,73,75,72,70,69,64,60],\"Gaz (monovalent et bivalent)\":[11,9,5,2,1,2,4,6,7,10,9,10,11,13,12,14,14],\"__x__values\":[0,1,2,3,4,5,6,7,8,9,10,11,12,13,14,15,16],\"__x__values_original\":[\"2005\",\"2006\",\"2007\",\"2008\",\"2009\",\"2010\",\"2011\",\"2012\",\"2013\",\"2014\",\"2015\",\"2016\",\"2017\",\"2018\",\"2019\",\"2020\",\"2021\"],\"\\u00c9lectrique\":[1736,1729,1742,2047,2585,3493,5366,7930,9523,10675,11424,11732,12026,12712,13807,15065,16955]},\"selected\":{\"id\":\"3818\"},\"selection_policy\":{\"id\":\"3817\"}},\"id\":\"3798\",\"type\":\"ColumnDataSource\"},{\"attributes\":{\"data\":{\"Autre\":[552,458,600,1230,86,86,72,75,71,62,63,61,60,54,51,50,52],\"Diesel\":[1139,1274,1614,1154,1112,1084,1064,1021,728,864,837,797,782,760,755,791,788],\"Diesel-\\u00e9lectrique: hybride\":[0,0,0,2,2,2,2,5,5,5,4,3,4,4,5,5,5],\"Essence\":[588376,605189,615196,632082,638966,646481,659298,670718,677582,687524,697612,707703,716194,725731,729843,755597,770926],\"Essence-\\u00e9lectrique: hybride\":[51,1,9,23,25,54,64,67,74,79,73,75,72,70,69,64,60],\"Gaz (monovalent et bivalent)\":[11,9,5,2,1,2,4,6,7,10,9,10,11,13,12,14,14],\"__x__values\":[0,1,2,3,4,5,6,7,8,9,10,11,12,13,14,15,16],\"__x__values_original\":[\"2005\",\"2006\",\"2007\",\"2008\",\"2009\",\"2010\",\"2011\",\"2012\",\"2013\",\"2014\",\"2015\",\"2016\",\"2017\",\"2018\",\"2019\",\"2020\",\"2021\"],\"\\u00c9lectrique\":[1736,1729,1742,2047,2585,3493,5366,7930,9523,10675,11424,11732,12026,12712,13807,15065,16955]},\"selected\":{\"id\":\"3926\"},\"selection_policy\":{\"id\":\"3925\"}},\"id\":\"3900\",\"type\":\"ColumnDataSource\"},{\"attributes\":{\"code\":\"\\n                                var labels = {0: '2005', 1: '2006', 2: '2007', 3: '2008', 4: '2009', 5: '2010', 6: '2011', 7: '2012', 8: '2013', 9: '2014', 10: '2015', 11: '2016', 12: '2017', 13: '2018', 14: '2019', 15: '2020', 16: '2021'};\\n                                return labels[tick];\\n                                \"},\"id\":\"3694\",\"type\":\"FuncTickFormatter\"},{\"attributes\":{},\"id\":\"4133\",\"type\":\"Selection\"},{\"attributes\":{\"coordinates\":null,\"data_source\":{\"id\":\"3900\"},\"glyph\":{\"id\":\"3902\"},\"group\":null,\"hover_glyph\":null,\"muted_glyph\":{\"id\":\"3904\"},\"nonselection_glyph\":{\"id\":\"3903\"},\"view\":{\"id\":\"3906\"}},\"id\":\"3905\",\"type\":\"GlyphRenderer\"},{\"attributes\":{\"active_scroll\":{\"id\":\"3681\"},\"tools\":[{\"id\":\"3680\"},{\"id\":\"3681\"},{\"id\":\"3682\"},{\"id\":\"3683\"},{\"id\":\"3684\"},{\"id\":\"3685\"},{\"id\":\"3731\"},{\"id\":\"3759\"},{\"id\":\"3789\"},{\"id\":\"3821\"},{\"id\":\"3855\"},{\"id\":\"3891\"},{\"id\":\"3929\"}]},\"id\":\"3687\",\"type\":\"Toolbar\"},{\"attributes\":{\"callback\":null,\"mode\":\"vline\",\"renderers\":[{\"id\":\"3835\"}],\"tooltips\":[[\"Date\",\"@__x__values_original\"],[\"\\u00c9lectrique\",\"@{\\u00c9lectrique}\"]]},\"id\":\"3855\",\"type\":\"HoverTool\"},{\"attributes\":{\"line_alpha\":0.1,\"line_color\":\"#e377c2\",\"line_width\":2,\"x\":{\"field\":\"__x__values\"},\"y\":{\"field\":\"Autre\"}},\"id\":\"3903\",\"type\":\"Line\"},{\"attributes\":{\"line_alpha\":0.1,\"line_color\":\"#2ca02c\",\"x\":{\"field\":\"__x__values\"},\"y\":{\"field\":\"Essence-\\u00e9lectrique: hybride\"}},\"id\":\"3794\",\"type\":\"Line\"},{\"attributes\":{\"line_color\":\"#e377c2\",\"line_width\":2,\"x\":{\"field\":\"__x__values\"},\"y\":{\"field\":\"Autre\"}},\"id\":\"3902\",\"type\":\"Line\"},{\"attributes\":{\"source\":{\"id\":\"3791\"}},\"id\":\"3797\",\"type\":\"CDSView\"},{\"attributes\":{\"line_alpha\":0.2,\"line_color\":\"#e377c2\",\"line_width\":2,\"x\":{\"field\":\"__x__values\"},\"y\":{\"field\":\"Autre\"}},\"id\":\"3904\",\"type\":\"Line\"},{\"attributes\":{\"line_alpha\":0.1,\"line_color\":\"#d62728\",\"line_width\":2,\"x\":{\"field\":\"__x__values\"},\"y\":{\"field\":\"Diesel-\\u00e9lectrique: hybride\"}},\"id\":\"3801\",\"type\":\"Line\"},{\"attributes\":{\"source\":{\"id\":\"3900\"}},\"id\":\"3906\",\"type\":\"CDSView\"},{\"attributes\":{\"line_color\":\"#d62728\",\"line_width\":2,\"x\":{\"field\":\"__x__values\"},\"y\":{\"field\":\"Diesel-\\u00e9lectrique: hybride\"}},\"id\":\"3800\",\"type\":\"Line\"},{\"attributes\":{},\"id\":\"3926\",\"type\":\"Selection\"},{\"attributes\":{},\"id\":\"3702\",\"type\":\"LinearScale\"},{\"attributes\":{\"line_alpha\":0.2,\"line_color\":\"#d62728\",\"line_width\":2,\"x\":{\"field\":\"__x__values\"},\"y\":{\"field\":\"Diesel-\\u00e9lectrique: hybride\"}},\"id\":\"3802\",\"type\":\"Line\"},{\"attributes\":{\"label\":{\"value\":\" Autre\"},\"renderers\":[{\"id\":\"3905\"}]},\"id\":\"3928\",\"type\":\"LegendItem\"},{\"attributes\":{\"label\":{\"value\":\" Diesel-\\u00e9lectrique: hybride\"},\"renderers\":[{\"id\":\"3803\"}]},\"id\":\"3820\",\"type\":\"LegendItem\"},{\"attributes\":{\"source\":{\"id\":\"3798\"}},\"id\":\"3804\",\"type\":\"CDSView\"},{\"attributes\":{},\"id\":\"3817\",\"type\":\"UnionRenderers\"},{\"attributes\":{},\"id\":\"3818\",\"type\":\"Selection\"},{\"attributes\":{},\"id\":\"4134\",\"type\":\"UnionRenderers\"},{\"attributes\":{\"axis\":{\"id\":\"3672\"},\"coordinates\":null,\"group\":null,\"ticker\":null},\"id\":\"3675\",\"type\":\"Grid\"},{\"attributes\":{\"coordinates\":null,\"group\":null,\"text\":\"Carburant\"},\"id\":\"3662\",\"type\":\"Title\"},{\"attributes\":{},\"id\":\"3699\",\"type\":\"DataRange1d\"},{\"attributes\":{},\"id\":\"4135\",\"type\":\"Selection\"},{\"attributes\":{\"overlay\":{\"id\":\"3709\"},\"x_range\":{\"id\":\"3707\"},\"y_range\":null},\"id\":\"3708\",\"type\":\"RangeTool\"},{\"attributes\":{\"coordinates\":null,\"fill_alpha\":0.2,\"fill_color\":\"navy\",\"group\":null,\"level\":\"overlay\",\"line_alpha\":1.0,\"line_color\":\"black\",\"line_dash\":[2,2],\"line_width\":0.5,\"syncable\":false},\"id\":\"3709\",\"type\":\"BoxAnnotation\"},{\"attributes\":{\"axis_label\":\"Date\",\"coordinates\":null,\"formatter\":{\"id\":\"3694\"},\"group\":null,\"major_label_policy\":{\"id\":\"3725\"},\"ticker\":{\"id\":\"3938\"}},\"id\":\"3672\",\"type\":\"LinearAxis\"},{\"attributes\":{},\"id\":\"3670\",\"type\":\"LinearScale\"},{\"attributes\":{\"callback\":null,\"mode\":\"vline\",\"renderers\":[{\"id\":\"3869\"}],\"tooltips\":[[\"Date\",\"@__x__values_original\"],[\"Gaz (monovalent et bivalent)\",\"@{Gaz (monovalent et bivalent)}\"]]},\"id\":\"3891\",\"type\":\"HoverTool\"},{\"attributes\":{},\"id\":\"3668\",\"type\":\"LinearScale\"},{\"attributes\":{\"line_alpha\":0.1,\"line_color\":\"#9467bd\",\"x\":{\"field\":\"__x__values\"},\"y\":{\"field\":\"\\u00c9lectrique\"}},\"id\":\"3860\",\"type\":\"Line\"},{\"attributes\":{\"coordinates\":null,\"data_source\":{\"id\":\"3857\"},\"glyph\":{\"id\":\"3859\"},\"group\":null,\"hover_glyph\":null,\"muted_glyph\":{\"id\":\"3861\"},\"nonselection_glyph\":{\"id\":\"3860\"},\"view\":{\"id\":\"3863\"}},\"id\":\"3862\",\"type\":\"GlyphRenderer\"},{\"attributes\":{},\"id\":\"3887\",\"type\":\"UnionRenderers\"},{\"attributes\":{\"end\":16,\"start\":12},\"id\":\"3707\",\"type\":\"Range1d\"},{\"attributes\":{\"data\":{\"Autre\":[552,458,600,1230,86,86,72,75,71,62,63,61,60,54,51,50,52],\"Diesel\":[1139,1274,1614,1154,1112,1084,1064,1021,728,864,837,797,782,760,755,791,788],\"Diesel-\\u00e9lectrique: hybride\":[0,0,0,2,2,2,2,5,5,5,4,3,4,4,5,5,5],\"Essence\":[588376,605189,615196,632082,638966,646481,659298,670718,677582,687524,697612,707703,716194,725731,729843,755597,770926],\"Essence-\\u00e9lectrique: hybride\":[51,1,9,23,25,54,64,67,74,79,73,75,72,70,69,64,60],\"Gaz (monovalent et bivalent)\":[11,9,5,2,1,2,4,6,7,10,9,10,11,13,12,14,14],\"__x__values\":[0,1,2,3,4,5,6,7,8,9,10,11,12,13,14,15,16],\"__x__values_original\":[\"2005\",\"2006\",\"2007\",\"2008\",\"2009\",\"2010\",\"2011\",\"2012\",\"2013\",\"2014\",\"2015\",\"2016\",\"2017\",\"2018\",\"2019\",\"2020\",\"2021\"],\"\\u00c9lectrique\":[1736,1729,1742,2047,2585,3493,5366,7930,9523,10675,11424,11732,12026,12712,13807,15065,16955]},\"selected\":{\"id\":\"4135\"},\"selection_policy\":{\"id\":\"4134\"}},\"id\":\"3857\",\"type\":\"ColumnDataSource\"},{\"attributes\":{\"height\":130,\"renderers\":[{\"id\":\"3738\"},{\"id\":\"3766\"},{\"id\":\"3796\"},{\"id\":\"3828\"},{\"id\":\"3862\"},{\"id\":\"3898\"},{\"id\":\"3936\"}],\"title\":{\"id\":\"3697\"},\"toolbar\":{\"id\":\"3706\"},\"toolbar_location\":null,\"width\":800,\"x_range\":{\"id\":\"3699\"},\"x_scale\":{\"id\":\"3702\"},\"y_range\":{\"id\":\"3666\"},\"y_scale\":{\"id\":\"3704\"}},\"id\":\"3696\",\"subtype\":\"Figure\",\"type\":\"Plot\"},{\"attributes\":{\"above\":[{\"id\":\"3672\"}],\"center\":[{\"id\":\"3675\"},{\"id\":\"3679\"},{\"id\":\"3729\"}],\"height\":450,\"left\":[{\"id\":\"3676\"}],\"output_backend\":\"webgl\",\"renderers\":[{\"id\":\"3718\"},{\"id\":\"3745\"},{\"id\":\"3773\"},{\"id\":\"3803\"},{\"id\":\"3835\"},{\"id\":\"3869\"},{\"id\":\"3905\"}],\"sizing_mode\":\"fixed\",\"title\":{\"id\":\"3662\"},\"toolbar\":{\"id\":\"3687\"},\"width\":800,\"x_range\":{\"id\":\"3707\"},\"x_scale\":{\"id\":\"3668\"},\"y_range\":{\"id\":\"3666\"},\"y_scale\":{\"id\":\"3670\"}},\"id\":\"3661\",\"subtype\":\"Figure\",\"type\":\"Plot\"}],\"root_ids\":[\"3940\"]},\"title\":\"Bokeh Application\",\"version\":\"2.4.2\"}};\n",
       "  const render_items = [{\"docid\":\"854f6527-ab5a-43d4-908c-c01b3cb21371\",\"root_ids\":[\"3940\"],\"roots\":{\"3940\":\"ad5a7a6f-718d-4b99-8e7d-65edac67a228\"}}];\n",
       "  root.Bokeh.embed.embed_items_notebook(docs_json, render_items);\n",
       "\n",
       "  }\n",
       "  if (root.Bokeh !== undefined) {\n",
       "    embed_document(root);\n",
       "  } else {\n",
       "    let attempts = 0;\n",
       "    const timer = setInterval(function(root) {\n",
       "      if (root.Bokeh !== undefined) {\n",
       "        clearInterval(timer);\n",
       "        embed_document(root);\n",
       "      } else {\n",
       "        attempts++;\n",
       "        if (attempts > 100) {\n",
       "          clearInterval(timer);\n",
       "          console.log(\"Bokeh: ERROR: Unable to run BokehJS code because BokehJS library is missing\");\n",
       "        }\n",
       "      }\n",
       "    }, 10, root)\n",
       "  }\n",
       "})(window);"
      ],
      "application/vnd.bokehjs_exec.v0+json": ""
     },
     "metadata": {
      "application/vnd.bokehjs_exec.v0+json": {
       "id": "3940"
      }
     },
     "output_type": "display_data"
    },
    {
     "data": {
      "text/html": [
       "<div style=\"display: table;\"><div style=\"display: table-row;\"><div style=\"display: table-cell;\"><b title=\"bokeh.models.layouts.Column\">Column</b>(</div><div style=\"display: table-cell;\">id&nbsp;=&nbsp;'3940', <span id=\"4322\" style=\"cursor: pointer;\">&hellip;)</span></div></div><div class=\"4321\" style=\"display: none;\"><div style=\"display: table-cell;\"></div><div style=\"display: table-cell;\">align&nbsp;=&nbsp;'start',</div></div><div class=\"4321\" style=\"display: none;\"><div style=\"display: table-cell;\"></div><div style=\"display: table-cell;\">aspect_ratio&nbsp;=&nbsp;None,</div></div><div class=\"4321\" style=\"display: none;\"><div style=\"display: table-cell;\"></div><div style=\"display: table-cell;\">background&nbsp;=&nbsp;None,</div></div><div class=\"4321\" style=\"display: none;\"><div style=\"display: table-cell;\"></div><div style=\"display: table-cell;\">children&nbsp;=&nbsp;[Figure(id='3661', ...), Figure(id='3696', ...)],</div></div><div class=\"4321\" style=\"display: none;\"><div style=\"display: table-cell;\"></div><div style=\"display: table-cell;\">css_classes&nbsp;=&nbsp;[],</div></div><div class=\"4321\" style=\"display: none;\"><div style=\"display: table-cell;\"></div><div style=\"display: table-cell;\">disabled&nbsp;=&nbsp;False,</div></div><div class=\"4321\" style=\"display: none;\"><div style=\"display: table-cell;\"></div><div style=\"display: table-cell;\">height&nbsp;=&nbsp;None,</div></div><div class=\"4321\" style=\"display: none;\"><div style=\"display: table-cell;\"></div><div style=\"display: table-cell;\">height_policy&nbsp;=&nbsp;'auto',</div></div><div class=\"4321\" style=\"display: none;\"><div style=\"display: table-cell;\"></div><div style=\"display: table-cell;\">js_event_callbacks&nbsp;=&nbsp;{},</div></div><div class=\"4321\" style=\"display: none;\"><div style=\"display: table-cell;\"></div><div style=\"display: table-cell;\">js_property_callbacks&nbsp;=&nbsp;{},</div></div><div class=\"4321\" style=\"display: none;\"><div style=\"display: table-cell;\"></div><div style=\"display: table-cell;\">margin&nbsp;=&nbsp;(0, 0, 0, 0),</div></div><div class=\"4321\" style=\"display: none;\"><div style=\"display: table-cell;\"></div><div style=\"display: table-cell;\">max_height&nbsp;=&nbsp;None,</div></div><div class=\"4321\" style=\"display: none;\"><div style=\"display: table-cell;\"></div><div style=\"display: table-cell;\">max_width&nbsp;=&nbsp;None,</div></div><div class=\"4321\" style=\"display: none;\"><div style=\"display: table-cell;\"></div><div style=\"display: table-cell;\">min_height&nbsp;=&nbsp;None,</div></div><div class=\"4321\" style=\"display: none;\"><div style=\"display: table-cell;\"></div><div style=\"display: table-cell;\">min_width&nbsp;=&nbsp;None,</div></div><div class=\"4321\" style=\"display: none;\"><div style=\"display: table-cell;\"></div><div style=\"display: table-cell;\">name&nbsp;=&nbsp;None,</div></div><div class=\"4321\" style=\"display: none;\"><div style=\"display: table-cell;\"></div><div style=\"display: table-cell;\">rows&nbsp;=&nbsp;'auto',</div></div><div class=\"4321\" style=\"display: none;\"><div style=\"display: table-cell;\"></div><div style=\"display: table-cell;\">sizing_mode&nbsp;=&nbsp;None,</div></div><div class=\"4321\" style=\"display: none;\"><div style=\"display: table-cell;\"></div><div style=\"display: table-cell;\">spacing&nbsp;=&nbsp;0,</div></div><div class=\"4321\" style=\"display: none;\"><div style=\"display: table-cell;\"></div><div style=\"display: table-cell;\">subscribed_events&nbsp;=&nbsp;[],</div></div><div class=\"4321\" style=\"display: none;\"><div style=\"display: table-cell;\"></div><div style=\"display: table-cell;\">syncable&nbsp;=&nbsp;True,</div></div><div class=\"4321\" style=\"display: none;\"><div style=\"display: table-cell;\"></div><div style=\"display: table-cell;\">tags&nbsp;=&nbsp;[],</div></div><div class=\"4321\" style=\"display: none;\"><div style=\"display: table-cell;\"></div><div style=\"display: table-cell;\">visible&nbsp;=&nbsp;True,</div></div><div class=\"4321\" style=\"display: none;\"><div style=\"display: table-cell;\"></div><div style=\"display: table-cell;\">width&nbsp;=&nbsp;None,</div></div><div class=\"4321\" style=\"display: none;\"><div style=\"display: table-cell;\"></div><div style=\"display: table-cell;\">width_policy&nbsp;=&nbsp;'auto')</div></div></div>\n",
       "<script>\n",
       "(function() {\n",
       "  let expanded = false;\n",
       "  const ellipsis = document.getElementById(\"4322\");\n",
       "  ellipsis.addEventListener(\"click\", function() {\n",
       "    const rows = document.getElementsByClassName(\"4321\");\n",
       "    for (let i = 0; i < rows.length; i++) {\n",
       "      const el = rows[i];\n",
       "      el.style.display = expanded ? \"none\" : \"table-row\";\n",
       "    }\n",
       "    ellipsis.innerHTML = expanded ? \"&hellip;)\" : \"&lsaquo;&lsaquo;&lsaquo;\";\n",
       "    expanded = !expanded;\n",
       "  });\n",
       "})();\n",
       "</script>\n"
      ],
      "text/plain": [
       "Column(id='3940', ...)"
      ]
     },
     "execution_count": 61,
     "metadata": {},
     "output_type": "execute_result"
    }
   ],
   "source": [
    "pd.set_option('plotting.backend', 'pandas_bokeh')\n",
    "\n",
    "#fig = px.line(df, x=\"Année\", y=\"values\", color='Carburant')\n",
    "df_bokeh.plot_bokeh.line(\n",
    "    figsize=(800, 450),\n",
    "    x='year',\n",
    "    y=col_bokeh,\n",
    "    title=\"Carburant\",\n",
    "    xlabel=\"Date\",\n",
    "    ylabel=\"Voitures\", rangetool=True)\n",
    "# y_axis_type='log'"
   ]
  },
  {
   "cell_type": "code",
   "execution_count": null,
   "id": "e3a7feb6",
   "metadata": {},
   "outputs": [],
   "source": [
    "from mpl_toolkits.mplot3d import axes3d\n",
    "import matplotlib.pyplot as plt\n",
    "from matplotlib import cm\n",
    "\n",
    "fig = plt.figure()\n",
    "ax = fig.gca(projection='3d')\n",
    "X, Y, Z = axes3d.get_test_data(0.05)\n",
    "ax.plot_surface(X, Y, Z, rstride=8, cstride=8, alpha=0.3)\n",
    "cset = ax.contourf(X, Y, Z, zdir='z', offset=-100, cmap=cm.coolwarm)\n",
    "cset = ax.contourf(X, Y, Z, zdir='x', offset=-40, cmap=cm.coolwarm)\n",
    "cset = ax.contourf(X, Y, Z, zdir='y', offset=40, cmap=cm.coolwarm)\n",
    "\n",
    "ax.set_xlabel('X')\n",
    "ax.set_xlim(-40, 40)\n",
    "ax.set_ylabel('Y')\n",
    "ax.set_ylim(-40, 40)\n",
    "ax.set_zlabel('Z')\n",
    "ax.set_zlim(-100, 100)\n",
    "\n",
    "plt.show()"
   ]
  }
 ],
 "metadata": {
  "kernelspec": {
   "display_name": "Python 3",
   "language": "python",
   "name": "python3"
  },
  "language_info": {
   "codemirror_mode": {
    "name": "ipython",
    "version": 3
   },
   "file_extension": ".py",
   "mimetype": "text/x-python",
   "name": "python",
   "nbconvert_exporter": "python",
   "pygments_lexer": "ipython3",
   "version": "3.8.6"
  }
 },
 "nbformat": 4,
 "nbformat_minor": 5
}
