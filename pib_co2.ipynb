{
 "cells": [
  {
   "cell_type": "code",
   "execution_count": null,
   "id": "bbf330f0-9372-43b6-b149-71c3de9ca383",
   "metadata": {},
   "outputs": [],
   "source": [
    "# https://ourworldindata.org/grapher/gdp-world-regions-stacked-area\n",
    "import pandas as pd\n",
    "\n",
    "df_pib = pd.read_csv(\"gdp-world-regions-stacked-area.csv\")\n",
    "df_pib_world = df_pib.query(\"Entity == 'World'\")\n",
    "df_pib_world"
   ]
  },
  {
   "cell_type": "code",
   "execution_count": null,
   "id": "2983552b-de1b-4b65-aa54-a408825884e9",
   "metadata": {},
   "outputs": [],
   "source": [
    "# https://www.bp.com/en/global/corporate/energy-economics/statistical-review-of-world-energy.html\n",
    "\n",
    "from shifter_pandas.bp import UNITS_ENERGY, BPDatasource\n",
    "\n",
    "shifter_ds = BPDatasource(\"bp-stats-review-2021-all-data.xlsx\")"
   ]
  },
  {
   "cell_type": "code",
   "execution_count": null,
   "id": "0e67b678-0dbe-4241-8038-f027c15886e5",
   "metadata": {},
   "outputs": [],
   "source": [
    "df = shifter_ds.datasource(\n",
    "    regions_filter=[\"Total World\"],\n",
    "    types_filter=[\n",
    "        \"CO2 From Flaring\",\n",
    "        \"CO2 Excluding Flaring\",\n",
    "    ],\n",
    ")\n",
    "df_co2 = (\n",
    "    df.query(\"type in ['CO2 From Flaring', 'CO2 Excluding Flaring']\")\n",
    "    .groupby([\"year\"])\n",
    "    .sum()\n",
    "    .reset_index()\n",
    ")\n",
    "df_co2"
   ]
  },
  {
   "cell_type": "code",
   "execution_count": null,
   "id": "f22ee737-9099-4e6a-b706-98ec11789c6c",
   "metadata": {},
   "outputs": [],
   "source": [
    "df_co2_pib = pd.merge(\n",
    "    df_co2,\n",
    "    df_pib_world,\n",
    "    how=\"inner\",\n",
    "    on=None,\n",
    "    left_on=\"year\",\n",
    "    right_on=\"Year\",\n",
    ")\n",
    "df_co2_pib"
   ]
  },
  {
   "cell_type": "code",
   "execution_count": null,
   "id": "e7382f04-c2c5-4a1a-a727-ce02d682a86d",
   "metadata": {},
   "outputs": [],
   "source": [
    "import plotly.express as px\n",
    "\n",
    "fig = px.scatter(df_co2_pib, x=\"value\", y=\"GDP\", width=800, height=800, trendline=\"ols\")\n",
    "fig.update_layout()\n",
    "fig.show()"
   ]
  }
 ],
 "metadata": {
  "kernelspec": {
   "display_name": "Python 3",
   "language": "python",
   "name": "python3"
  },
  "language_info": {
   "codemirror_mode": {
    "name": "ipython",
    "version": 3
   },
   "file_extension": ".py",
   "mimetype": "text/x-python",
   "name": "python",
   "nbconvert_exporter": "python",
   "pygments_lexer": "ipython3"
  },
  "widgets": {
   "application/vnd.jupyter.widget-state+json": {
    "state": {},
    "version_major": 2,
    "version_minor": 0
   }
  }
 },
 "nbformat": 4,
 "nbformat_minor": 5
}
