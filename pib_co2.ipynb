{
 "cells": [
  {
   "cell_type": "code",
   "execution_count": null,
   "id": "bbf330f0-9372-43b6-b149-71c3de9ca383",
   "metadata": {},
   "outputs": [],
   "source": [
    "# https://data.worldbank.org/indicator/NY.GDP.MKTP.KD\n",
    "from shifter_pandas.worldbank import WorldbankDatasource\n",
    "\n",
    "shifter_ds = WorldbankDatasource(\"API_NY.GDP.MKTP.KD_DS2_en_csv_v2_3630701.zip\")\n",
    "\n",
    "df_pib = shifter_ds.datasource()\n",
    "df_pib.rename(columns={\"Value\": \"GDP\", \"CountryName\": \"Region\"}, inplace=True)\n",
    "df_pib = df_pib.query(\"Region == 'World'\")\n",
    "df_pib"
   ]
  },
  {
   "cell_type": "code",
   "execution_count": null,
   "id": "2983552b-de1b-4b65-aa54-a408825884e9",
   "metadata": {},
   "outputs": [],
   "source": [
    "# https://www.bp.com/en/global/corporate/energy-economics/statistical-review-of-world-energy.html\n",
    "\n",
    "from shifter_pandas.bp import UNITS_ENERGY, BPDatasource\n",
    "\n",
    "shifter_ds = BPDatasource(\"bp-stats-review-2021-all-data.xlsx\")"
   ]
  },
  {
   "cell_type": "code",
   "execution_count": null,
   "id": "0e67b678-0dbe-4241-8038-f027c15886e5",
   "metadata": {},
   "outputs": [],
   "source": [
    "df = shifter_ds.datasource(\n",
    "    regions_filter=[\"Total World\"],\n",
    "    types_filter=[\n",
    "        \"CO2 From Flaring\",\n",
    "        \"CO2 Excluding Flaring\",\n",
    "    ],\n",
    ")\n",
    "df_co2 = (\n",
    "    df.query(\"Type in ['CO2 From Flaring', 'CO2 Excluding Flaring']\")\n",
    "    .groupby([\"Year\"])\n",
    "    .sum()\n",
    "    .reset_index()\n",
    ")\n",
    "df_co2.rename(columns={\"Value\": \"CO2\"}, inplace=True)\n",
    "df_co2"
   ]
  },
  {
   "cell_type": "code",
   "execution_count": null,
   "id": "f22ee737-9099-4e6a-b706-98ec11789c6c",
   "metadata": {},
   "outputs": [],
   "source": [
    "import pandas as pd\n",
    "\n",
    "df_co2_pib = pd.merge(df_co2, df_pib, how=\"inner\", on=\"Year\")\n",
    "df_co2_pib"
   ]
  },
  {
   "cell_type": "code",
   "execution_count": null,
   "id": "e7382f04-c2c5-4a1a-a727-ce02d682a86d",
   "metadata": {},
   "outputs": [],
   "source": [
    "import plotly.express as px\n",
    "\n",
    "fig = px.scatter(\n",
    "    df_co2_pib,\n",
    "    x=\"CO2\",\n",
    "    y=\"GDP\",\n",
    "    width=800,\n",
    "    height=800,\n",
    "    trendline=\"ols\",\n",
    "    hover_data=[\"CO2\", \"GDP\", \"Year\"],\n",
    ")\n",
    "fig.update_layout()\n",
    "fig.show()"
   ]
  },
  {
   "cell_type": "code",
   "execution_count": null,
   "id": "5c7a2c4a-c1c0-48f0-b678-a41ebf1a15f0",
   "metadata": {},
   "outputs": [],
   "source": [
    "ascii"
   ]
  },
  {
   "cell_type": "code",
   "execution_count": null,
   "id": "41efcefb-7c23-4ab6-888d-f8d858c2d09f",
   "metadata": {},
   "outputs": [],
   "source": [
    "for col in ['Region', 'CountryCode', 'IndicatorName', 'IndicatorCode']:\n",
    "    if col in df_co2_pib:\n",
    "        del df_co2_pib[col]\n",
    "df_co2_pib.to_pickle('public/world_co2_gdp.px')\n",
    "df_co2_pib\n"
   ]
  }
 ],
 "metadata": {
  "kernelspec": {
   "display_name": "Python 3",
   "language": "python",
   "name": "python3"
  },
  "language_info": {
   "codemirror_mode": {
    "name": "ipython",
    "version": 3
   },
   "file_extension": ".py",
   "mimetype": "text/x-python",
   "name": "python",
   "nbconvert_exporter": "python",
   "pygments_lexer": "ipython3"
  },
  "widgets": {
   "application/vnd.jupyter.widget-state+json": {
    "state": {},
    "version_major": 2,
    "version_minor": 0
   }
  }
 },
 "nbformat": 4,
 "nbformat_minor": 5
}
