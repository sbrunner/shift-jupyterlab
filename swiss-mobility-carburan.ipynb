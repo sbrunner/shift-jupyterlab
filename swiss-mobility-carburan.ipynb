{
 "cells": [
  {
   "cell_type": "code",
   "execution_count": null,
   "id": "cda6e4cf",
   "metadata": {},
   "outputs": [],
   "source": [
    "from shifter_pandas.ofs import OFSDatasource\n",
    "\n",
    "shifter_ds = OFSDatasource(\"https://www.pxweb.bfs.admin.ch/api/v1/fr/px-x-1103020100_165/px-x-1103020100_165.px\")\n",
    "\n",
    "df = shifter_ds.datasource({\n",
    "        \"query\": [\n",
    "            {\n",
    "                \"code\": \"Treibstoff\",\n",
    "                \"selection\": {\n",
    "                    \"filter\": \"item\",\n",
    "                    \"values\": [\"100\", \"200\", \"300\", \"400\", \"500\", \"600\", \"9900\"],\n",
    "                },\n",
    "            }\n",
    "        ],\n",
    "        \"response\": {\"format\": \"json-stat\"},\n",
    "    })\n",
    "df"
   ]
  },
  {
   "cell_type": "code",
   "execution_count": null,
   "id": "fd44c6d2",
   "metadata": {},
   "outputs": [],
   "source": [
    "import plotly.express as px\n",
    "\n",
    "fig = px.line(df, x=\"Année\", y=\"values\", color=\"Carburant\", width=800, height=800)\n",
    "fig.update_layout(\n",
    "    yaxis_type=\"log\",\n",
    "    xaxis={\n",
    "        \"rangeslider\": {\"visible\": True},\n",
    "    },\n",
    ")\n",
    "fig.show()"
   ]
  }
 ],
 "metadata": {
  "kernelspec": {
   "display_name": "Python 3",
   "language": "python",
   "name": "python3"
  },
  "language_info": {
   "codemirror_mode": {
    "name": "ipython",
    "version": 3
   },
   "file_extension": ".py",
   "mimetype": "text/x-python",
   "name": "python",
   "nbconvert_exporter": "python",
   "pygments_lexer": "ipython3"
  },
  "widgets": {
   "application/vnd.jupyter.widget-state+json": {
    "state": {},
    "version_major": 2,
    "version_minor": 0
   }
  }
 },
 "nbformat": 4,
 "nbformat_minor": 5
}
