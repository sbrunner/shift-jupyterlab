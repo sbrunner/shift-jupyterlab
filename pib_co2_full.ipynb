{
 "cells": [
  {
   "cell_type": "code",
   "execution_count": null,
   "id": "bbf330f0-9372-43b6-b149-71c3de9ca383",
   "metadata": {},
   "outputs": [],
   "source": [
    "# https://ourworldindata.org/grapher/gdp-world-regions-stacked-area\n",
    "import pandas as pd\n",
    "\n",
    "df_pib = pd.read_csv(\"gdp-world-regions-stacked-area.csv\")\n",
    "df_pib"
   ]
  },
  {
   "cell_type": "code",
   "execution_count": null,
   "id": "ce3b7a19-ed4c-4c53-8e48-5736991ce889",
   "metadata": {},
   "outputs": [],
   "source": [
    "# https://data.worldbank.org/indicator/NY.GDP.MKTP.KD\n",
    "import csv\n",
    "import io\n",
    "import re\n",
    "from zipfile import ZipFile\n",
    "\n",
    "import pandas as pd\n",
    "\n",
    "\n",
    "def camel_case(words):\n",
    "    return \"\".join(word[0].upper() + word[1:].lower() for word in words.split(\" \"))\n",
    "\n",
    "\n",
    "with ZipFile(\"API_NY.GDP.MKTP.KD_DS2_en_csv_v2_3630701.zip\") as myzip:\n",
    "    with myzip.open(\"API_NY.GDP.MKTP.KD_DS2_en_csv_v2_3630701.csv\") as csvfile:\n",
    "        spamreader = csv.reader(\n",
    "            io.TextIOWrapper(csvfile, encoding=None), delimiter=\",\", quotechar='\"'\n",
    "        )\n",
    "        table = list(spamreader)\n",
    "        year_re = re.compile(r\"^[0-9]{4}$\")\n",
    "        headers = [\n",
    "            (e[0], camel_case(e[1]))\n",
    "            for e in enumerate(table[4])\n",
    "            if e[1] and year_re.match(e[1]) is None\n",
    "        ]\n",
    "        years = [\n",
    "            (e[0], int(e[1]))\n",
    "            for e in enumerate(table[4])\n",
    "            if year_re.match(e[1]) is not None\n",
    "        ]\n",
    "\n",
    "        data = {\"Year\": [], \"GDP\": []}\n",
    "        for y, header in headers:\n",
    "            data[header] = []\n",
    "        for row in table[5:]:\n",
    "            data_headers = {}\n",
    "            data_headers2 = {}\n",
    "            for y, header in headers:\n",
    "                data_headers[header] = row[y]\n",
    "                data_headers2[header] = [row[y]]\n",
    "\n",
    "            for y, year in years:\n",
    "                value = row[y]\n",
    "                if value:\n",
    "                    for y2, header in headers:\n",
    "                        data[header].append(row[y2])\n",
    "                    data[\"Year\"].append(year)\n",
    "                    data[\"GDP\"].append(float(row[y]))\n",
    "\n",
    "        df_pib = pd.DataFrame(data)\n",
    "\n",
    "df_pib"
   ]
  },
  {
   "cell_type": "code",
   "execution_count": null,
   "id": "be2edd76-4ce2-4c57-a777-4914c3b99117",
   "metadata": {},
   "outputs": [],
   "source": [
    "df_pib_sum = df_pib.groupby(\"Year\").sum().reset_index()\n",
    "df_pib_world = df_pib.query(\"CountryName in ['World', 'Switzerland']\")\n",
    "df_pib_world"
   ]
  },
  {
   "cell_type": "code",
   "execution_count": null,
   "id": "db0af0b7-5013-478b-8779-60a21b1a74ea",
   "metadata": {},
   "outputs": [],
   "source": [
    "import plotly.express as px\n",
    "\n",
    "fig = px.line(df_pib_world, x=\"Year\", y=\"GDP\", width=800, height=800)\n",
    "fig.update_layout(\n",
    "    yaxis_type=\"log\",\n",
    "    xaxis={\n",
    "        \"rangeslider\": {\"visible\": True},\n",
    "    },\n",
    ")\n",
    "fig.show()"
   ]
  },
  {
   "cell_type": "code",
   "execution_count": null,
   "id": "baf47e25-096f-4a68-8ec2-13113d72b79e",
   "metadata": {},
   "outputs": [],
   "source": [
    "# https://ourworldindata.org/grapher/population-since-1800\n",
    "import pandas as pd\n",
    "\n",
    "df_population = pd.read_csv(\"population-since-1800.csv\")\n",
    "df_population"
   ]
  },
  {
   "cell_type": "code",
   "execution_count": null,
   "id": "3fa5b271-a8d4-4583-a0d2-7b149249757f",
   "metadata": {},
   "outputs": [],
   "source": [
    "df_population_world = df_population.query(\"Entity == ['World', 'Switzerland']\")\n",
    "df_population_world"
   ]
  },
  {
   "cell_type": "code",
   "execution_count": null,
   "id": "b0bff1f2-be43-4b23-91f4-ac664c942a02",
   "metadata": {},
   "outputs": [],
   "source": [
    "import plotly.express as px\n",
    "\n",
    "fig = px.line(\n",
    "    df_population_world,\n",
    "    x=\"Year\",\n",
    "    y=\"Population (historical estimates)\",\n",
    "    width=800,\n",
    "    height=800,\n",
    ")\n",
    "fig.update_layout(\n",
    "    yaxis_type=\"log\",\n",
    "    xaxis={\n",
    "        \"rangeslider\": {\"visible\": True},\n",
    "    },\n",
    ")\n",
    "fig.show()"
   ]
  },
  {
   "cell_type": "code",
   "execution_count": null,
   "id": "2983552b-de1b-4b65-aa54-a408825884e9",
   "metadata": {},
   "outputs": [],
   "source": [
    "# https://www.bp.com/en/global/corporate/energy-economics/statistical-review-of-world-energy.html\n",
    "\n",
    "from shifter_pandas.bp import UNITS_ENERGY, BPDatasource\n",
    "\n",
    "shifter_ds = BPDatasource(\"bp-stats-review-2021-all-data.xlsx\")"
   ]
  },
  {
   "cell_type": "code",
   "execution_count": null,
   "id": "895efc21-e735-41c0-8e0b-d10d44566ad0",
   "metadata": {},
   "outputs": [],
   "source": [
    "for type_ in shifter_ds.metadata():\n",
    "    print(f\"{type_['label']} [{type_['unit']}]\")"
   ]
  },
  {
   "cell_type": "code",
   "execution_count": null,
   "id": "0e67b678-0dbe-4241-8038-f027c15886e5",
   "metadata": {},
   "outputs": [],
   "source": [
    "df = shifter_ds.datasource(\n",
    "    regions_filter=[\"Total World\"],\n",
    "    types_filter=[\n",
    "        \"Primary Energy Consumption\",\n",
    "        \"CO2 From Flaring\",\n",
    "        \"CO2 Excluding Flaring\",\n",
    "    ],\n",
    ")\n",
    "df"
   ]
  },
  {
   "cell_type": "code",
   "execution_count": null,
   "id": "8d05152c-7d75-4673-ac4e-37b6fbb58794",
   "metadata": {},
   "outputs": [],
   "source": [
    "import plotly.express as px\n",
    "\n",
    "fig = px.line(df, x=\"Year\", y=\"Value\", color=\"TypeUnit\", width=800, height=800)\n",
    "fig.update_layout(\n",
    "    yaxis_type=\"log\",\n",
    "    xaxis={\n",
    "        \"rangeslider\": {\"visible\": True},\n",
    "    },\n",
    ")\n",
    "fig.show()"
   ]
  },
  {
   "cell_type": "code",
   "execution_count": null,
   "id": "d4232c21-d24b-41b9-b561-5f52e7f5b471",
   "metadata": {},
   "outputs": [],
   "source": [
    "df_co2 = (\n",
    "    df.query(\"Type in ['CO2 From Flaring', 'CO2 Excluding Flaring']\")\n",
    "    .groupby([\"Year\"])\n",
    "    .sum()\n",
    "    .reset_index()\n",
    ")\n",
    "df_co2.rename(columns={\"Value\": \"CO2\"}, inplace=True)\n",
    "df_co2"
   ]
  },
  {
   "cell_type": "code",
   "execution_count": null,
   "id": "8116e283-5341-406c-9d40-b21f86fa78fa",
   "metadata": {},
   "outputs": [],
   "source": [
    "import plotly.express as px\n",
    "\n",
    "fig = px.line(df_co2, x=\"Year\", y=\"CO2\", width=800, height=800)\n",
    "fig.update_layout(\n",
    "    yaxis_type=\"log\",\n",
    "    xaxis={\"rangeslider\": {\"visible\": True}},\n",
    ")\n",
    "fig.show()"
   ]
  },
  {
   "cell_type": "code",
   "execution_count": null,
   "id": "f22ee737-9099-4e6a-b706-98ec11789c6c",
   "metadata": {},
   "outputs": [],
   "source": [
    "# df_co2_pib = pd.concat([df_co2,\n",
    "#    df_pib_world], axis=1\n",
    "\n",
    "df_co2_pib = pd.merge(\n",
    "    df_co2,\n",
    "    df_pib_world,\n",
    "    how=\"inner\",\n",
    "    on=\"Year\",\n",
    ")\n",
    "df_co2_pib"
   ]
  },
  {
   "cell_type": "code",
   "execution_count": null,
   "id": "e7382f04-c2c5-4a1a-a727-ce02d682a86d",
   "metadata": {},
   "outputs": [],
   "source": [
    "import plotly.express as px\n",
    "\n",
    "fig = px.scatter(\n",
    "    df_co2_pib,\n",
    "    x=\"CO2\",\n",
    "    y=\"GDP\",\n",
    "    width=800,\n",
    "    height=800,\n",
    "    trendline=\"lowess\",\n",
    "    hover_data=[\"CO2\", \"GDP\", \"Year\"],\n",
    ")\n",
    "fig.show()"
   ]
  },
  {
   "cell_type": "code",
   "execution_count": null,
   "id": "ef7797a1-54b6-43f8-9fed-188c25701e07",
   "metadata": {},
   "outputs": [],
   "source": [
    "import plotly.express as px\n",
    "\n",
    "fig = px.scatter(\n",
    "    df_co2_pib,\n",
    "    x=\"CO2\",\n",
    "    y=\"GDP\",\n",
    "    width=800,\n",
    "    height=800,\n",
    "    trendline=\"ols\",\n",
    "    hover_data=[\"CO2\", \"GDP\", \"Year\"],\n",
    ")\n",
    "fig.update_traces(mode=\"lines\")\n",
    "fig.show()"
   ]
  },
  {
   "cell_type": "code",
   "execution_count": null,
   "id": "f6f0de9d-3e13-47ce-86d3-c6fb60a5de4d",
   "metadata": {},
   "outputs": [],
   "source": [
    "df_e_pib = pd.merge(\n",
    "    df.query('Type == \"Primary Energy Consumption\"'),\n",
    "    df_pib_world,\n",
    "    how=\"inner\",\n",
    "    on=\"Year\",\n",
    ")\n",
    "df_e_pib.rename(columns={\"Value\": \"PrimaryEnergyConsumption\"}, inplace=True)\n",
    "df_e_pib"
   ]
  },
  {
   "cell_type": "code",
   "execution_count": null,
   "id": "4f027571-fb61-402d-ab3f-f84d06aa49dd",
   "metadata": {},
   "outputs": [],
   "source": [
    "import plotly.express as px\n",
    "\n",
    "fig = px.scatter(\n",
    "    df_e_pib,\n",
    "    x=\"PrimaryEnergyConsumption\",\n",
    "    y=\"GDP\",\n",
    "    width=800,\n",
    "    height=800,\n",
    "    trendline=\"lowess\",\n",
    "    hover_data=[\"PrimaryEnergyConsumption\", \"GDP\", \"Year\"],\n",
    ")\n",
    "fig.update_layout()\n",
    "fig.show()"
   ]
  },
  {
   "cell_type": "code",
   "execution_count": null,
   "id": "e4554fa8-d29c-490a-be2c-56ae29a2f87a",
   "metadata": {},
   "outputs": [],
   "source": [
    "df_co2_pib2 = df_co2_pib.assign(CO2_P_PIB=df_co2_pib.CO2 / df_co2_pib.GDP)\n",
    "df_co2_pib2"
   ]
  },
  {
   "cell_type": "code",
   "execution_count": null,
   "id": "da736ed7-b199-4a47-be78-cf5b202a6381",
   "metadata": {},
   "outputs": [],
   "source": [
    "import plotly.express as px\n",
    "\n",
    "fig = px.line(\n",
    "    df_co2_pib2, x=\"Year\", y=\"CO2_P_PIB\", width=800, height=800, title=\"Efficacité\"\n",
    ")\n",
    "fig.update_layout()\n",
    "fig.show()"
   ]
  }
 ],
 "metadata": {
  "kernelspec": {
   "display_name": "Python 3",
   "language": "python",
   "name": "python3"
  },
  "language_info": {
   "codemirror_mode": {
    "name": "ipython",
    "version": 3
   },
   "file_extension": ".py",
   "mimetype": "text/x-python",
   "name": "python",
   "nbconvert_exporter": "python",
   "pygments_lexer": "ipython3"
  },
  "widgets": {
   "application/vnd.jupyter.widget-state+json": {
    "state": {},
    "version_major": 2,
    "version_minor": 0
   }
  }
 },
 "nbformat": 4,
 "nbformat_minor": 5
}
