{
 "cells": [
  {
   "cell_type": "code",
   "execution_count": null,
   "id": "bbf330f0-9372-43b6-b149-71c3de9ca383",
   "metadata": {},
   "outputs": [],
   "source": [
    "# https://ourworldindata.org/grapher/gdp-world-regions-stacked-area\n",
    "import pandas as pd\n",
    "\n",
    "df_pib = pd.read_csv(\"gdp-world-regions-stacked-area.csv\")\n",
    "df_pib"
   ]
  },
  {
   "cell_type": "code",
   "execution_count": null,
   "id": "be2edd76-4ce2-4c57-a777-4914c3b99117",
   "metadata": {},
   "outputs": [],
   "source": [
    "df_pib_sum = df_pib.groupby(\"Year\").sum().reset_index()\n",
    "df_pib_world = df_pib.query(\"Entity == 'World'\")\n",
    "df_pib_world"
   ]
  },
  {
   "cell_type": "code",
   "execution_count": null,
   "id": "db0af0b7-5013-478b-8779-60a21b1a74ea",
   "metadata": {},
   "outputs": [],
   "source": [
    "import plotly.express as px\n",
    "\n",
    "fig = px.line(df_pib_world, x=\"Year\", y=\"GDP\", width=800, height=800)\n",
    "fig.update_layout(\n",
    "    yaxis_type=\"log\",\n",
    "    xaxis={\n",
    "        \"rangeslider\": {\"visible\": True},\n",
    "    },\n",
    ")\n",
    "fig.show()"
   ]
  },
  {
   "cell_type": "code",
   "execution_count": null,
   "id": "baf47e25-096f-4a68-8ec2-13113d72b79e",
   "metadata": {},
   "outputs": [],
   "source": [
    "# https://ourworldindata.org/grapher/population-since-1800\n",
    "import pandas as pd\n",
    "\n",
    "df_population = pd.read_csv(\"population-since-1800.csv\")\n",
    "df_population"
   ]
  },
  {
   "cell_type": "code",
   "execution_count": null,
   "id": "3fa5b271-a8d4-4583-a0d2-7b149249757f",
   "metadata": {},
   "outputs": [],
   "source": [
    "df_population_world = df_population.query(\"Entity == 'World'\")\n",
    "df_population_world"
   ]
  },
  {
   "cell_type": "code",
   "execution_count": null,
   "id": "b0bff1f2-be43-4b23-91f4-ac664c942a02",
   "metadata": {},
   "outputs": [],
   "source": [
    "import plotly.express as px\n",
    "\n",
    "fig = px.line(\n",
    "    df_population_world,\n",
    "    x=\"Year\",\n",
    "    y=\"Population (historical estimates)\",\n",
    "    width=800,\n",
    "    height=800,\n",
    ")\n",
    "fig.update_layout(\n",
    "    yaxis_type=\"log\",\n",
    "    xaxis={\n",
    "        \"rangeslider\": {\"visible\": True},\n",
    "    },\n",
    ")\n",
    "fig.show()"
   ]
  },
  {
   "cell_type": "code",
   "execution_count": null,
   "id": "2983552b-de1b-4b65-aa54-a408825884e9",
   "metadata": {},
   "outputs": [],
   "source": [
    "# https://www.bp.com/en/global/corporate/energy-economics/statistical-review-of-world-energy.html\n",
    "\n",
    "from shifter_pandas.bp import UNITS_ENERGY, BPDatasource\n",
    "\n",
    "shifter_ds = BPDatasource(\"bp-stats-review-2021-all-data.xlsx\")"
   ]
  },
  {
   "cell_type": "code",
   "execution_count": null,
   "id": "895efc21-e735-41c0-8e0b-d10d44566ad0",
   "metadata": {},
   "outputs": [],
   "source": [
    "for type_ in shifter_ds.metadata():\n",
    "    print(f\"{type_['label']} [{type_['unit']}]\")"
   ]
  },
  {
   "cell_type": "code",
   "execution_count": null,
   "id": "0e67b678-0dbe-4241-8038-f027c15886e5",
   "metadata": {},
   "outputs": [],
   "source": [
    "df = shifter_ds.datasource(\n",
    "    regions_filter=[\"Total World\"],\n",
    "    types_filter=[\n",
    "        \"Primary Energy Consumption\",\n",
    "        \"CO2 From Flaring\",\n",
    "        \"CO2 Excluding Flaring\",\n",
    "    ],\n",
    ")\n",
    "df"
   ]
  },
  {
   "cell_type": "code",
   "execution_count": null,
   "id": "8d05152c-7d75-4673-ac4e-37b6fbb58794",
   "metadata": {},
   "outputs": [],
   "source": [
    "import plotly.express as px\n",
    "\n",
    "fig = px.line(df, x=\"year\", y=\"value\", color=\"type unit\", width=800, height=800)\n",
    "fig.update_layout(\n",
    "    yaxis_type=\"log\",\n",
    "    xaxis={\n",
    "        \"rangeslider\": {\"visible\": True},\n",
    "    },\n",
    ")\n",
    "fig.show()"
   ]
  },
  {
   "cell_type": "code",
   "execution_count": null,
   "id": "d4232c21-d24b-41b9-b561-5f52e7f5b471",
   "metadata": {},
   "outputs": [],
   "source": [
    "df_co2 = (\n",
    "    df.query(\"type in ['CO2 From Flaring', 'CO2 Excluding Flaring']\")\n",
    "    .groupby([\"year\"])\n",
    "    .sum()\n",
    "    .reset_index()\n",
    ")\n",
    "df_co2"
   ]
  },
  {
   "cell_type": "code",
   "execution_count": null,
   "id": "8116e283-5341-406c-9d40-b21f86fa78fa",
   "metadata": {},
   "outputs": [],
   "source": [
    "import plotly.express as px\n",
    "\n",
    "fig = px.line(df_co2, x=\"year\", y=\"value\", width=800, height=800)\n",
    "fig.update_layout(\n",
    "    yaxis_type=\"log\",\n",
    "    xaxis={\n",
    "        \"rangeslider\": {\"visible\": True},\n",
    "    },\n",
    ")\n",
    "fig.show()"
   ]
  },
  {
   "cell_type": "code",
   "execution_count": null,
   "id": "f22ee737-9099-4e6a-b706-98ec11789c6c",
   "metadata": {},
   "outputs": [],
   "source": [
    "df_co2_pib = pd.merge(\n",
    "    df_co2,\n",
    "    df_pib_world,\n",
    "    how=\"inner\",\n",
    "    on=None,\n",
    "    left_on=\"year\",\n",
    "    right_on=\"Year\",\n",
    ")\n",
    "df_co2_pib"
   ]
  },
  {
   "cell_type": "code",
   "execution_count": null,
   "id": "e7382f04-c2c5-4a1a-a727-ce02d682a86d",
   "metadata": {},
   "outputs": [],
   "source": [
    "import plotly.express as px\n",
    "\n",
    "fig = px.scatter(df_co2_pib, x=\"value\", y=\"GDP\", width=800, height=800, trendline=\"ols\")\n",
    "fig.update_layout()\n",
    "fig.show()"
   ]
  },
  {
   "cell_type": "code",
   "execution_count": null,
   "id": "f6f0de9d-3e13-47ce-86d3-c6fb60a5de4d",
   "metadata": {},
   "outputs": [],
   "source": [
    "df_e_pib = pd.merge(\n",
    "    df.query('type == \"Primary Energy Consumption\"'),\n",
    "    df_pib_world,\n",
    "    how=\"inner\",\n",
    "    on=None,\n",
    "    left_on=\"year\",\n",
    "    right_on=\"Year\",\n",
    ")\n",
    "df_e_pib"
   ]
  },
  {
   "cell_type": "code",
   "execution_count": null,
   "id": "4f027571-fb61-402d-ab3f-f84d06aa49dd",
   "metadata": {},
   "outputs": [],
   "source": [
    "import plotly.express as px\n",
    "\n",
    "fig = px.scatter(df_co2_pib, x=\"value\", y=\"GDP\", width=800, height=800, trendline=\"ols\")\n",
    "fig.update_layout()\n",
    "fig.show()"
   ]
  },
  {
   "cell_type": "code",
   "execution_count": null,
   "id": "e4554fa8-d29c-490a-be2c-56ae29a2f87a",
   "metadata": {},
   "outputs": [],
   "source": [
    "df_co2_pib2 = df_co2_pib.assign(co2_pib=df_co2_pib.value / df_co2_pib.GDP)\n",
    "df_co2_pib2"
   ]
  },
  {
   "cell_type": "code",
   "execution_count": null,
   "id": "da736ed7-b199-4a47-be78-cf5b202a6381",
   "metadata": {},
   "outputs": [],
   "source": [
    "import plotly.express as px\n",
    "\n",
    "fig = px.line(df_co2_pib2, x=\"year\", y=\"co2_pib\", width=800, height=800)\n",
    "fig.update_layout()\n",
    "fig.show()"
   ]
  }
 ],
 "metadata": {
  "kernelspec": {
   "display_name": "Python 3",
   "language": "python",
   "name": "python3"
  },
  "language_info": {
   "codemirror_mode": {
    "name": "ipython",
    "version": 3
   },
   "file_extension": ".py",
   "mimetype": "text/x-python",
   "name": "python",
   "nbconvert_exporter": "python",
   "pygments_lexer": "ipython3"
  },
  "widgets": {
   "application/vnd.jupyter.widget-state+json": {
    "state": {},
    "version_major": 2,
    "version_minor": 0
   }
  }
 },
 "nbformat": 4,
 "nbformat_minor": 5
}
