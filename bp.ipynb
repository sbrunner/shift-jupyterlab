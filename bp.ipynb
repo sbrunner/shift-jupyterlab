{
 "cells": [
  {
   "cell_type": "code",
   "execution_count": 2,
   "id": "2983552b-de1b-4b65-aa54-a408825884e9",
   "metadata": {},
   "outputs": [],
   "source": [
    "# https://www.bp.com/en/global/corporate/energy-economics/statistical-review-of-world-energy.html\n",
    "\n",
    "import openpyxl\n",
    "xlsx = openpyxl.load_workbook('bp-stats-review-2021-all-data.xlsx')"
   ]
  },
  {
   "cell_type": "code",
   "execution_count": 79,
   "id": "895efc21-e735-41c0-8e0b-d10d44566ad0",
   "metadata": {},
   "outputs": [
    {
     "name": "stdout",
     "output_type": "stream",
     "text": [
      "Primary Energy Consumption [Exajoules]\n",
      "Primary Energy - Cons by fuel [Exajoules]\n",
      "Primary Energy - Cons capita [Gigajoule per capita]\n",
      "Carbon Dioxide Emissions [Million tonnes of carbon dioxide]\n",
      "Natural Gas Flaring [Billion cubic metres]\n",
      "CO2 From Flaring [Million tonnes of carbon dioxide]\n",
      "CO2 Excluding Flaring [Million tonnes of carbon dioxide]\n",
      "Oil - Proved reserves [None]\n",
      "Oil - Proved reserves history [Thousand million barrels]\n",
      "Oil Production - Barrels [Thousand barrels daily]\n",
      "Oil Production - Tonnes [Million tonnes]\n",
      "Oil Production - Crude Conds [Thousand barrels daily]\n",
      "Oil Production - NGLs [Thousand barrels daily]\n",
      "Total Liquids - Consumption [Thousand barrels daily]\n",
      "Oil Consumption - Barrels [Thousand barrels daily]\n",
      "Oil Consumption - Tonnes [Million tonnes]\n",
      "Oil Consumption - EJ [Exajoules]\n",
      "Oil - Regional Consumption  [Thousand barrels daily]\n",
      "Oil - Spot crude prices [None]\n",
      "Oil - Crude prices since 1861 [US dollars per barrel]\n",
      "Oil - Refinery throughput [Thousand barrels daily*]\n",
      "Oil - Refining capacity [Thousand barrels daily*]\n",
      "Oil - Regional refining margins [US dollars per barrel]\n",
      "Oil - Trade movements [Thousand barrels daily]\n",
      "Oil - Inter-area movements  [Crude (million tonnes)]\n",
      "Oil - Trade 2019 - 2020 [None]\n",
      "Gas - Proved reserves [None]\n",
      "Gas - Proved reserves history  [Trillion cubic metres]\n",
      "Gas Production - Bcm [Billion cubic metres]\n",
      "Gas Production - Bcf [Billion cubic feet per day]\n",
      "Gas Production - EJ [Exajoules]\n",
      "Gas Consumption - Bcm [Billion cubic metres]\n",
      "Gas Consumption - Bcf [Billion cubic feet per day]\n",
      "Gas Consumption - EJ [Exajoules]\n",
      "Gas - Prices  [None]\n",
      "Gas - Inter-regional trade [Billion cubic metres]\n",
      "Gas - LNG imports [Billion cubic metres]\n",
      "Gas - LNG exports [Billion cubic metres]\n",
      "Gas - Trade movts LNG [Billion cubic metres]\n",
      "Gas - Trade movts - pipeline [To]\n",
      "Coal - Reserves [None]\n",
      "Coal Production - Tonnes [Million tonnes ]\n",
      "Coal Production - EJ [Exajoules]\n",
      "Coal Consumption - EJ [Exajoules]\n",
      "Coal - Prices [None]\n",
      "Coal - Trade movements [Exajoules]\n",
      "Coal - Inter area movts [Exajoules]\n",
      "Nuclear Generation - TWh [Terawatt-hours]\n",
      "Nuclear Consumption - EJ [Exajoules (input-equivalent)]\n",
      "Hydro Generation - TWh [Terawatt-hours]\n",
      "Hydro Consumption - EJ [Exajoules]\n",
      "Renewables Consumption - EJ [Exajoules (input-equivalent)]\n",
      "Renewables Power - EJ [Exajoules (input-equivalent)*]\n",
      "Renewables power - TWh [Terawatt-hours]\n",
      "Renewables Generation by source [Terawatt-hours]\n",
      "Solar Generation - TWh [Terawatt-hours]\n",
      "Solar Consumption - EJ [Exajoules (input-equivalent)]\n",
      "Wind Generation - TWh [Terawatt-hours]\n",
      "Wind Consumption - EJ [Exajoules (input-equivalent)]\n",
      "Geo Biomass Other - TWh [Terawatt-hours]\n",
      "Geo Biomass Other - EJ [Exajoules (input-equivalent)]\n",
      "Biofuels Production - Kboed [Thousand barrels of oil equivalent per day]\n",
      "Biofuels Production - PJ [Petajoules]\n",
      "Biofuels Consumption - Kboed [Thousand barrels of oil equivalent per day]\n",
      "Biofuels Consumption - PJ [Petajoules]\n",
      "Electricity Generation  [Terawatt-hours]\n",
      "Elec Gen by fuel [Terawatt-hours]\n",
      "Elec Gen from Oil [Terawatt-hours]\n",
      "Elec Gen from Gas [Terawatt-hours]\n",
      "Elec Gen from Coal [Terawatt-hours]\n",
      "Elec Gen from Other [Terawatt-hours]\n",
      "Cobalt Production-Reserves [Mine production]\n",
      "Lithium Production-Reserves [Thousand tonnes of Lithium content]\n",
      "Graphite Production-Reserves [Thousand tonnes]\n",
      "Rare Earth Production-Reserves [Thousand tonnes1]\n",
      "Cobalt and Lithium - Prices [None]\n",
      "Geothermal Capacity [None]\n",
      "Solar Capacity [None]\n",
      "Wind Capacity [None]\n",
      "Approximate conversion factors [None]\n",
      "Definitions [       Definitions              ]\n",
      "Methodology [None]\n"
     ]
    }
   ],
   "source": [
    "for index, value in enumerate(xlsx.sheetnames):\n",
    "    if value != 'Contents' and type(xlsx.worksheets[type_index].cell(3, 2).value) == int:\n",
    "        print(f'{value} [{xlsx.worksheets[index].cell(3, 1).value}]')\n",
    "        #print(f'{value} [{xlsx.worksheets[index].cell(3, 2).value}]')"
   ]
  },
  {
   "cell_type": "code",
   "execution_count": 118,
   "id": "47ecfe65-2ef1-4b8f-9ed3-3da9995f6090",
   "metadata": {},
   "outputs": [
    {
     "name": "stdout",
     "output_type": "stream",
     "text": [
      "Primary Energy Consumption\n",
      "Primary Energy Consumption\n",
      "Oil Consumption - EJ\n",
      "Gas Consumption - EJ\n",
      "Coal Consumption - EJ\n",
      "Nuclear Generation - TWh\n",
      "Nuclear Consumption - EJ\n",
      "Hydro Generation - TWh\n",
      "Hydro Consumption - EJ\n",
      "Renewables Consumption - EJ\n",
      "Renewables Generation by source\n",
      "Solar Generation - TWh\n",
      "Solar Consumption - EJ\n",
      "Wind Generation - TWh\n",
      "Wind Consumption - EJ\n",
      "Biofuels Consumption - PJ\n",
      "Electricity Generation \n",
      "Geothermal Capacity\n",
      "Solar Capacity\n",
      "Wind Capacity\n"
     ]
    }
   ],
   "source": [
    "# Type\n",
    "types = []\n",
    "for index, value in enumerate(xlsx.sheetnames):\n",
    "\n",
    "    #if value not in ['Contents', 'Approximate conversion factors', 'Definitions', 'Methodology'] \\\n",
    "    #        and type(xlsx.worksheets[type_index].cell(3, 2).value) == int:\n",
    "        \n",
    "    if xlsx.worksheets[index].cell(3, 1).value in ['Exajoules', 'Petajoules', 'Exajoules (input-equivalent)', 'Terawatt-hours']:\n",
    "        values_split = value.split(' ')\n",
    "        if 'Generation' in values_split:\n",
    "            types.append({\n",
    "                    'label': value,\n",
    "                    'index': index\n",
    "                })\n",
    "        if 'Capacity' in values_split:\n",
    "            types.append({\n",
    "                    'label': value,\n",
    "                    'index': index\n",
    "                })\n",
    "        if 'Consumption' in values_split:\n",
    "            types.append({\n",
    "                    'label': value,\n",
    "                    'index': index\n",
    "                })\n",
    "for t in types_:\n",
    "    print(t['label'])"
   ]
  },
  {
   "cell_type": "code",
   "execution_count": 125,
   "id": "0e67b678-0dbe-4241-8038-f027c15886e5",
   "metadata": {},
   "outputs": [
    {
     "data": {
      "text/html": [
       "<div>\n",
       "<style scoped>\n",
       "    .dataframe tbody tr th:only-of-type {\n",
       "        vertical-align: middle;\n",
       "    }\n",
       "\n",
       "    .dataframe tbody tr th {\n",
       "        vertical-align: top;\n",
       "    }\n",
       "\n",
       "    .dataframe thead th {\n",
       "        text-align: right;\n",
       "    }\n",
       "</style>\n",
       "<table border=\"1\" class=\"dataframe\">\n",
       "  <thead>\n",
       "    <tr style=\"text-align: right;\">\n",
       "      <th></th>\n",
       "      <th>values</th>\n",
       "      <th>type</th>\n",
       "      <th>unit</th>\n",
       "      <th>type unit</th>\n",
       "      <th>year</th>\n",
       "      <th>region</th>\n",
       "    </tr>\n",
       "  </thead>\n",
       "  <tbody>\n",
       "    <tr>\n",
       "      <th>0</th>\n",
       "      <td>641.339269</td>\n",
       "      <td>Primary Energy Consumption</td>\n",
       "      <td>Petajoules</td>\n",
       "      <td>Primary Energy Consumption [Petajoules]</td>\n",
       "      <td>1965</td>\n",
       "      <td>Switzerland</td>\n",
       "    </tr>\n",
       "    <tr>\n",
       "      <th>1</th>\n",
       "      <td>688.221126</td>\n",
       "      <td>Primary Energy Consumption</td>\n",
       "      <td>Petajoules</td>\n",
       "      <td>Primary Energy Consumption [Petajoules]</td>\n",
       "      <td>1966</td>\n",
       "      <td>Switzerland</td>\n",
       "    </tr>\n",
       "    <tr>\n",
       "      <th>2</th>\n",
       "      <td>734.738985</td>\n",
       "      <td>Primary Energy Consumption</td>\n",
       "      <td>Petajoules</td>\n",
       "      <td>Primary Energy Consumption [Petajoules]</td>\n",
       "      <td>1967</td>\n",
       "      <td>Switzerland</td>\n",
       "    </tr>\n",
       "    <tr>\n",
       "      <th>3</th>\n",
       "      <td>772.910947</td>\n",
       "      <td>Primary Energy Consumption</td>\n",
       "      <td>Petajoules</td>\n",
       "      <td>Primary Energy Consumption [Petajoules]</td>\n",
       "      <td>1968</td>\n",
       "      <td>Switzerland</td>\n",
       "    </tr>\n",
       "    <tr>\n",
       "      <th>4</th>\n",
       "      <td>800.908432</td>\n",
       "      <td>Primary Energy Consumption</td>\n",
       "      <td>Petajoules</td>\n",
       "      <td>Primary Energy Consumption [Petajoules]</td>\n",
       "      <td>1969</td>\n",
       "      <td>Switzerland</td>\n",
       "    </tr>\n",
       "    <tr>\n",
       "      <th>...</th>\n",
       "      <td>...</td>\n",
       "      <td>...</td>\n",
       "      <td>...</td>\n",
       "      <td>...</td>\n",
       "      <td>...</td>\n",
       "      <td>...</td>\n",
       "    </tr>\n",
       "    <tr>\n",
       "      <th>818</th>\n",
       "      <td>222.732000</td>\n",
       "      <td>Electricity Generation</td>\n",
       "      <td>Petajoules</td>\n",
       "      <td>Electricity Generation  [Petajoules]</td>\n",
       "      <td>2016</td>\n",
       "      <td>Switzerland</td>\n",
       "    </tr>\n",
       "    <tr>\n",
       "      <th>819</th>\n",
       "      <td>222.584407</td>\n",
       "      <td>Electricity Generation</td>\n",
       "      <td>Petajoules</td>\n",
       "      <td>Electricity Generation  [Petajoules]</td>\n",
       "      <td>2017</td>\n",
       "      <td>Switzerland</td>\n",
       "    </tr>\n",
       "    <tr>\n",
       "      <th>820</th>\n",
       "      <td>243.431093</td>\n",
       "      <td>Electricity Generation</td>\n",
       "      <td>Petajoules</td>\n",
       "      <td>Electricity Generation  [Petajoules]</td>\n",
       "      <td>2018</td>\n",
       "      <td>Switzerland</td>\n",
       "    </tr>\n",
       "    <tr>\n",
       "      <th>821</th>\n",
       "      <td>259.402784</td>\n",
       "      <td>Electricity Generation</td>\n",
       "      <td>Petajoules</td>\n",
       "      <td>Electricity Generation  [Petajoules]</td>\n",
       "      <td>2019</td>\n",
       "      <td>Switzerland</td>\n",
       "    </tr>\n",
       "    <tr>\n",
       "      <th>822</th>\n",
       "      <td>253.555416</td>\n",
       "      <td>Electricity Generation</td>\n",
       "      <td>Petajoules</td>\n",
       "      <td>Electricity Generation  [Petajoules]</td>\n",
       "      <td>2020</td>\n",
       "      <td>Switzerland</td>\n",
       "    </tr>\n",
       "  </tbody>\n",
       "</table>\n",
       "<p>823 rows × 6 columns</p>\n",
       "</div>"
      ],
      "text/plain": [
       "         values                        type        unit  \\\n",
       "0    641.339269  Primary Energy Consumption  Petajoules   \n",
       "1    688.221126  Primary Energy Consumption  Petajoules   \n",
       "2    734.738985  Primary Energy Consumption  Petajoules   \n",
       "3    772.910947  Primary Energy Consumption  Petajoules   \n",
       "4    800.908432  Primary Energy Consumption  Petajoules   \n",
       "..          ...                         ...         ...   \n",
       "818  222.732000     Electricity Generation   Petajoules   \n",
       "819  222.584407     Electricity Generation   Petajoules   \n",
       "820  243.431093     Electricity Generation   Petajoules   \n",
       "821  259.402784     Electricity Generation   Petajoules   \n",
       "822  253.555416     Electricity Generation   Petajoules   \n",
       "\n",
       "                                   type unit  year       region  \n",
       "0    Primary Energy Consumption [Petajoules]  1965  Switzerland  \n",
       "1    Primary Energy Consumption [Petajoules]  1966  Switzerland  \n",
       "2    Primary Energy Consumption [Petajoules]  1967  Switzerland  \n",
       "3    Primary Energy Consumption [Petajoules]  1968  Switzerland  \n",
       "4    Primary Energy Consumption [Petajoules]  1969  Switzerland  \n",
       "..                                       ...   ...          ...  \n",
       "818     Electricity Generation  [Petajoules]  2016  Switzerland  \n",
       "819     Electricity Generation  [Petajoules]  2017  Switzerland  \n",
       "820     Electricity Generation  [Petajoules]  2018  Switzerland  \n",
       "821     Electricity Generation  [Petajoules]  2019  Switzerland  \n",
       "822     Electricity Generation  [Petajoules]  2020  Switzerland  \n",
       "\n",
       "[823 rows x 6 columns]"
      ]
     },
     "execution_count": 125,
     "metadata": {},
     "output_type": "execute_result"
    }
   ],
   "source": [
    "import re\n",
    "import pandas as pd\n",
    "\n",
    "values = {\"values\": [], \"type\": [], \"unit\": [], \"type unit\": [], \"year\": [], \"region\": []}\n",
    "for type_ in types:\n",
    "    type_index = type_['index']\n",
    "    type_label = type_['label']\n",
    "    # Year\n",
    "    years = []\n",
    "    index = 2\n",
    "    re_ = re.compile('^[0-9]+$')\n",
    "    while True:\n",
    "        value = xlsx.worksheets[type_index].cell(3, index).value\n",
    "        if xlsx.worksheets[type_index].cell(2, index).value is not None:\n",
    "            break\n",
    "        years.append({\n",
    "            'label': value,\n",
    "            'index': index\n",
    "        })\n",
    "        index += 1\n",
    "\n",
    "    # Country\n",
    "    regions = []\n",
    "    index = 5\n",
    "    while True:\n",
    "        value = xlsx.worksheets[type_index].cell(index, 1).value\n",
    "        if value is not None and value == 'Switzerland':\n",
    "            regions.append({\n",
    "                'label': value,\n",
    "                'index': index\n",
    "            })\n",
    "        if value == 'Total World':\n",
    "            break\n",
    "        index += 1\n",
    "\n",
    "    for year in years:\n",
    "        for region in regions:\n",
    "            value = xlsx.worksheets[type_index].cell(region['index'], year['index']).value\n",
    "            if type_label.endswith(' - TWh'):\n",
    "                type_label = type_label[:-6]\n",
    "            if type_label.endswith(' - EJ'):\n",
    "                type_label = type_label[:-5]\n",
    "            if type_label.endswith(' - PJ'):\n",
    "                type_label = type_label[:-5]\n",
    "\n",
    "            unit = xlsx.worksheets[type_index].cell(3, 1).value\n",
    "            if unit == 'Terawatt-hours':\n",
    "                if value is not None and type(value) != str:\n",
    "                    value = value * 3.6\n",
    "                unit = 'Petajoules'\n",
    "            if unit == 'Exajoules':\n",
    "                if value is not None and type(value) != str:\n",
    "                    value = value * 1000\n",
    "                unit = 'Petajoules'\n",
    "            if unit == 'Exajoules (input-equivalent)':\n",
    "                if value is not None and type(value) != str:\n",
    "                    value = value * 1000\n",
    "                unit = 'Petajoules (input-equivalent)'\n",
    "\n",
    "            values['values'].append(value)\n",
    "            values['year'].append(year['label'])\n",
    "            values['region'].append(region['label'])\n",
    "            values['type'].append(type_label)\n",
    "            values['unit'].append(unit)\n",
    "            values['type unit'].append(f'{type_label} [{unit}]')\n",
    "\n",
    "df = pd.DataFrame(values)\n",
    "df"
   ]
  },
  {
   "cell_type": "code",
   "execution_count": 126,
   "id": "06c1ff91-7950-45d4-ab8b-744a7ca08630",
   "metadata": {},
   "outputs": [
    {
     "data": {
      "application/vnd.plotly.v1+json": {
       "config": {
        "plotlyServerURL": "https://plot.ly"
       },
       "data": [
        {
         "hovertemplate": "type unit=Primary Energy Consumption [Petajoules]<br>year=%{x}<br>values=%{y}<extra></extra>",
         "legendgroup": "Primary Energy Consumption [Petajoules]",
         "line": {
          "color": "#636efa",
          "dash": "solid"
         },
         "marker": {
          "symbol": "circle"
         },
         "mode": "lines",
         "name": "Primary Energy Consumption [Petajoules]",
         "orientation": "v",
         "showlegend": true,
         "type": "scatter",
         "visible": true,
         "x": [
          1965,
          1966,
          1967,
          1968,
          1969,
          1970,
          1971,
          1972,
          1973,
          1974,
          1975,
          1976,
          1977,
          1978,
          1979,
          1980,
          1981,
          1982,
          1983,
          1984,
          1985,
          1986,
          1987,
          1988,
          1989,
          1990,
          1991,
          1992,
          1993,
          1994,
          1995,
          1996,
          1997,
          1998,
          1999,
          2000,
          2001,
          2002,
          2003,
          2004,
          2005,
          2006,
          2007,
          2008,
          2009,
          2010,
          2011,
          2012,
          2013,
          2014,
          2015,
          2016,
          2017,
          2018,
          2019,
          2020,
          1965,
          1966,
          1967,
          1968,
          1969,
          1970,
          1971,
          1972,
          1973,
          1974,
          1975,
          1976,
          1977,
          1978,
          1979,
          1980,
          1981,
          1982,
          1983,
          1984,
          1985,
          1986,
          1987,
          1988,
          1989,
          1990,
          1991,
          1992,
          1993,
          1994,
          1995,
          1996,
          1997,
          1998,
          1999,
          2000,
          2001,
          2002,
          2003,
          2004,
          2005,
          2006,
          2007,
          2008,
          2009,
          2010,
          2011,
          2012,
          2013,
          2014,
          2015,
          2016,
          2017,
          2018,
          2019,
          2020
         ],
         "xaxis": "x",
         "y": [
          641.3392690000001,
          688.221126,
          734.7389850000001,
          772.9109470000001,
          800.9084319999998,
          877.4356110000001,
          898.4717019999999,
          887.3605090000001,
          981.034002,
          936.0527750000001,
          969.4766770000001,
          928.9092890000002,
          1028.3638349999999,
          1014.4492720000003,
          1011.0448310000002,
          1081.092985,
          1078.37455,
          1055.6275740000003,
          1099.328052,
          1067.0915980000002,
          1139.5550063864966,
          1196.7733615459863,
          1188.254438644338,
          1196.8490301759707,
          1120.5108179819242,
          1168.9252003221693,
          1199.809388266879,
          1218.9662352355133,
          1214.899788718235,
          1275.4772286608186,
          1209.5150511972354,
          1171.4099431903246,
          1250.7591412440192,
          1258.2238795720364,
          1312.0706955784158,
          1280.9449749649125,
          1367.3056404721929,
          1274.4539454415806,
          1260.7561915629983,
          1242.8349455979953,
          1193.4287039373867,
          1242.050646206718,
          1225.1834853686362,
          1266.4850672490868,
          1263.0477842882062,
          1229.2561654034293,
          1167.289037647901,
          1231.523275494037,
          1264.0967989324242,
          1205.0169388194167,
          1178.3726811313957,
          1108.6123671068465,
          1111.244394330244,
          1127.9846162616436,
          1176.2168266336587,
          1077.9151830509413,
          641.3392690000001,
          688.221126,
          734.7389850000001,
          772.9109470000001,
          800.9084319999998,
          877.4356110000001,
          898.4717019999999,
          887.3605090000001,
          981.034002,
          936.0527750000001,
          969.4766770000001,
          928.9092890000002,
          1028.3638349999999,
          1014.4492720000003,
          1011.0448310000002,
          1081.092985,
          1078.37455,
          1055.6275740000003,
          1099.328052,
          1067.0915980000002,
          1139.5550063864966,
          1196.7733615459863,
          1188.254438644338,
          1196.8490301759707,
          1120.5108179819242,
          1168.9252003221693,
          1199.809388266879,
          1218.9662352355133,
          1214.899788718235,
          1275.4772286608186,
          1209.5150511972354,
          1171.4099431903246,
          1250.7591412440192,
          1258.2238795720364,
          1312.0706955784158,
          1280.9449749649125,
          1367.3056404721929,
          1274.4539454415806,
          1260.7561915629983,
          1242.8349455979953,
          1193.4287039373867,
          1242.050646206718,
          1225.1834853686362,
          1266.4850672490868,
          1263.0477842882062,
          1229.2561654034293,
          1167.289037647901,
          1231.523275494037,
          1264.0967989324242,
          1205.0169388194167,
          1178.3726811313957,
          1108.6123671068465,
          1111.244394330244,
          1127.9846162616436,
          1176.2168266336587,
          1077.9151830509413
         ],
         "yaxis": "y"
        },
        {
         "hovertemplate": "type unit=Oil Consumption [Petajoules]<br>year=%{x}<br>values=%{y}<extra></extra>",
         "legendgroup": "Oil Consumption [Petajoules]",
         "line": {
          "color": "#EF553B",
          "dash": "solid"
         },
         "marker": {
          "symbol": "circle"
         },
         "mode": "lines",
         "name": "Oil Consumption [Petajoules]",
         "orientation": "v",
         "showlegend": true,
         "type": "scatter",
         "visible": true,
         "x": [
          1965,
          1966,
          1967,
          1968,
          1969,
          1970,
          1971,
          1972,
          1973,
          1974,
          1975,
          1976,
          1977,
          1978,
          1979,
          1980,
          1981,
          1982,
          1983,
          1984,
          1985,
          1986,
          1987,
          1988,
          1989,
          1990,
          1991,
          1992,
          1993,
          1994,
          1995,
          1996,
          1997,
          1998,
          1999,
          2000,
          2001,
          2002,
          2003,
          2004,
          2005,
          2006,
          2007,
          2008,
          2009,
          2010,
          2011,
          2012,
          2013,
          2014,
          2015,
          2016,
          2017,
          2018,
          2019,
          2020
         ],
         "xaxis": "x",
         "y": [
          346.966449,
          368.885046,
          398.996861,
          442.55756700000006,
          481.258118,
          539.343335,
          572.3264419999999,
          586.7621730000001,
          631.496936,
          561.984851,
          540.4167810000001,
          561.658261,
          564.569017,
          578.9490140000001,
          554.8910389999999,
          554.4716510000001,
          513.0877640000001,
          484.767466,
          530.4045340000002,
          513.461956,
          522.540773,
          571.853428,
          538.6528900000001,
          540.219481,
          518.3751040000002,
          555.4719259999999,
          565.0289300000001,
          572.8970380000003,
          536.809659,
          554.765831,
          514.080342,
          532.526461,
          560.2542800000001,
          567.162475,
          550.347543,
          533.830589,
          571.304883,
          541.511404,
          526.99543,
          524.4354390000002,
          533.888925910617,
          547.1807954649408,
          493.58515133753605,
          526.1071297830144,
          534.4162783040905,
          495.9775973495357,
          481.06504448234665,
          490.08749570530676,
          512.9814564881958,
          459.87834334099995,
          465.6101311909999,
          440.00855823003184,
          450.8529627819185,
          434.5507571956074,
          444.1522012638519,
          369.39444435211453
         ],
         "yaxis": "y"
        },
        {
         "hovertemplate": "type unit=Gas Consumption [Petajoules]<br>year=%{x}<br>values=%{y}<extra></extra>",
         "legendgroup": "Gas Consumption [Petajoules]",
         "line": {
          "color": "#00cc96",
          "dash": "solid"
         },
         "marker": {
          "symbol": "circle"
         },
         "mode": "lines",
         "name": "Gas Consumption [Petajoules]",
         "orientation": "v",
         "showlegend": true,
         "type": "scatter",
         "visible": true,
         "x": [
          1965,
          1966,
          1967,
          1968,
          1969,
          1970,
          1971,
          1972,
          1973,
          1974,
          1975,
          1976,
          1977,
          1978,
          1979,
          1980,
          1981,
          1982,
          1983,
          1984,
          1985,
          1986,
          1987,
          1988,
          1989,
          1990,
          1991,
          1992,
          1993,
          1994,
          1995,
          1996,
          1997,
          1998,
          1999,
          2000,
          2001,
          2002,
          2003,
          2004,
          2005,
          2006,
          2007,
          2008,
          2009,
          2010,
          2011,
          2012,
          2013,
          2014,
          2015,
          2016,
          2017,
          2018,
          2019,
          2020
         ],
         "xaxis": "x",
         "y": [
          0,
          0,
          0,
          0,
          0.009000000000000001,
          1.3860000000000001,
          3.3480000000000003,
          4.248,
          5.751,
          12.114,
          19.512,
          20.367,
          23.256,
          25.515,
          28.62,
          32.652,
          35.226,
          37.206,
          40.905,
          45.621,
          47.763000000000005,
          48.915,
          52.443000000000005,
          52.812000000000005,
          57.43800000000001,
          61.479000000000006,
          69.01200000000001,
          72.54000000000002,
          76.104,
          75.069,
          82.72800000000001,
          89.55,
          86.45400000000002,
          88.992,
          102.45000000000002,
          101.88000000000001,
          106.04000000000002,
          104.08000000000003,
          110.01000000000002,
          113.49000000000001,
          116.51000000000002,
          113.29,
          110.31000000000003,
          117.53000000000002,
          112.81,
          126.01,
          111.77000000000002,
          122.52000000000002,
          129.03000000000003,
          111.77000000000002,
          119.42000000000002,
          125.46000000000002,
          125.99000000000002,
          119.51000000000003,
          122.61000000000001,
          116.3101178455
         ],
         "yaxis": "y"
        },
        {
         "hovertemplate": "type unit=Coal Consumption [Petajoules]<br>year=%{x}<br>values=%{y}<extra></extra>",
         "legendgroup": "Coal Consumption [Petajoules]",
         "line": {
          "color": "#ab63fa",
          "dash": "solid"
         },
         "marker": {
          "symbol": "circle"
         },
         "mode": "lines",
         "name": "Coal Consumption [Petajoules]",
         "orientation": "v",
         "showlegend": true,
         "type": "scatter",
         "visible": true,
         "x": [
          1965,
          1966,
          1967,
          1968,
          1969,
          1970,
          1971,
          1972,
          1973,
          1974,
          1975,
          1976,
          1977,
          1978,
          1979,
          1980,
          1981,
          1982,
          1983,
          1984,
          1985,
          1986,
          1987,
          1988,
          1989,
          1990,
          1991,
          1992,
          1993,
          1994,
          1995,
          1996,
          1997,
          1998,
          1999,
          2000,
          2001,
          2002,
          2003,
          2004,
          2005,
          2006,
          2007,
          2008,
          2009,
          2010,
          2011,
          2012,
          2013,
          2014,
          2015,
          2016,
          2017,
          2018,
          2019,
          2020
         ],
         "xaxis": "x",
         "y": [
          53.4,
          44.15,
          37.24,
          35.2,
          31.84,
          27.32,
          18.45,
          15.610000000000001,
          14.82,
          12.780000000000001,
          9.58,
          9,
          10.5,
          9.450000000000001,
          9.77,
          14.3,
          21.150000000000002,
          18.71,
          16.330000000000002,
          20.98,
          21.07,
          18.13,
          16.87,
          14.4,
          14.89,
          14.89,
          12.65,
          8.76,
          7.34,
          7.43,
          7.97,
          5.96,
          4.59,
          3.81,
          3.96,
          5.7700000000000005,
          6.03,
          5.5600000000000005,
          5.71,
          5.42,
          6.04,
          6.5200000000000005,
          7.3,
          6.5600000000000005,
          6.19,
          6.21,
          5.74,
          5.17,
          5.57,
          5.7,
          5.21,
          4.79,
          4.61,
          4.29,
          3.81,
          3.81
         ],
         "yaxis": "y"
        },
        {
         "hovertemplate": "type unit=Nuclear Generation [Petajoules]<br>year=%{x}<br>values=%{y}<extra></extra>",
         "legendgroup": "Nuclear Generation [Petajoules]",
         "line": {
          "color": "#FFA15A",
          "dash": "solid"
         },
         "marker": {
          "symbol": "circle"
         },
         "mode": "lines",
         "name": "Nuclear Generation [Petajoules]",
         "orientation": "v",
         "showlegend": true,
         "type": "scatter",
         "visible": "legendonly",
         "x": [
          1965,
          1966,
          1967,
          1968,
          1969,
          1970,
          1971,
          1972,
          1973,
          1974,
          1975,
          1976,
          1977,
          1978,
          1979,
          1980,
          1981,
          1982,
          1983,
          1984,
          1985,
          1986,
          1987,
          1988,
          1989,
          1990,
          1991,
          1992,
          1993,
          1994,
          1995,
          1996,
          1997,
          1998,
          1999,
          2000,
          2001,
          2002,
          2003,
          2004,
          2005,
          2006,
          2007,
          2008,
          2009,
          2010,
          2011,
          2012,
          2013,
          2014,
          2015,
          2016,
          2017,
          2018,
          2019,
          2020
         ],
         "xaxis": "x",
         "y": [
          0,
          0,
          0,
          0,
          1.9260000000000002,
          6.357600000000001,
          5.0076,
          13.824,
          22.716,
          25.441200000000002,
          27.939600000000002,
          28.5804,
          29.210400000000003,
          30.221999999999998,
          42.498,
          51.6456,
          55.188,
          54.47880000000001,
          56.556000000000004,
          66.384,
          80.64378947368421,
          80.72715789473685,
          82.23536842105263,
          81.48126315789473,
          81.63663157894736,
          84.49768421052632,
          82.05726315789474,
          83.82694736842106,
          83.47831578947368,
          87.09726315789474,
          88.99957894736842,
          89.88252631578948,
          90.83747368421052,
          92.34189473684211,
          89.1397894736842,
          94.54357894736843,
          95.84715789473684,
          97.35915789473684,
          98.26484210526316,
          96.37389473684212,
          83.44421052631579,
          99.45094736842105,
          99.8298947368421,
          99.02652631578948,
          98.97726315789474,
          95.5136842105263,
          96.85894736842106,
          92.25473684210526,
          94.248,
          99.92842105263158,
          83.72842105263157,
          76.67999999999999,
          73.89094736842105,
          87.89040000000001,
          91.00800000000001,
          82.76400000000001
         ],
         "yaxis": "y"
        },
        {
         "hovertemplate": "type unit=Nuclear Consumption [Petajoules (input-equivalent)]<br>year=%{x}<br>values=%{y}<extra></extra>",
         "legendgroup": "Nuclear Consumption [Petajoules (input-equivalent)]",
         "line": {
          "color": "#19d3f3",
          "dash": "solid"
         },
         "marker": {
          "symbol": "circle"
         },
         "mode": "lines",
         "name": "Nuclear Consumption [Petajoules (input-equivalent)]",
         "orientation": "v",
         "showlegend": true,
         "type": "scatter",
         "visible": true,
         "x": [
          1965,
          1966,
          1967,
          1968,
          1969,
          1970,
          1971,
          1972,
          1973,
          1974,
          1975,
          1976,
          1977,
          1978,
          1979,
          1980,
          1981,
          1982,
          1983,
          1984,
          1985,
          1986,
          1987,
          1988,
          1989,
          1990,
          1991,
          1992,
          1993,
          1994,
          1995,
          1996,
          1997,
          1998,
          1999,
          2000,
          2001,
          2002,
          2003,
          2004,
          2005,
          2006,
          2007,
          2008,
          2009,
          2010,
          2011,
          2012,
          2013,
          2014,
          2015,
          2016,
          2017,
          2018,
          2019,
          2020
         ],
         "xaxis": "x",
         "y": [
          0,
          0,
          0,
          0,
          5.35,
          17.66,
          13.910000000000002,
          38.4,
          63.1,
          70.67,
          77.61000000000001,
          79.39,
          81.14,
          83.95,
          118.05,
          143.46,
          153.3,
          151.33,
          157.1,
          184.4,
          224.01052631578943,
          224.2421052631579,
          228.43157894736842,
          226.33684210526312,
          226.76842105263157,
          234.71578947368425,
          227.93684210526314,
          232.8526315789474,
          231.8842105263158,
          241.9368421052632,
          247.22105263157894,
          249.67368421052635,
          252.32631578947368,
          256.5052631578948,
          247.61052631578943,
          262.621052631579,
          264.51326042378673,
          266.9525297113752,
          267.70870445344127,
          260.8847468990948,
          224.4543637574949,
          265.82800397219455,
          265.17315789473673,
          261.4054266100032,
          259.66257309941506,
          249.038747174685,
          251.0064184852373,
          237.62583732057394,
          241.2975903614456,
          254.30885597226577,
          211.81296992481182,
          192.83431952662698,
          184.72736842105257,
          218.44105263157894,
          225.3555100368701,
          204.18873469387754
         ],
         "yaxis": "y"
        },
        {
         "hovertemplate": "type unit=Hydro Generation [Petajoules]<br>year=%{x}<br>values=%{y}<extra></extra>",
         "legendgroup": "Hydro Generation [Petajoules]",
         "line": {
          "color": "#FF6692",
          "dash": "solid"
         },
         "marker": {
          "symbol": "circle"
         },
         "mode": "lines",
         "name": "Hydro Generation [Petajoules]",
         "orientation": "v",
         "showlegend": true,
         "type": "scatter",
         "visible": "legendonly",
         "x": [
          1965,
          1966,
          1967,
          1968,
          1969,
          1970,
          1971,
          1972,
          1973,
          1974,
          1975,
          1976,
          1977,
          1978,
          1979,
          1980,
          1981,
          1982,
          1983,
          1984,
          1985,
          1986,
          1987,
          1988,
          1989,
          1990,
          1991,
          1992,
          1993,
          1994,
          1995,
          1996,
          1997,
          1998,
          1999,
          2000,
          2001,
          2002,
          2003,
          2004,
          2005,
          2006,
          2007,
          2008,
          2009,
          2010,
          2011,
          2012,
          2013,
          2014,
          2015,
          2016,
          2017,
          2018,
          2019,
          2020
         ],
         "xaxis": "x",
         "y": [
          86.7502152,
          99.06698880000002,
          107.46076464000002,
          106.25521680000001,
          101.68247304,
          105.02145936000002,
          104.55741360000003,
          87.24252096000002,
          95.71178376000002,
          100.26141264000002,
          116.04884256000001,
          93.05785008000001,
          125.60357448000002,
          113.61789288000001,
          106.86376512000002,
          120.41256023999999,
          126.45028296000001,
          129.49707888,
          126.22626648000002,
          107.61791112000003,
          115.38745454545456,
          118.45901818181818,
          124.82890909090911,
          128.86225454545456,
          107.18974545454546,
          107.27225454545456,
          115.48858181818183,
          117.73316363636364,
          128.8122909090909,
          140.6612,
          126.61763636363638,
          103.49272727272728,
          122.56723636363641,
          120.51149090909094,
          144.02974545454546,
          132.61440000000002,
          148.76236363636366,
          126.61854545454545,
          125.16167272727274,
          121.50618181818183,
          112.42763636363637,
          111.46269090909094,
          126.91225454545453,
          129.7417818181818,
          128.6176,
          129.83141818181818,
          116.6161090909091,
          138.9747272727273,
          138.47298181818184,
          136.94418181818185,
          137.74265454545457,
          124.66054545454547,
          122.74330909090912,
          124.59308730468749,
          135.48228837890625,
          135.69828837890626
         ],
         "yaxis": "y"
        },
        {
         "hovertemplate": "type unit=Hydro Consumption [Petajoules]<br>year=%{x}<br>values=%{y}<extra></extra>",
         "legendgroup": "Hydro Consumption [Petajoules]",
         "line": {
          "color": "#B6E880",
          "dash": "solid"
         },
         "marker": {
          "symbol": "circle"
         },
         "mode": "lines",
         "name": "Hydro Consumption [Petajoules]",
         "orientation": "v",
         "showlegend": true,
         "type": "scatter",
         "visible": true,
         "x": [
          1965,
          1966,
          1967,
          1968,
          1969,
          1970,
          1971,
          1972,
          1973,
          1974,
          1975,
          1976,
          1977,
          1978,
          1979,
          1980,
          1981,
          1982,
          1983,
          1984,
          1985,
          1986,
          1987,
          1988,
          1989,
          1990,
          1991,
          1992,
          1993,
          1994,
          1995,
          1996,
          1997,
          1998,
          1999,
          2000,
          2001,
          2002,
          2003,
          2004,
          2005,
          2006,
          2007,
          2008,
          2009,
          2010,
          2011,
          2012,
          2013,
          2014,
          2015,
          2016,
          2017,
          2018,
          2019,
          2020
         ],
         "xaxis": "x",
         "y": [
          240.97281999999998,
          275.18608,
          298.50212400000004,
          295.1533800000001,
          282.451314,
          291.7262760000001,
          290.4372600000001,
          242.340336,
          265.866066,
          278.50392400000004,
          322.3578960000001,
          258.494028,
          348.898818,
          315.60525800000005,
          296.8437920000001,
          334.479334,
          351.25078600000006,
          359.714108,
          350.62851800000004,
          298.9386420000001,
          320.52070707070715,
          329.05282828282833,
          346.7469696969697,
          357.9507070707071,
          297.7492929292929,
          297.9784848484849,
          320.80161616161615,
          327.0365656565657,
          357.81191919191923,
          390.72555555555556,
          351.71565656565656,
          287.4797979797979,
          340.46454545454566,
          334.75414141414143,
          400.0826262626263,
          368.37333333333333,
          410.5454840613932,
          347.1798826979473,
          340.98532634032637,
          328.9180081065431,
          302.41611047180663,
          297.9348656375071,
          337.11067613636345,
          342.4860700169393,
          337.4227160493826,
          338.517501394311,
          302.2063802660752,
          357.96520661157,
          354.5242004381159,
          348.51064235166007,
          348.4561201298698,
          313.49545454545427,
          306.8582727272727,
          309.66118189761505,
          335.4834761624334,
          334.78398584183674
         ],
         "yaxis": "y"
        },
        {
         "hovertemplate": "type unit=Renewables Consumption [Petajoules (input-equivalent)]<br>year=%{x}<br>values=%{y}<extra></extra>",
         "legendgroup": "Renewables Consumption [Petajoules (input-equivalent)]",
         "line": {
          "color": "#FF97FF",
          "dash": "solid"
         },
         "marker": {
          "symbol": "circle"
         },
         "mode": "lines",
         "name": "Renewables Consumption [Petajoules (input-equivalent)]",
         "orientation": "v",
         "showlegend": true,
         "type": "scatter",
         "visible": true,
         "x": [
          1965,
          1966,
          1967,
          1968,
          1969,
          1970,
          1971,
          1972,
          1973,
          1974,
          1975,
          1976,
          1977,
          1978,
          1979,
          1980,
          1981,
          1982,
          1983,
          1984,
          1985,
          1986,
          1987,
          1988,
          1989,
          1990,
          1991,
          1992,
          1993,
          1994,
          1995,
          1996,
          1997,
          1998,
          1999,
          2000,
          2001,
          2002,
          2003,
          2004,
          2005,
          2006,
          2007,
          2008,
          2009,
          2010,
          2011,
          2012,
          2013,
          2014,
          2015,
          2016,
          2017,
          2018,
          2019,
          2020
         ],
         "xaxis": "x",
         "y": [
          0,
          0,
          0,
          0,
          0,
          0,
          0,
          0,
          0,
          0,
          0,
          0,
          0,
          0.9800000000000002,
          2.8700000000000006,
          1.7300000000000002,
          4.36,
          3.9,
          3.96,
          3.6900000000000004,
          3.65,
          4.58,
          5.110000000000001,
          5.13,
          5.29,
          4.39,
          4.38,
          4.879999999999999,
          4.95,
          5.55,
          5.800000000000002,
          6.22,
          6.670000000000001,
          7,
          7.620000000000001,
          8.47,
          8.872012987012988,
          9.170129032258064,
          9.346730769230767,
          9.686751592356687,
          10.119303797468351,
          11.29698113207547,
          11.704499999999996,
          12.396440839130031,
          12.546216835318058,
          13.502319484897678,
          15.501194414241604,
          18.154735856586512,
          20.69355164466678,
          24.849097154490998,
          27.863459885714267,
          32.0240348047337,
          38.205790400000005,
          41.5316245368421,
          44.80563917050389,
          49.42790031761242
         ],
         "yaxis": "y"
        },
        {
         "hovertemplate": "type unit=Renewables Generation by source [Petajoules]<br>year=%{x}<br>values=%{y}<extra></extra>",
         "legendgroup": "Renewables Generation by source [Petajoules]",
         "line": {
          "color": "#FECB52",
          "dash": "solid"
         },
         "marker": {
          "symbol": "circle"
         },
         "mode": "lines",
         "name": "Renewables Generation by source [Petajoules]",
         "orientation": "v",
         "showlegend": true,
         "type": "scatter",
         "visible": "legendonly",
         "x": [
          "Wind",
          "Solar",
          "Other renewables*"
         ],
         "xaxis": "x",
         "y": [
          0.5256,
          7.8408,
          6.703200000000001
         ],
         "yaxis": "y"
        },
        {
         "hovertemplate": "type unit=Solar Generation [Petajoules]<br>year=%{x}<br>values=%{y}<extra></extra>",
         "legendgroup": "Solar Generation [Petajoules]",
         "line": {
          "color": "#636efa",
          "dash": "solid"
         },
         "marker": {
          "symbol": "circle"
         },
         "mode": "lines",
         "name": "Solar Generation [Petajoules]",
         "orientation": "v",
         "showlegend": true,
         "type": "scatter",
         "visible": "legendonly",
         "x": [
          1965,
          1966,
          1967,
          1968,
          1969,
          1970,
          1971,
          1972,
          1973,
          1974,
          1975,
          1976,
          1977,
          1978,
          1979,
          1980,
          1981,
          1982,
          1983,
          1984,
          1985,
          1986,
          1987,
          1988,
          1989,
          1990,
          1991,
          1992,
          1993,
          1994,
          1995,
          1996,
          1997,
          1998,
          1999,
          2000,
          2001,
          2002,
          2003,
          2004,
          2005,
          2006,
          2007,
          2008,
          2009,
          2010,
          2011,
          2012,
          2013,
          2014,
          2015,
          2016,
          2017,
          2018,
          2019,
          2020
         ],
         "xaxis": "x",
         "y": [
          0,
          0,
          0,
          0,
          0,
          0,
          0,
          0,
          0,
          0,
          0,
          0,
          0,
          0,
          0,
          0,
          0,
          0,
          0,
          0,
          0,
          0,
          0,
          0,
          0,
          0.0036000000000000003,
          0.007200000000000001,
          0.0108,
          0.014400000000000001,
          0.018000000000000002,
          0.0216,
          0.0252,
          0.0252,
          0.028800000000000003,
          0.036000000000000004,
          0.039599999999999996,
          0.04680000000000001,
          0.054,
          0.06480000000000001,
          0.06480000000000001,
          0.0756,
          0.0864,
          0.1044,
          0.13319999999999999,
          0.1944,
          0.33840000000000003,
          0.6048,
          1.0764,
          1.8,
          3.0312,
          4.0284,
          4.7988,
          6.058800000000001,
          7.002000000000001,
          7.8408,
          9.443931798434257
         ],
         "yaxis": "y"
        },
        {
         "hovertemplate": "type unit=Solar Consumption [Petajoules (input-equivalent)]<br>year=%{x}<br>values=%{y}<extra></extra>",
         "legendgroup": "Solar Consumption [Petajoules (input-equivalent)]",
         "line": {
          "color": "#EF553B",
          "dash": "solid"
         },
         "marker": {
          "symbol": "circle"
         },
         "mode": "lines",
         "name": "Solar Consumption [Petajoules (input-equivalent)]",
         "orientation": "v",
         "showlegend": true,
         "type": "scatter",
         "x": [
          1965,
          1966,
          1967,
          1968,
          1969,
          1970,
          1971,
          1972,
          1973,
          1974,
          1975,
          1976,
          1977,
          1978,
          1979,
          1980,
          1981,
          1982,
          1983,
          1984,
          1985,
          1986,
          1987,
          1988,
          1989,
          1990,
          1991,
          1992,
          1993,
          1994,
          1995,
          1996,
          1997,
          1998,
          1999,
          2000,
          2001,
          2002,
          2003,
          2004,
          2005,
          2006,
          2007,
          2008,
          2009,
          2010,
          2011,
          2012,
          2013,
          2014,
          2015,
          2016,
          2017,
          2018,
          2019,
          2020
         ],
         "xaxis": "x",
         "y": [
          0,
          0,
          0,
          0,
          0,
          0,
          0,
          0,
          0,
          0,
          0,
          0,
          0,
          0,
          0,
          0,
          0,
          0,
          0,
          0,
          0,
          0,
          0,
          0,
          0,
          0.01,
          0.02,
          0.030000000000000002,
          0.04,
          0.05,
          0.060000000000000005,
          0.07,
          0.07,
          0.08,
          0.1,
          0.10999999999999999,
          0.12915584415584416,
          0.14806451612903226,
          0.17653846153846156,
          0.17541401273885351,
          0.2033544303797468,
          0.23094339622641502,
          0.2773124999999999,
          0.35161490683229796,
          0.5099999999999997,
          0.8823312883435578,
          1.5673170731707307,
          2.7725454545454524,
          4.608433734939756,
          7.714131736526939,
          10.190892857142847,
          12.067988165680463,
          15.147,
          17.402631578947368,
          19.41551823023351,
          23.29931473173803
         ],
         "yaxis": "y"
        },
        {
         "hovertemplate": "type unit=Wind Generation [Petajoules]<br>year=%{x}<br>values=%{y}<extra></extra>",
         "legendgroup": "Wind Generation [Petajoules]",
         "line": {
          "color": "#00cc96",
          "dash": "solid"
         },
         "marker": {
          "symbol": "circle"
         },
         "mode": "lines",
         "name": "Wind Generation [Petajoules]",
         "orientation": "v",
         "showlegend": true,
         "type": "scatter",
         "visible": "legendonly",
         "x": [
          1965,
          1966,
          1967,
          1968,
          1969,
          1970,
          1971,
          1972,
          1973,
          1974,
          1975,
          1976,
          1977,
          1978,
          1979,
          1980,
          1981,
          1982,
          1983,
          1984,
          1985,
          1986,
          1987,
          1988,
          1989,
          1990,
          1991,
          1992,
          1993,
          1994,
          1995,
          1996,
          1997,
          1998,
          1999,
          2000,
          2001,
          2002,
          2003,
          2004,
          2005,
          2006,
          2007,
          2008,
          2009,
          2010,
          2011,
          2012,
          2013,
          2014,
          2015,
          2016,
          2017,
          2018,
          2019,
          2020
         ],
         "xaxis": "x",
         "y": [
          0,
          0,
          0,
          0,
          0,
          0,
          0,
          0,
          0,
          0,
          0,
          0,
          0,
          0,
          0,
          0,
          0,
          0,
          0,
          0,
          0,
          0,
          0,
          0,
          0,
          0,
          0,
          0,
          0,
          0,
          0,
          0.0036000000000000003,
          0.007200000000000001,
          0.0108,
          0.0108,
          0.0108,
          0.014400000000000001,
          0.018000000000000002,
          0.018000000000000002,
          0.0216,
          0.028800000000000003,
          0.054,
          0.057600000000000005,
          0.0684,
          0.0828,
          0.13319999999999999,
          0.25200000000000006,
          0.31679999999999997,
          0.324,
          0.36360000000000003,
          0.396,
          0.3924,
          0.47880000000000006,
          0.4392,
          0.5256,
          0.6096959981203081
         ],
         "yaxis": "y"
        },
        {
         "hovertemplate": "type unit=Wind Consumption [Petajoules (input-equivalent)]<br>year=%{x}<br>values=%{y}<extra></extra>",
         "legendgroup": "Wind Consumption [Petajoules (input-equivalent)]",
         "line": {
          "color": "#ab63fa",
          "dash": "solid"
         },
         "marker": {
          "symbol": "circle"
         },
         "mode": "lines",
         "name": "Wind Consumption [Petajoules (input-equivalent)]",
         "orientation": "v",
         "showlegend": true,
         "type": "scatter",
         "x": [
          1965,
          1966,
          1967,
          1968,
          1969,
          1970,
          1971,
          1972,
          1973,
          1974,
          1975,
          1976,
          1977,
          1978,
          1979,
          1980,
          1981,
          1982,
          1983,
          1984,
          1985,
          1986,
          1987,
          1988,
          1989,
          1990,
          1991,
          1992,
          1993,
          1994,
          1995,
          1996,
          1997,
          1998,
          1999,
          2000,
          2001,
          2002,
          2003,
          2004,
          2005,
          2006,
          2007,
          2008,
          2009,
          2010,
          2011,
          2012,
          2013,
          2014,
          2015,
          2016,
          2017,
          2018,
          2019,
          2020
         ],
         "xaxis": "x",
         "y": [
          0,
          0,
          0,
          0,
          0,
          0,
          0,
          0,
          0,
          0,
          0,
          0,
          0,
          0,
          0,
          0,
          0,
          0,
          0,
          0,
          0,
          0,
          0,
          0,
          0,
          0,
          0,
          0,
          0,
          0,
          0,
          0.01,
          0.02,
          0.030000000000000002,
          0.030000000000000002,
          0.030000000000000002,
          0.039740259740259735,
          0.04935483870967742,
          0.04903846153846153,
          0.058471337579617824,
          0.07746835443037972,
          0.14433962264150937,
          0.15299999999999994,
          0.18055900621118,
          0.2172222222222221,
          0.34730061349693225,
          0.6530487804878045,
          0.8159999999999993,
          0.829518072289156,
          0.9253293413173646,
          1.0017857142857134,
          0.9868047337278096,
          1.197,
          1.0915789473684208,
          1.3014993854977468,
          1.5041933014850228
         ],
         "yaxis": "y"
        },
        {
         "hovertemplate": "type unit=Electricity Generation  [Petajoules]<br>year=%{x}<br>values=%{y}<extra></extra>",
         "legendgroup": "Electricity Generation  [Petajoules]",
         "line": {
          "color": "#FFA15A",
          "dash": "solid"
         },
         "marker": {
          "symbol": "circle"
         },
         "mode": "lines",
         "name": "Electricity Generation  [Petajoules]",
         "orientation": "v",
         "showlegend": true,
         "type": "scatter",
         "visible": "legendonly",
         "x": [
          1985,
          1986,
          1987,
          1988,
          1989,
          1990,
          1991,
          1992,
          1993,
          1994,
          1995,
          1996,
          1997,
          1998,
          1999,
          2000,
          2001,
          2002,
          2003,
          2004,
          2005,
          2006,
          2007,
          2008,
          2009,
          2010,
          2011,
          2012,
          2013,
          2014,
          2015,
          2016,
          2017,
          2018,
          2019,
          2020
         ],
         "xaxis": "x",
         "y": [
          202.81724401913874,
          206.677776076555,
          215.04187751196173,
          217.92871770334926,
          196.59877703349284,
          201.65553875598087,
          209.02264497607658,
          214.26451100478468,
          221.60020669856462,
          238.08326315789475,
          226.30561531100477,
          206.38205358851675,
          226.44751004784692,
          227.83658564593304,
          247.0223349282297,
          242.38597894736847,
          260.08232153110055,
          240.96970334928233,
          241.8657148325359,
          235.41207655502393,
          214.13464688995217,
          229.90003827751195,
          243.82774928229662,
          247.4703081339713,
          245.75326315789476,
          244.8175023923445,
          233.36865645933017,
          252.08066411483256,
          253.44258181818185,
          259.0270028708135,
          238.57920000000001,
          222.73200000000003,
          222.5844072,
          243.43109280000002,
          259.40278440000003,
          253.55541555911654
         ],
         "yaxis": "y"
        }
       ],
       "layout": {
        "height": 800,
        "legend": {
         "title": {
          "text": "type unit"
         },
         "tracegroupgap": 0
        },
        "margin": {
         "t": 60
        },
        "template": {
         "data": {
          "bar": [
           {
            "error_x": {
             "color": "#2a3f5f"
            },
            "error_y": {
             "color": "#2a3f5f"
            },
            "marker": {
             "line": {
              "color": "#E5ECF6",
              "width": 0.5
             },
             "pattern": {
              "fillmode": "overlay",
              "size": 10,
              "solidity": 0.2
             }
            },
            "type": "bar"
           }
          ],
          "barpolar": [
           {
            "marker": {
             "line": {
              "color": "#E5ECF6",
              "width": 0.5
             },
             "pattern": {
              "fillmode": "overlay",
              "size": 10,
              "solidity": 0.2
             }
            },
            "type": "barpolar"
           }
          ],
          "carpet": [
           {
            "aaxis": {
             "endlinecolor": "#2a3f5f",
             "gridcolor": "white",
             "linecolor": "white",
             "minorgridcolor": "white",
             "startlinecolor": "#2a3f5f"
            },
            "baxis": {
             "endlinecolor": "#2a3f5f",
             "gridcolor": "white",
             "linecolor": "white",
             "minorgridcolor": "white",
             "startlinecolor": "#2a3f5f"
            },
            "type": "carpet"
           }
          ],
          "choropleth": [
           {
            "colorbar": {
             "outlinewidth": 0,
             "ticks": ""
            },
            "type": "choropleth"
           }
          ],
          "contour": [
           {
            "colorbar": {
             "outlinewidth": 0,
             "ticks": ""
            },
            "colorscale": [
             [
              0,
              "#0d0887"
             ],
             [
              0.1111111111111111,
              "#46039f"
             ],
             [
              0.2222222222222222,
              "#7201a8"
             ],
             [
              0.3333333333333333,
              "#9c179e"
             ],
             [
              0.4444444444444444,
              "#bd3786"
             ],
             [
              0.5555555555555556,
              "#d8576b"
             ],
             [
              0.6666666666666666,
              "#ed7953"
             ],
             [
              0.7777777777777778,
              "#fb9f3a"
             ],
             [
              0.8888888888888888,
              "#fdca26"
             ],
             [
              1,
              "#f0f921"
             ]
            ],
            "type": "contour"
           }
          ],
          "contourcarpet": [
           {
            "colorbar": {
             "outlinewidth": 0,
             "ticks": ""
            },
            "type": "contourcarpet"
           }
          ],
          "heatmap": [
           {
            "colorbar": {
             "outlinewidth": 0,
             "ticks": ""
            },
            "colorscale": [
             [
              0,
              "#0d0887"
             ],
             [
              0.1111111111111111,
              "#46039f"
             ],
             [
              0.2222222222222222,
              "#7201a8"
             ],
             [
              0.3333333333333333,
              "#9c179e"
             ],
             [
              0.4444444444444444,
              "#bd3786"
             ],
             [
              0.5555555555555556,
              "#d8576b"
             ],
             [
              0.6666666666666666,
              "#ed7953"
             ],
             [
              0.7777777777777778,
              "#fb9f3a"
             ],
             [
              0.8888888888888888,
              "#fdca26"
             ],
             [
              1,
              "#f0f921"
             ]
            ],
            "type": "heatmap"
           }
          ],
          "heatmapgl": [
           {
            "colorbar": {
             "outlinewidth": 0,
             "ticks": ""
            },
            "colorscale": [
             [
              0,
              "#0d0887"
             ],
             [
              0.1111111111111111,
              "#46039f"
             ],
             [
              0.2222222222222222,
              "#7201a8"
             ],
             [
              0.3333333333333333,
              "#9c179e"
             ],
             [
              0.4444444444444444,
              "#bd3786"
             ],
             [
              0.5555555555555556,
              "#d8576b"
             ],
             [
              0.6666666666666666,
              "#ed7953"
             ],
             [
              0.7777777777777778,
              "#fb9f3a"
             ],
             [
              0.8888888888888888,
              "#fdca26"
             ],
             [
              1,
              "#f0f921"
             ]
            ],
            "type": "heatmapgl"
           }
          ],
          "histogram": [
           {
            "marker": {
             "pattern": {
              "fillmode": "overlay",
              "size": 10,
              "solidity": 0.2
             }
            },
            "type": "histogram"
           }
          ],
          "histogram2d": [
           {
            "colorbar": {
             "outlinewidth": 0,
             "ticks": ""
            },
            "colorscale": [
             [
              0,
              "#0d0887"
             ],
             [
              0.1111111111111111,
              "#46039f"
             ],
             [
              0.2222222222222222,
              "#7201a8"
             ],
             [
              0.3333333333333333,
              "#9c179e"
             ],
             [
              0.4444444444444444,
              "#bd3786"
             ],
             [
              0.5555555555555556,
              "#d8576b"
             ],
             [
              0.6666666666666666,
              "#ed7953"
             ],
             [
              0.7777777777777778,
              "#fb9f3a"
             ],
             [
              0.8888888888888888,
              "#fdca26"
             ],
             [
              1,
              "#f0f921"
             ]
            ],
            "type": "histogram2d"
           }
          ],
          "histogram2dcontour": [
           {
            "colorbar": {
             "outlinewidth": 0,
             "ticks": ""
            },
            "colorscale": [
             [
              0,
              "#0d0887"
             ],
             [
              0.1111111111111111,
              "#46039f"
             ],
             [
              0.2222222222222222,
              "#7201a8"
             ],
             [
              0.3333333333333333,
              "#9c179e"
             ],
             [
              0.4444444444444444,
              "#bd3786"
             ],
             [
              0.5555555555555556,
              "#d8576b"
             ],
             [
              0.6666666666666666,
              "#ed7953"
             ],
             [
              0.7777777777777778,
              "#fb9f3a"
             ],
             [
              0.8888888888888888,
              "#fdca26"
             ],
             [
              1,
              "#f0f921"
             ]
            ],
            "type": "histogram2dcontour"
           }
          ],
          "mesh3d": [
           {
            "colorbar": {
             "outlinewidth": 0,
             "ticks": ""
            },
            "type": "mesh3d"
           }
          ],
          "parcoords": [
           {
            "line": {
             "colorbar": {
              "outlinewidth": 0,
              "ticks": ""
             }
            },
            "type": "parcoords"
           }
          ],
          "pie": [
           {
            "automargin": true,
            "type": "pie"
           }
          ],
          "scatter": [
           {
            "marker": {
             "colorbar": {
              "outlinewidth": 0,
              "ticks": ""
             }
            },
            "type": "scatter"
           }
          ],
          "scatter3d": [
           {
            "line": {
             "colorbar": {
              "outlinewidth": 0,
              "ticks": ""
             }
            },
            "marker": {
             "colorbar": {
              "outlinewidth": 0,
              "ticks": ""
             }
            },
            "type": "scatter3d"
           }
          ],
          "scattercarpet": [
           {
            "marker": {
             "colorbar": {
              "outlinewidth": 0,
              "ticks": ""
             }
            },
            "type": "scattercarpet"
           }
          ],
          "scattergeo": [
           {
            "marker": {
             "colorbar": {
              "outlinewidth": 0,
              "ticks": ""
             }
            },
            "type": "scattergeo"
           }
          ],
          "scattergl": [
           {
            "marker": {
             "colorbar": {
              "outlinewidth": 0,
              "ticks": ""
             }
            },
            "type": "scattergl"
           }
          ],
          "scattermapbox": [
           {
            "marker": {
             "colorbar": {
              "outlinewidth": 0,
              "ticks": ""
             }
            },
            "type": "scattermapbox"
           }
          ],
          "scatterpolar": [
           {
            "marker": {
             "colorbar": {
              "outlinewidth": 0,
              "ticks": ""
             }
            },
            "type": "scatterpolar"
           }
          ],
          "scatterpolargl": [
           {
            "marker": {
             "colorbar": {
              "outlinewidth": 0,
              "ticks": ""
             }
            },
            "type": "scatterpolargl"
           }
          ],
          "scatterternary": [
           {
            "marker": {
             "colorbar": {
              "outlinewidth": 0,
              "ticks": ""
             }
            },
            "type": "scatterternary"
           }
          ],
          "surface": [
           {
            "colorbar": {
             "outlinewidth": 0,
             "ticks": ""
            },
            "colorscale": [
             [
              0,
              "#0d0887"
             ],
             [
              0.1111111111111111,
              "#46039f"
             ],
             [
              0.2222222222222222,
              "#7201a8"
             ],
             [
              0.3333333333333333,
              "#9c179e"
             ],
             [
              0.4444444444444444,
              "#bd3786"
             ],
             [
              0.5555555555555556,
              "#d8576b"
             ],
             [
              0.6666666666666666,
              "#ed7953"
             ],
             [
              0.7777777777777778,
              "#fb9f3a"
             ],
             [
              0.8888888888888888,
              "#fdca26"
             ],
             [
              1,
              "#f0f921"
             ]
            ],
            "type": "surface"
           }
          ],
          "table": [
           {
            "cells": {
             "fill": {
              "color": "#EBF0F8"
             },
             "line": {
              "color": "white"
             }
            },
            "header": {
             "fill": {
              "color": "#C8D4E3"
             },
             "line": {
              "color": "white"
             }
            },
            "type": "table"
           }
          ]
         },
         "layout": {
          "annotationdefaults": {
           "arrowcolor": "#2a3f5f",
           "arrowhead": 0,
           "arrowwidth": 1
          },
          "autotypenumbers": "strict",
          "coloraxis": {
           "colorbar": {
            "outlinewidth": 0,
            "ticks": ""
           }
          },
          "colorscale": {
           "diverging": [
            [
             0,
             "#8e0152"
            ],
            [
             0.1,
             "#c51b7d"
            ],
            [
             0.2,
             "#de77ae"
            ],
            [
             0.3,
             "#f1b6da"
            ],
            [
             0.4,
             "#fde0ef"
            ],
            [
             0.5,
             "#f7f7f7"
            ],
            [
             0.6,
             "#e6f5d0"
            ],
            [
             0.7,
             "#b8e186"
            ],
            [
             0.8,
             "#7fbc41"
            ],
            [
             0.9,
             "#4d9221"
            ],
            [
             1,
             "#276419"
            ]
           ],
           "sequential": [
            [
             0,
             "#0d0887"
            ],
            [
             0.1111111111111111,
             "#46039f"
            ],
            [
             0.2222222222222222,
             "#7201a8"
            ],
            [
             0.3333333333333333,
             "#9c179e"
            ],
            [
             0.4444444444444444,
             "#bd3786"
            ],
            [
             0.5555555555555556,
             "#d8576b"
            ],
            [
             0.6666666666666666,
             "#ed7953"
            ],
            [
             0.7777777777777778,
             "#fb9f3a"
            ],
            [
             0.8888888888888888,
             "#fdca26"
            ],
            [
             1,
             "#f0f921"
            ]
           ],
           "sequentialminus": [
            [
             0,
             "#0d0887"
            ],
            [
             0.1111111111111111,
             "#46039f"
            ],
            [
             0.2222222222222222,
             "#7201a8"
            ],
            [
             0.3333333333333333,
             "#9c179e"
            ],
            [
             0.4444444444444444,
             "#bd3786"
            ],
            [
             0.5555555555555556,
             "#d8576b"
            ],
            [
             0.6666666666666666,
             "#ed7953"
            ],
            [
             0.7777777777777778,
             "#fb9f3a"
            ],
            [
             0.8888888888888888,
             "#fdca26"
            ],
            [
             1,
             "#f0f921"
            ]
           ]
          },
          "colorway": [
           "#636efa",
           "#EF553B",
           "#00cc96",
           "#ab63fa",
           "#FFA15A",
           "#19d3f3",
           "#FF6692",
           "#B6E880",
           "#FF97FF",
           "#FECB52"
          ],
          "font": {
           "color": "#2a3f5f"
          },
          "geo": {
           "bgcolor": "white",
           "lakecolor": "white",
           "landcolor": "#E5ECF6",
           "showlakes": true,
           "showland": true,
           "subunitcolor": "white"
          },
          "hoverlabel": {
           "align": "left"
          },
          "hovermode": "closest",
          "mapbox": {
           "style": "light"
          },
          "paper_bgcolor": "white",
          "plot_bgcolor": "#E5ECF6",
          "polar": {
           "angularaxis": {
            "gridcolor": "white",
            "linecolor": "white",
            "ticks": ""
           },
           "bgcolor": "#E5ECF6",
           "radialaxis": {
            "gridcolor": "white",
            "linecolor": "white",
            "ticks": ""
           }
          },
          "scene": {
           "xaxis": {
            "backgroundcolor": "#E5ECF6",
            "gridcolor": "white",
            "gridwidth": 2,
            "linecolor": "white",
            "showbackground": true,
            "ticks": "",
            "zerolinecolor": "white"
           },
           "yaxis": {
            "backgroundcolor": "#E5ECF6",
            "gridcolor": "white",
            "gridwidth": 2,
            "linecolor": "white",
            "showbackground": true,
            "ticks": "",
            "zerolinecolor": "white"
           },
           "zaxis": {
            "backgroundcolor": "#E5ECF6",
            "gridcolor": "white",
            "gridwidth": 2,
            "linecolor": "white",
            "showbackground": true,
            "ticks": "",
            "zerolinecolor": "white"
           }
          },
          "shapedefaults": {
           "line": {
            "color": "#2a3f5f"
           }
          },
          "ternary": {
           "aaxis": {
            "gridcolor": "white",
            "linecolor": "white",
            "ticks": ""
           },
           "baxis": {
            "gridcolor": "white",
            "linecolor": "white",
            "ticks": ""
           },
           "bgcolor": "#E5ECF6",
           "caxis": {
            "gridcolor": "white",
            "linecolor": "white",
            "ticks": ""
           }
          },
          "title": {
           "x": 0.05
          },
          "xaxis": {
           "automargin": true,
           "gridcolor": "white",
           "linecolor": "white",
           "ticks": "",
           "title": {
            "standoff": 15
           },
           "zerolinecolor": "white",
           "zerolinewidth": 2
          },
          "yaxis": {
           "automargin": true,
           "gridcolor": "white",
           "linecolor": "white",
           "ticks": "",
           "title": {
            "standoff": 15
           },
           "zerolinecolor": "white",
           "zerolinewidth": 2
          }
         }
        },
        "width": 800,
        "xaxis": {
         "anchor": "y",
         "autorange": true,
         "domain": [
          0,
          1
         ],
         "range": [
          1965,
          2020
         ],
         "rangeslider": {
          "autorange": true,
          "range": [
           1965,
           2020
          ],
          "visible": true,
          "yaxis": {
           "_template": null,
           "rangemode": "match"
          }
         },
         "title": {
          "text": "year"
         },
         "type": "linear"
        },
        "yaxis": {
         "anchor": "x",
         "autorange": true,
         "domain": [
          0,
          1
         ],
         "range": [
          -2.3336254403348877,
          3.4237335551493735
         ],
         "title": {
          "text": "values"
         },
         "type": "log"
        }
       }
      },
      "image/png": "[encoded data removed]",
      "text/html": [
       "<div>                            <div id=\"237ba924-bc92-4a3b-be60-70cb37e44675\" class=\"plotly-graph-div\" style=\"height:800px; width:800px;\"></div>            <script type=\"text/javascript\">                require([\"plotly\"], function(Plotly) {                    window.PLOTLYENV=window.PLOTLYENV || {};                                    if (document.getElementById(\"237ba924-bc92-4a3b-be60-70cb37e44675\")) {                    Plotly.newPlot(                        \"237ba924-bc92-4a3b-be60-70cb37e44675\",                        [{\"hovertemplate\":\"type unit=Primary Energy Consumption [Petajoules]<br>year=%{x}<br>values=%{y}<extra></extra>\",\"legendgroup\":\"Primary Energy Consumption [Petajoules]\",\"line\":{\"color\":\"#636efa\",\"dash\":\"solid\"},\"marker\":{\"symbol\":\"circle\"},\"mode\":\"lines\",\"name\":\"Primary Energy Consumption [Petajoules]\",\"orientation\":\"v\",\"showlegend\":true,\"x\":[1965,1966,1967,1968,1969,1970,1971,1972,1973,1974,1975,1976,1977,1978,1979,1980,1981,1982,1983,1984,1985,1986,1987,1988,1989,1990,1991,1992,1993,1994,1995,1996,1997,1998,1999,2000,2001,2002,2003,2004,2005,2006,2007,2008,2009,2010,2011,2012,2013,2014,2015,2016,2017,2018,2019,2020,1965,1966,1967,1968,1969,1970,1971,1972,1973,1974,1975,1976,1977,1978,1979,1980,1981,1982,1983,1984,1985,1986,1987,1988,1989,1990,1991,1992,1993,1994,1995,1996,1997,1998,1999,2000,2001,2002,2003,2004,2005,2006,2007,2008,2009,2010,2011,2012,2013,2014,2015,2016,2017,2018,2019,2020],\"xaxis\":\"x\",\"y\":[641.3392690000001,688.221126,734.7389850000001,772.9109470000001,800.9084319999998,877.4356110000001,898.4717019999999,887.3605090000001,981.034002,936.0527750000001,969.4766770000001,928.9092890000002,1028.3638349999999,1014.4492720000003,1011.0448310000002,1081.092985,1078.37455,1055.6275740000003,1099.328052,1067.0915980000002,1139.5550063864966,1196.7733615459863,1188.254438644338,1196.8490301759707,1120.5108179819242,1168.9252003221693,1199.809388266879,1218.9662352355133,1214.899788718235,1275.4772286608186,1209.5150511972354,1171.4099431903246,1250.7591412440192,1258.2238795720364,1312.0706955784158,1280.9449749649125,1367.3056404721929,1274.4539454415806,1260.7561915629983,1242.8349455979953,1193.4287039373867,1242.050646206718,1225.1834853686362,1266.4850672490868,1263.0477842882062,1229.2561654034293,1167.289037647901,1231.523275494037,1264.0967989324242,1205.0169388194167,1178.3726811313957,1108.6123671068465,1111.244394330244,1127.9846162616436,1176.2168266336587,1077.9151830509413,641.3392690000001,688.221126,734.7389850000001,772.9109470000001,800.9084319999998,877.4356110000001,898.4717019999999,887.3605090000001,981.034002,936.0527750000001,969.4766770000001,928.9092890000002,1028.3638349999999,1014.4492720000003,1011.0448310000002,1081.092985,1078.37455,1055.6275740000003,1099.328052,1067.0915980000002,1139.5550063864966,1196.7733615459863,1188.254438644338,1196.8490301759707,1120.5108179819242,1168.9252003221693,1199.809388266879,1218.9662352355133,1214.899788718235,1275.4772286608186,1209.5150511972354,1171.4099431903246,1250.7591412440192,1258.2238795720364,1312.0706955784158,1280.9449749649125,1367.3056404721929,1274.4539454415806,1260.7561915629983,1242.8349455979953,1193.4287039373867,1242.050646206718,1225.1834853686362,1266.4850672490868,1263.0477842882062,1229.2561654034293,1167.289037647901,1231.523275494037,1264.0967989324242,1205.0169388194167,1178.3726811313957,1108.6123671068465,1111.244394330244,1127.9846162616436,1176.2168266336587,1077.9151830509413],\"yaxis\":\"y\",\"type\":\"scatter\"},{\"hovertemplate\":\"type unit=Oil Consumption [Petajoules]<br>year=%{x}<br>values=%{y}<extra></extra>\",\"legendgroup\":\"Oil Consumption [Petajoules]\",\"line\":{\"color\":\"#EF553B\",\"dash\":\"solid\"},\"marker\":{\"symbol\":\"circle\"},\"mode\":\"lines\",\"name\":\"Oil Consumption [Petajoules]\",\"orientation\":\"v\",\"showlegend\":true,\"x\":[1965,1966,1967,1968,1969,1970,1971,1972,1973,1974,1975,1976,1977,1978,1979,1980,1981,1982,1983,1984,1985,1986,1987,1988,1989,1990,1991,1992,1993,1994,1995,1996,1997,1998,1999,2000,2001,2002,2003,2004,2005,2006,2007,2008,2009,2010,2011,2012,2013,2014,2015,2016,2017,2018,2019,2020],\"xaxis\":\"x\",\"y\":[346.966449,368.885046,398.996861,442.55756700000006,481.258118,539.343335,572.3264419999999,586.7621730000001,631.496936,561.984851,540.4167810000001,561.658261,564.569017,578.9490140000001,554.8910389999999,554.4716510000001,513.0877640000001,484.767466,530.4045340000002,513.461956,522.540773,571.853428,538.6528900000001,540.219481,518.3751040000002,555.4719259999999,565.0289300000001,572.8970380000003,536.809659,554.765831,514.080342,532.526461,560.2542800000001,567.162475,550.347543,533.830589,571.304883,541.511404,526.99543,524.4354390000002,533.888925910617,547.1807954649408,493.58515133753605,526.1071297830144,534.4162783040905,495.9775973495357,481.06504448234665,490.08749570530676,512.9814564881958,459.87834334099995,465.6101311909999,440.00855823003184,450.8529627819185,434.5507571956074,444.1522012638519,369.39444435211453],\"yaxis\":\"y\",\"type\":\"scatter\"},{\"hovertemplate\":\"type unit=Gas Consumption [Petajoules]<br>year=%{x}<br>values=%{y}<extra></extra>\",\"legendgroup\":\"Gas Consumption [Petajoules]\",\"line\":{\"color\":\"#00cc96\",\"dash\":\"solid\"},\"marker\":{\"symbol\":\"circle\"},\"mode\":\"lines\",\"name\":\"Gas Consumption [Petajoules]\",\"orientation\":\"v\",\"showlegend\":true,\"x\":[1965,1966,1967,1968,1969,1970,1971,1972,1973,1974,1975,1976,1977,1978,1979,1980,1981,1982,1983,1984,1985,1986,1987,1988,1989,1990,1991,1992,1993,1994,1995,1996,1997,1998,1999,2000,2001,2002,2003,2004,2005,2006,2007,2008,2009,2010,2011,2012,2013,2014,2015,2016,2017,2018,2019,2020],\"xaxis\":\"x\",\"y\":[0.0,0.0,0.0,0.0,0.009000000000000001,1.3860000000000001,3.3480000000000003,4.248,5.751,12.114,19.512,20.367,23.256,25.515,28.62,32.652,35.226,37.206,40.905,45.621,47.763000000000005,48.915,52.443000000000005,52.812000000000005,57.43800000000001,61.479000000000006,69.01200000000001,72.54000000000002,76.104,75.069,82.72800000000001,89.55,86.45400000000002,88.992,102.45000000000002,101.88000000000001,106.04000000000002,104.08000000000003,110.01000000000002,113.49000000000001,116.51000000000002,113.29,110.31000000000003,117.53000000000002,112.81,126.01,111.77000000000002,122.52000000000002,129.03000000000003,111.77000000000002,119.42000000000002,125.46000000000002,125.99000000000002,119.51000000000003,122.61000000000001,116.3101178455],\"yaxis\":\"y\",\"type\":\"scatter\"},{\"hovertemplate\":\"type unit=Coal Consumption [Petajoules]<br>year=%{x}<br>values=%{y}<extra></extra>\",\"legendgroup\":\"Coal Consumption [Petajoules]\",\"line\":{\"color\":\"#ab63fa\",\"dash\":\"solid\"},\"marker\":{\"symbol\":\"circle\"},\"mode\":\"lines\",\"name\":\"Coal Consumption [Petajoules]\",\"orientation\":\"v\",\"showlegend\":true,\"x\":[1965,1966,1967,1968,1969,1970,1971,1972,1973,1974,1975,1976,1977,1978,1979,1980,1981,1982,1983,1984,1985,1986,1987,1988,1989,1990,1991,1992,1993,1994,1995,1996,1997,1998,1999,2000,2001,2002,2003,2004,2005,2006,2007,2008,2009,2010,2011,2012,2013,2014,2015,2016,2017,2018,2019,2020],\"xaxis\":\"x\",\"y\":[53.4,44.15,37.24,35.2,31.84,27.32,18.45,15.610000000000001,14.82,12.780000000000001,9.58,9.0,10.5,9.450000000000001,9.77,14.3,21.150000000000002,18.71,16.330000000000002,20.98,21.07,18.13,16.87,14.4,14.89,14.89,12.65,8.76,7.34,7.43,7.97,5.96,4.59,3.81,3.96,5.7700000000000005,6.03,5.5600000000000005,5.71,5.42,6.04,6.5200000000000005,7.3,6.5600000000000005,6.19,6.21,5.74,5.17,5.57,5.7,5.21,4.79,4.61,4.29,3.81,3.81],\"yaxis\":\"y\",\"type\":\"scatter\"},{\"hovertemplate\":\"type unit=Nuclear Generation [Petajoules]<br>year=%{x}<br>values=%{y}<extra></extra>\",\"legendgroup\":\"Nuclear Generation [Petajoules]\",\"line\":{\"color\":\"#FFA15A\",\"dash\":\"solid\"},\"marker\":{\"symbol\":\"circle\"},\"mode\":\"lines\",\"name\":\"Nuclear Generation [Petajoules]\",\"orientation\":\"v\",\"showlegend\":true,\"x\":[1965,1966,1967,1968,1969,1970,1971,1972,1973,1974,1975,1976,1977,1978,1979,1980,1981,1982,1983,1984,1985,1986,1987,1988,1989,1990,1991,1992,1993,1994,1995,1996,1997,1998,1999,2000,2001,2002,2003,2004,2005,2006,2007,2008,2009,2010,2011,2012,2013,2014,2015,2016,2017,2018,2019,2020],\"xaxis\":\"x\",\"y\":[0.0,0.0,0.0,0.0,1.9260000000000002,6.357600000000001,5.0076,13.824,22.716,25.441200000000002,27.939600000000002,28.5804,29.210400000000003,30.221999999999998,42.498,51.6456,55.188,54.47880000000001,56.556000000000004,66.384,80.64378947368421,80.72715789473685,82.23536842105263,81.48126315789473,81.63663157894736,84.49768421052632,82.05726315789474,83.82694736842106,83.47831578947368,87.09726315789474,88.99957894736842,89.88252631578948,90.83747368421052,92.34189473684211,89.1397894736842,94.54357894736843,95.84715789473684,97.35915789473684,98.26484210526316,96.37389473684212,83.44421052631579,99.45094736842105,99.8298947368421,99.02652631578948,98.97726315789474,95.5136842105263,96.85894736842106,92.25473684210526,94.248,99.92842105263158,83.72842105263157,76.67999999999999,73.89094736842105,87.89040000000001,91.00800000000001,82.76400000000001],\"yaxis\":\"y\",\"type\":\"scatter\"},{\"hovertemplate\":\"type unit=Nuclear Consumption [Petajoules (input-equivalent)]<br>year=%{x}<br>values=%{y}<extra></extra>\",\"legendgroup\":\"Nuclear Consumption [Petajoules (input-equivalent)]\",\"line\":{\"color\":\"#19d3f3\",\"dash\":\"solid\"},\"marker\":{\"symbol\":\"circle\"},\"mode\":\"lines\",\"name\":\"Nuclear Consumption [Petajoules (input-equivalent)]\",\"orientation\":\"v\",\"showlegend\":true,\"x\":[1965,1966,1967,1968,1969,1970,1971,1972,1973,1974,1975,1976,1977,1978,1979,1980,1981,1982,1983,1984,1985,1986,1987,1988,1989,1990,1991,1992,1993,1994,1995,1996,1997,1998,1999,2000,2001,2002,2003,2004,2005,2006,2007,2008,2009,2010,2011,2012,2013,2014,2015,2016,2017,2018,2019,2020],\"xaxis\":\"x\",\"y\":[0.0,0.0,0.0,0.0,5.35,17.66,13.910000000000002,38.4,63.1,70.67,77.61000000000001,79.39,81.14,83.95,118.05,143.46,153.3,151.33,157.1,184.4,224.01052631578943,224.2421052631579,228.43157894736842,226.33684210526312,226.76842105263157,234.71578947368425,227.93684210526314,232.8526315789474,231.8842105263158,241.9368421052632,247.22105263157894,249.67368421052635,252.32631578947368,256.5052631578948,247.61052631578943,262.621052631579,264.51326042378673,266.9525297113752,267.70870445344127,260.8847468990948,224.4543637574949,265.82800397219455,265.17315789473673,261.4054266100032,259.66257309941506,249.038747174685,251.0064184852373,237.62583732057394,241.2975903614456,254.30885597226577,211.81296992481182,192.83431952662698,184.72736842105257,218.44105263157894,225.3555100368701,204.18873469387754],\"yaxis\":\"y\",\"type\":\"scatter\"},{\"hovertemplate\":\"type unit=Hydro Generation [Petajoules]<br>year=%{x}<br>values=%{y}<extra></extra>\",\"legendgroup\":\"Hydro Generation [Petajoules]\",\"line\":{\"color\":\"#FF6692\",\"dash\":\"solid\"},\"marker\":{\"symbol\":\"circle\"},\"mode\":\"lines\",\"name\":\"Hydro Generation [Petajoules]\",\"orientation\":\"v\",\"showlegend\":true,\"x\":[1965,1966,1967,1968,1969,1970,1971,1972,1973,1974,1975,1976,1977,1978,1979,1980,1981,1982,1983,1984,1985,1986,1987,1988,1989,1990,1991,1992,1993,1994,1995,1996,1997,1998,1999,2000,2001,2002,2003,2004,2005,2006,2007,2008,2009,2010,2011,2012,2013,2014,2015,2016,2017,2018,2019,2020],\"xaxis\":\"x\",\"y\":[86.7502152,99.06698880000002,107.46076464000002,106.25521680000001,101.68247304,105.02145936000002,104.55741360000003,87.24252096000002,95.71178376000002,100.26141264000002,116.04884256000001,93.05785008000001,125.60357448000002,113.61789288000001,106.86376512000002,120.41256023999999,126.45028296000001,129.49707888,126.22626648000002,107.61791112000003,115.38745454545456,118.45901818181818,124.82890909090911,128.86225454545456,107.18974545454546,107.27225454545456,115.48858181818183,117.73316363636364,128.8122909090909,140.6612,126.61763636363638,103.49272727272728,122.56723636363641,120.51149090909094,144.02974545454546,132.61440000000002,148.76236363636366,126.61854545454545,125.16167272727274,121.50618181818183,112.42763636363637,111.46269090909094,126.91225454545453,129.7417818181818,128.6176,129.83141818181818,116.6161090909091,138.9747272727273,138.47298181818184,136.94418181818185,137.74265454545457,124.66054545454547,122.74330909090912,124.59308730468749,135.48228837890625,135.69828837890626],\"yaxis\":\"y\",\"type\":\"scatter\"},{\"hovertemplate\":\"type unit=Hydro Consumption [Petajoules]<br>year=%{x}<br>values=%{y}<extra></extra>\",\"legendgroup\":\"Hydro Consumption [Petajoules]\",\"line\":{\"color\":\"#B6E880\",\"dash\":\"solid\"},\"marker\":{\"symbol\":\"circle\"},\"mode\":\"lines\",\"name\":\"Hydro Consumption [Petajoules]\",\"orientation\":\"v\",\"showlegend\":true,\"x\":[1965,1966,1967,1968,1969,1970,1971,1972,1973,1974,1975,1976,1977,1978,1979,1980,1981,1982,1983,1984,1985,1986,1987,1988,1989,1990,1991,1992,1993,1994,1995,1996,1997,1998,1999,2000,2001,2002,2003,2004,2005,2006,2007,2008,2009,2010,2011,2012,2013,2014,2015,2016,2017,2018,2019,2020],\"xaxis\":\"x\",\"y\":[240.97281999999998,275.18608,298.50212400000004,295.1533800000001,282.451314,291.7262760000001,290.4372600000001,242.340336,265.866066,278.50392400000004,322.3578960000001,258.494028,348.898818,315.60525800000005,296.8437920000001,334.479334,351.25078600000006,359.714108,350.62851800000004,298.9386420000001,320.52070707070715,329.05282828282833,346.7469696969697,357.9507070707071,297.7492929292929,297.9784848484849,320.80161616161615,327.0365656565657,357.81191919191923,390.72555555555556,351.71565656565656,287.4797979797979,340.46454545454566,334.75414141414143,400.0826262626263,368.37333333333333,410.5454840613932,347.1798826979473,340.98532634032637,328.9180081065431,302.41611047180663,297.9348656375071,337.11067613636345,342.4860700169393,337.4227160493826,338.517501394311,302.2063802660752,357.96520661157,354.5242004381159,348.51064235166007,348.4561201298698,313.49545454545427,306.8582727272727,309.66118189761505,335.4834761624334,334.78398584183674],\"yaxis\":\"y\",\"type\":\"scatter\"},{\"hovertemplate\":\"type unit=Renewables Consumption [Petajoules (input-equivalent)]<br>year=%{x}<br>values=%{y}<extra></extra>\",\"legendgroup\":\"Renewables Consumption [Petajoules (input-equivalent)]\",\"line\":{\"color\":\"#FF97FF\",\"dash\":\"solid\"},\"marker\":{\"symbol\":\"circle\"},\"mode\":\"lines\",\"name\":\"Renewables Consumption [Petajoules (input-equivalent)]\",\"orientation\":\"v\",\"showlegend\":true,\"x\":[1965,1966,1967,1968,1969,1970,1971,1972,1973,1974,1975,1976,1977,1978,1979,1980,1981,1982,1983,1984,1985,1986,1987,1988,1989,1990,1991,1992,1993,1994,1995,1996,1997,1998,1999,2000,2001,2002,2003,2004,2005,2006,2007,2008,2009,2010,2011,2012,2013,2014,2015,2016,2017,2018,2019,2020],\"xaxis\":\"x\",\"y\":[0.0,0.0,0.0,0.0,0.0,0.0,0.0,0.0,0.0,0.0,0.0,0.0,0.0,0.9800000000000002,2.8700000000000006,1.7300000000000002,4.36,3.9,3.96,3.6900000000000004,3.65,4.58,5.110000000000001,5.13,5.29,4.39,4.38,4.879999999999999,4.95,5.55,5.800000000000002,6.22,6.670000000000001,7.0,7.620000000000001,8.47,8.872012987012988,9.170129032258064,9.346730769230767,9.686751592356687,10.119303797468351,11.29698113207547,11.704499999999996,12.396440839130031,12.546216835318058,13.502319484897678,15.501194414241604,18.154735856586512,20.69355164466678,24.849097154490998,27.863459885714267,32.0240348047337,38.205790400000005,41.5316245368421,44.80563917050389,49.42790031761242],\"yaxis\":\"y\",\"type\":\"scatter\"},{\"hovertemplate\":\"type unit=Renewables Generation by source [Petajoules]<br>year=%{x}<br>values=%{y}<extra></extra>\",\"legendgroup\":\"Renewables Generation by source [Petajoules]\",\"line\":{\"color\":\"#FECB52\",\"dash\":\"solid\"},\"marker\":{\"symbol\":\"circle\"},\"mode\":\"lines\",\"name\":\"Renewables Generation by source [Petajoules]\",\"orientation\":\"v\",\"showlegend\":true,\"x\":[\"Wind\",\"Solar\",\"Other renewables*\"],\"xaxis\":\"x\",\"y\":[0.5256,7.8408,6.703200000000001],\"yaxis\":\"y\",\"type\":\"scatter\"},{\"hovertemplate\":\"type unit=Solar Generation [Petajoules]<br>year=%{x}<br>values=%{y}<extra></extra>\",\"legendgroup\":\"Solar Generation [Petajoules]\",\"line\":{\"color\":\"#636efa\",\"dash\":\"solid\"},\"marker\":{\"symbol\":\"circle\"},\"mode\":\"lines\",\"name\":\"Solar Generation [Petajoules]\",\"orientation\":\"v\",\"showlegend\":true,\"x\":[1965,1966,1967,1968,1969,1970,1971,1972,1973,1974,1975,1976,1977,1978,1979,1980,1981,1982,1983,1984,1985,1986,1987,1988,1989,1990,1991,1992,1993,1994,1995,1996,1997,1998,1999,2000,2001,2002,2003,2004,2005,2006,2007,2008,2009,2010,2011,2012,2013,2014,2015,2016,2017,2018,2019,2020],\"xaxis\":\"x\",\"y\":[0.0,0.0,0.0,0.0,0.0,0.0,0.0,0.0,0.0,0.0,0.0,0.0,0.0,0.0,0.0,0.0,0.0,0.0,0.0,0.0,0.0,0.0,0.0,0.0,0.0,0.0036000000000000003,0.007200000000000001,0.0108,0.014400000000000001,0.018000000000000002,0.0216,0.0252,0.0252,0.028800000000000003,0.036000000000000004,0.039599999999999996,0.04680000000000001,0.054,0.06480000000000001,0.06480000000000001,0.0756,0.0864,0.1044,0.13319999999999999,0.1944,0.33840000000000003,0.6048,1.0764,1.8,3.0312,4.0284,4.7988,6.058800000000001,7.002000000000001,7.8408,9.443931798434257],\"yaxis\":\"y\",\"type\":\"scatter\"},{\"hovertemplate\":\"type unit=Solar Consumption [Petajoules (input-equivalent)]<br>year=%{x}<br>values=%{y}<extra></extra>\",\"legendgroup\":\"Solar Consumption [Petajoules (input-equivalent)]\",\"line\":{\"color\":\"#EF553B\",\"dash\":\"solid\"},\"marker\":{\"symbol\":\"circle\"},\"mode\":\"lines\",\"name\":\"Solar Consumption [Petajoules (input-equivalent)]\",\"orientation\":\"v\",\"showlegend\":true,\"x\":[1965,1966,1967,1968,1969,1970,1971,1972,1973,1974,1975,1976,1977,1978,1979,1980,1981,1982,1983,1984,1985,1986,1987,1988,1989,1990,1991,1992,1993,1994,1995,1996,1997,1998,1999,2000,2001,2002,2003,2004,2005,2006,2007,2008,2009,2010,2011,2012,2013,2014,2015,2016,2017,2018,2019,2020],\"xaxis\":\"x\",\"y\":[0.0,0.0,0.0,0.0,0.0,0.0,0.0,0.0,0.0,0.0,0.0,0.0,0.0,0.0,0.0,0.0,0.0,0.0,0.0,0.0,0.0,0.0,0.0,0.0,0.0,0.01,0.02,0.030000000000000002,0.04,0.05,0.060000000000000005,0.07,0.07,0.08,0.1,0.10999999999999999,0.12915584415584416,0.14806451612903226,0.17653846153846156,0.17541401273885351,0.2033544303797468,0.23094339622641502,0.2773124999999999,0.35161490683229796,0.5099999999999997,0.8823312883435578,1.5673170731707307,2.7725454545454524,4.608433734939756,7.714131736526939,10.190892857142847,12.067988165680463,15.147,17.402631578947368,19.41551823023351,23.29931473173803],\"yaxis\":\"y\",\"type\":\"scatter\"},{\"hovertemplate\":\"type unit=Wind Generation [Petajoules]<br>year=%{x}<br>values=%{y}<extra></extra>\",\"legendgroup\":\"Wind Generation [Petajoules]\",\"line\":{\"color\":\"#00cc96\",\"dash\":\"solid\"},\"marker\":{\"symbol\":\"circle\"},\"mode\":\"lines\",\"name\":\"Wind Generation [Petajoules]\",\"orientation\":\"v\",\"showlegend\":true,\"x\":[1965,1966,1967,1968,1969,1970,1971,1972,1973,1974,1975,1976,1977,1978,1979,1980,1981,1982,1983,1984,1985,1986,1987,1988,1989,1990,1991,1992,1993,1994,1995,1996,1997,1998,1999,2000,2001,2002,2003,2004,2005,2006,2007,2008,2009,2010,2011,2012,2013,2014,2015,2016,2017,2018,2019,2020],\"xaxis\":\"x\",\"y\":[0.0,0.0,0.0,0.0,0.0,0.0,0.0,0.0,0.0,0.0,0.0,0.0,0.0,0.0,0.0,0.0,0.0,0.0,0.0,0.0,0.0,0.0,0.0,0.0,0.0,0.0,0.0,0.0,0.0,0.0,0.0,0.0036000000000000003,0.007200000000000001,0.0108,0.0108,0.0108,0.014400000000000001,0.018000000000000002,0.018000000000000002,0.0216,0.028800000000000003,0.054,0.057600000000000005,0.0684,0.0828,0.13319999999999999,0.25200000000000006,0.31679999999999997,0.324,0.36360000000000003,0.396,0.3924,0.47880000000000006,0.4392,0.5256,0.6096959981203081],\"yaxis\":\"y\",\"type\":\"scatter\"},{\"hovertemplate\":\"type unit=Wind Consumption [Petajoules (input-equivalent)]<br>year=%{x}<br>values=%{y}<extra></extra>\",\"legendgroup\":\"Wind Consumption [Petajoules (input-equivalent)]\",\"line\":{\"color\":\"#ab63fa\",\"dash\":\"solid\"},\"marker\":{\"symbol\":\"circle\"},\"mode\":\"lines\",\"name\":\"Wind Consumption [Petajoules (input-equivalent)]\",\"orientation\":\"v\",\"showlegend\":true,\"x\":[1965,1966,1967,1968,1969,1970,1971,1972,1973,1974,1975,1976,1977,1978,1979,1980,1981,1982,1983,1984,1985,1986,1987,1988,1989,1990,1991,1992,1993,1994,1995,1996,1997,1998,1999,2000,2001,2002,2003,2004,2005,2006,2007,2008,2009,2010,2011,2012,2013,2014,2015,2016,2017,2018,2019,2020],\"xaxis\":\"x\",\"y\":[0.0,0.0,0.0,0.0,0.0,0.0,0.0,0.0,0.0,0.0,0.0,0.0,0.0,0.0,0.0,0.0,0.0,0.0,0.0,0.0,0.0,0.0,0.0,0.0,0.0,0.0,0.0,0.0,0.0,0.0,0.0,0.01,0.02,0.030000000000000002,0.030000000000000002,0.030000000000000002,0.039740259740259735,0.04935483870967742,0.04903846153846153,0.058471337579617824,0.07746835443037972,0.14433962264150937,0.15299999999999994,0.18055900621118,0.2172222222222221,0.34730061349693225,0.6530487804878045,0.8159999999999993,0.829518072289156,0.9253293413173646,1.0017857142857134,0.9868047337278096,1.197,1.0915789473684208,1.3014993854977468,1.5041933014850228],\"yaxis\":\"y\",\"type\":\"scatter\"},{\"hovertemplate\":\"type unit=Electricity Generation  [Petajoules]<br>year=%{x}<br>values=%{y}<extra></extra>\",\"legendgroup\":\"Electricity Generation  [Petajoules]\",\"line\":{\"color\":\"#FFA15A\",\"dash\":\"solid\"},\"marker\":{\"symbol\":\"circle\"},\"mode\":\"lines\",\"name\":\"Electricity Generation  [Petajoules]\",\"orientation\":\"v\",\"showlegend\":true,\"x\":[1985,1986,1987,1988,1989,1990,1991,1992,1993,1994,1995,1996,1997,1998,1999,2000,2001,2002,2003,2004,2005,2006,2007,2008,2009,2010,2011,2012,2013,2014,2015,2016,2017,2018,2019,2020],\"xaxis\":\"x\",\"y\":[202.81724401913874,206.677776076555,215.04187751196173,217.92871770334926,196.59877703349284,201.65553875598087,209.02264497607658,214.26451100478468,221.60020669856462,238.08326315789475,226.30561531100477,206.38205358851675,226.44751004784692,227.83658564593304,247.0223349282297,242.38597894736847,260.08232153110055,240.96970334928233,241.8657148325359,235.41207655502393,214.13464688995217,229.90003827751195,243.82774928229662,247.4703081339713,245.75326315789476,244.8175023923445,233.36865645933017,252.08066411483256,253.44258181818185,259.0270028708135,238.57920000000001,222.73200000000003,222.5844072,243.43109280000002,259.40278440000003,253.55541555911654],\"yaxis\":\"y\",\"type\":\"scatter\"}],                        {\"template\":{\"data\":{\"bar\":[{\"error_x\":{\"color\":\"#2a3f5f\"},\"error_y\":{\"color\":\"#2a3f5f\"},\"marker\":{\"line\":{\"color\":\"#E5ECF6\",\"width\":0.5},\"pattern\":{\"fillmode\":\"overlay\",\"size\":10,\"solidity\":0.2}},\"type\":\"bar\"}],\"barpolar\":[{\"marker\":{\"line\":{\"color\":\"#E5ECF6\",\"width\":0.5},\"pattern\":{\"fillmode\":\"overlay\",\"size\":10,\"solidity\":0.2}},\"type\":\"barpolar\"}],\"carpet\":[{\"aaxis\":{\"endlinecolor\":\"#2a3f5f\",\"gridcolor\":\"white\",\"linecolor\":\"white\",\"minorgridcolor\":\"white\",\"startlinecolor\":\"#2a3f5f\"},\"baxis\":{\"endlinecolor\":\"#2a3f5f\",\"gridcolor\":\"white\",\"linecolor\":\"white\",\"minorgridcolor\":\"white\",\"startlinecolor\":\"#2a3f5f\"},\"type\":\"carpet\"}],\"choropleth\":[{\"colorbar\":{\"outlinewidth\":0,\"ticks\":\"\"},\"type\":\"choropleth\"}],\"contour\":[{\"colorbar\":{\"outlinewidth\":0,\"ticks\":\"\"},\"colorscale\":[[0.0,\"#0d0887\"],[0.1111111111111111,\"#46039f\"],[0.2222222222222222,\"#7201a8\"],[0.3333333333333333,\"#9c179e\"],[0.4444444444444444,\"#bd3786\"],[0.5555555555555556,\"#d8576b\"],[0.6666666666666666,\"#ed7953\"],[0.7777777777777778,\"#fb9f3a\"],[0.8888888888888888,\"#fdca26\"],[1.0,\"#f0f921\"]],\"type\":\"contour\"}],\"contourcarpet\":[{\"colorbar\":{\"outlinewidth\":0,\"ticks\":\"\"},\"type\":\"contourcarpet\"}],\"heatmap\":[{\"colorbar\":{\"outlinewidth\":0,\"ticks\":\"\"},\"colorscale\":[[0.0,\"#0d0887\"],[0.1111111111111111,\"#46039f\"],[0.2222222222222222,\"#7201a8\"],[0.3333333333333333,\"#9c179e\"],[0.4444444444444444,\"#bd3786\"],[0.5555555555555556,\"#d8576b\"],[0.6666666666666666,\"#ed7953\"],[0.7777777777777778,\"#fb9f3a\"],[0.8888888888888888,\"#fdca26\"],[1.0,\"#f0f921\"]],\"type\":\"heatmap\"}],\"heatmapgl\":[{\"colorbar\":{\"outlinewidth\":0,\"ticks\":\"\"},\"colorscale\":[[0.0,\"#0d0887\"],[0.1111111111111111,\"#46039f\"],[0.2222222222222222,\"#7201a8\"],[0.3333333333333333,\"#9c179e\"],[0.4444444444444444,\"#bd3786\"],[0.5555555555555556,\"#d8576b\"],[0.6666666666666666,\"#ed7953\"],[0.7777777777777778,\"#fb9f3a\"],[0.8888888888888888,\"#fdca26\"],[1.0,\"#f0f921\"]],\"type\":\"heatmapgl\"}],\"histogram\":[{\"marker\":{\"pattern\":{\"fillmode\":\"overlay\",\"size\":10,\"solidity\":0.2}},\"type\":\"histogram\"}],\"histogram2d\":[{\"colorbar\":{\"outlinewidth\":0,\"ticks\":\"\"},\"colorscale\":[[0.0,\"#0d0887\"],[0.1111111111111111,\"#46039f\"],[0.2222222222222222,\"#7201a8\"],[0.3333333333333333,\"#9c179e\"],[0.4444444444444444,\"#bd3786\"],[0.5555555555555556,\"#d8576b\"],[0.6666666666666666,\"#ed7953\"],[0.7777777777777778,\"#fb9f3a\"],[0.8888888888888888,\"#fdca26\"],[1.0,\"#f0f921\"]],\"type\":\"histogram2d\"}],\"histogram2dcontour\":[{\"colorbar\":{\"outlinewidth\":0,\"ticks\":\"\"},\"colorscale\":[[0.0,\"#0d0887\"],[0.1111111111111111,\"#46039f\"],[0.2222222222222222,\"#7201a8\"],[0.3333333333333333,\"#9c179e\"],[0.4444444444444444,\"#bd3786\"],[0.5555555555555556,\"#d8576b\"],[0.6666666666666666,\"#ed7953\"],[0.7777777777777778,\"#fb9f3a\"],[0.8888888888888888,\"#fdca26\"],[1.0,\"#f0f921\"]],\"type\":\"histogram2dcontour\"}],\"mesh3d\":[{\"colorbar\":{\"outlinewidth\":0,\"ticks\":\"\"},\"type\":\"mesh3d\"}],\"parcoords\":[{\"line\":{\"colorbar\":{\"outlinewidth\":0,\"ticks\":\"\"}},\"type\":\"parcoords\"}],\"pie\":[{\"automargin\":true,\"type\":\"pie\"}],\"scatter\":[{\"marker\":{\"colorbar\":{\"outlinewidth\":0,\"ticks\":\"\"}},\"type\":\"scatter\"}],\"scatter3d\":[{\"line\":{\"colorbar\":{\"outlinewidth\":0,\"ticks\":\"\"}},\"marker\":{\"colorbar\":{\"outlinewidth\":0,\"ticks\":\"\"}},\"type\":\"scatter3d\"}],\"scattercarpet\":[{\"marker\":{\"colorbar\":{\"outlinewidth\":0,\"ticks\":\"\"}},\"type\":\"scattercarpet\"}],\"scattergeo\":[{\"marker\":{\"colorbar\":{\"outlinewidth\":0,\"ticks\":\"\"}},\"type\":\"scattergeo\"}],\"scattergl\":[{\"marker\":{\"colorbar\":{\"outlinewidth\":0,\"ticks\":\"\"}},\"type\":\"scattergl\"}],\"scattermapbox\":[{\"marker\":{\"colorbar\":{\"outlinewidth\":0,\"ticks\":\"\"}},\"type\":\"scattermapbox\"}],\"scatterpolar\":[{\"marker\":{\"colorbar\":{\"outlinewidth\":0,\"ticks\":\"\"}},\"type\":\"scatterpolar\"}],\"scatterpolargl\":[{\"marker\":{\"colorbar\":{\"outlinewidth\":0,\"ticks\":\"\"}},\"type\":\"scatterpolargl\"}],\"scatterternary\":[{\"marker\":{\"colorbar\":{\"outlinewidth\":0,\"ticks\":\"\"}},\"type\":\"scatterternary\"}],\"surface\":[{\"colorbar\":{\"outlinewidth\":0,\"ticks\":\"\"},\"colorscale\":[[0.0,\"#0d0887\"],[0.1111111111111111,\"#46039f\"],[0.2222222222222222,\"#7201a8\"],[0.3333333333333333,\"#9c179e\"],[0.4444444444444444,\"#bd3786\"],[0.5555555555555556,\"#d8576b\"],[0.6666666666666666,\"#ed7953\"],[0.7777777777777778,\"#fb9f3a\"],[0.8888888888888888,\"#fdca26\"],[1.0,\"#f0f921\"]],\"type\":\"surface\"}],\"table\":[{\"cells\":{\"fill\":{\"color\":\"#EBF0F8\"},\"line\":{\"color\":\"white\"}},\"header\":{\"fill\":{\"color\":\"#C8D4E3\"},\"line\":{\"color\":\"white\"}},\"type\":\"table\"}]},\"layout\":{\"annotationdefaults\":{\"arrowcolor\":\"#2a3f5f\",\"arrowhead\":0,\"arrowwidth\":1},\"autotypenumbers\":\"strict\",\"coloraxis\":{\"colorbar\":{\"outlinewidth\":0,\"ticks\":\"\"}},\"colorscale\":{\"diverging\":[[0,\"#8e0152\"],[0.1,\"#c51b7d\"],[0.2,\"#de77ae\"],[0.3,\"#f1b6da\"],[0.4,\"#fde0ef\"],[0.5,\"#f7f7f7\"],[0.6,\"#e6f5d0\"],[0.7,\"#b8e186\"],[0.8,\"#7fbc41\"],[0.9,\"#4d9221\"],[1,\"#276419\"]],\"sequential\":[[0.0,\"#0d0887\"],[0.1111111111111111,\"#46039f\"],[0.2222222222222222,\"#7201a8\"],[0.3333333333333333,\"#9c179e\"],[0.4444444444444444,\"#bd3786\"],[0.5555555555555556,\"#d8576b\"],[0.6666666666666666,\"#ed7953\"],[0.7777777777777778,\"#fb9f3a\"],[0.8888888888888888,\"#fdca26\"],[1.0,\"#f0f921\"]],\"sequentialminus\":[[0.0,\"#0d0887\"],[0.1111111111111111,\"#46039f\"],[0.2222222222222222,\"#7201a8\"],[0.3333333333333333,\"#9c179e\"],[0.4444444444444444,\"#bd3786\"],[0.5555555555555556,\"#d8576b\"],[0.6666666666666666,\"#ed7953\"],[0.7777777777777778,\"#fb9f3a\"],[0.8888888888888888,\"#fdca26\"],[1.0,\"#f0f921\"]]},\"colorway\":[\"#636efa\",\"#EF553B\",\"#00cc96\",\"#ab63fa\",\"#FFA15A\",\"#19d3f3\",\"#FF6692\",\"#B6E880\",\"#FF97FF\",\"#FECB52\"],\"font\":{\"color\":\"#2a3f5f\"},\"geo\":{\"bgcolor\":\"white\",\"lakecolor\":\"white\",\"landcolor\":\"#E5ECF6\",\"showlakes\":true,\"showland\":true,\"subunitcolor\":\"white\"},\"hoverlabel\":{\"align\":\"left\"},\"hovermode\":\"closest\",\"mapbox\":{\"style\":\"light\"},\"paper_bgcolor\":\"white\",\"plot_bgcolor\":\"#E5ECF6\",\"polar\":{\"angularaxis\":{\"gridcolor\":\"white\",\"linecolor\":\"white\",\"ticks\":\"\"},\"bgcolor\":\"#E5ECF6\",\"radialaxis\":{\"gridcolor\":\"white\",\"linecolor\":\"white\",\"ticks\":\"\"}},\"scene\":{\"xaxis\":{\"backgroundcolor\":\"#E5ECF6\",\"gridcolor\":\"white\",\"gridwidth\":2,\"linecolor\":\"white\",\"showbackground\":true,\"ticks\":\"\",\"zerolinecolor\":\"white\"},\"yaxis\":{\"backgroundcolor\":\"#E5ECF6\",\"gridcolor\":\"white\",\"gridwidth\":2,\"linecolor\":\"white\",\"showbackground\":true,\"ticks\":\"\",\"zerolinecolor\":\"white\"},\"zaxis\":{\"backgroundcolor\":\"#E5ECF6\",\"gridcolor\":\"white\",\"gridwidth\":2,\"linecolor\":\"white\",\"showbackground\":true,\"ticks\":\"\",\"zerolinecolor\":\"white\"}},\"shapedefaults\":{\"line\":{\"color\":\"#2a3f5f\"}},\"ternary\":{\"aaxis\":{\"gridcolor\":\"white\",\"linecolor\":\"white\",\"ticks\":\"\"},\"baxis\":{\"gridcolor\":\"white\",\"linecolor\":\"white\",\"ticks\":\"\"},\"bgcolor\":\"#E5ECF6\",\"caxis\":{\"gridcolor\":\"white\",\"linecolor\":\"white\",\"ticks\":\"\"}},\"title\":{\"x\":0.05},\"xaxis\":{\"automargin\":true,\"gridcolor\":\"white\",\"linecolor\":\"white\",\"ticks\":\"\",\"title\":{\"standoff\":15},\"zerolinecolor\":\"white\",\"zerolinewidth\":2},\"yaxis\":{\"automargin\":true,\"gridcolor\":\"white\",\"linecolor\":\"white\",\"ticks\":\"\",\"title\":{\"standoff\":15},\"zerolinecolor\":\"white\",\"zerolinewidth\":2}}},\"xaxis\":{\"anchor\":\"y\",\"domain\":[0.0,1.0],\"title\":{\"text\":\"year\"},\"rangeslider\":{\"visible\":true}},\"yaxis\":{\"anchor\":\"x\",\"domain\":[0.0,1.0],\"title\":{\"text\":\"values\"},\"type\":\"log\"},\"legend\":{\"title\":{\"text\":\"type unit\"},\"tracegroupgap\":0},\"margin\":{\"t\":60},\"height\":800,\"width\":800},                        {\"responsive\": true}                    ).then(function(){\n",
       "                            \n",
       "var gd = document.getElementById('237ba924-bc92-4a3b-be60-70cb37e44675');\n",
       "var x = new MutationObserver(function (mutations, observer) {{\n",
       "        var display = window.getComputedStyle(gd).display;\n",
       "        if (!display || display === 'none') {{\n",
       "            console.log([gd, 'removed!']);\n",
       "            Plotly.purge(gd);\n",
       "            observer.disconnect();\n",
       "        }}\n",
       "}});\n",
       "\n",
       "// Listen for the removal of the full notebook cells\n",
       "var notebookContainer = gd.closest('#notebook-container');\n",
       "if (notebookContainer) {{\n",
       "    x.observe(notebookContainer, {childList: true});\n",
       "}}\n",
       "\n",
       "// Listen for the clearing of the current output cell\n",
       "var outputEl = gd.closest('.output');\n",
       "if (outputEl) {{\n",
       "    x.observe(outputEl, {childList: true});\n",
       "}}\n",
       "\n",
       "                        })                };                });            </script>        </div>"
      ]
     },
     "metadata": {},
     "output_type": "display_data"
    }
   ],
   "source": [
    "import plotly.express as px\n",
    "\n",
    "fig = px.line(df, x=\"year\", y=\"values\", color='type unit',\n",
    "                 width=800, height=800)\n",
    "fig.update_layout(yaxis_type=\"log\",\n",
    "    xaxis = {\n",
    "        'rangeslider': {\n",
    "            'visible': True\n",
    "        },\n",
    "    }\n",
    ")\n",
    "fig.show()"
   ]
  },
  {
   "cell_type": "code",
   "execution_count": null,
   "id": "1d11c4f7-7b6e-48c9-86c6-40a9be01f7a2",
   "metadata": {},
   "outputs": [],
   "source": []
  }
 ],
 "metadata": {
  "kernelspec": {
   "display_name": "Python 3",
   "language": "python",
   "name": "python3"
  },
  "language_info": {
   "codemirror_mode": {
    "name": "ipython",
    "version": 3
   },
   "file_extension": ".py",
   "mimetype": "text/x-python",
   "name": "python",
   "nbconvert_exporter": "python",
   "pygments_lexer": "ipython3",
   "version": "3.8.6"
  }
 },
 "nbformat": 4,
 "nbformat_minor": 5
}
