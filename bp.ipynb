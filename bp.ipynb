{
 "cells": [
  {
   "cell_type": "code",
   "execution_count": 2,
   "id": "2983552b-de1b-4b65-aa54-a408825884e9",
   "metadata": {},
   "outputs": [],
   "source": [
    "# https://www.bp.com/en/global/corporate/energy-economics/statistical-review-of-world-energy.html\n",
    "\n",
    "import openpyxl\n",
    "xlsx = openpyxl.load_workbook('bp-stats-review-2021-all-data.xlsx')"
   ]
  },
  {
   "cell_type": "code",
   "execution_count": 12,
   "id": "0e67b678-0dbe-4241-8038-f027c15886e5",
   "metadata": {},
   "outputs": [
    {
     "name": "stdout",
     "output_type": "stream",
     "text": [
      "Primary Energy Consumption\n",
      "1965\n",
      "1966\n",
      "Canada\n",
      "Mexico\n",
      "4.924317048\n"
     ]
    }
   ],
   "source": [
    "print(xlsx.sheetnames[1])\n",
    "\n",
    "# Year\n",
    "print(xlsx.worksheets[1]['B3'].value)\n",
    "print(xlsx.worksheets[1]['C3'].value)\n",
    "\n",
    "# Country\n",
    "print(xlsx.worksheets[1]['A5'].value)\n",
    "print(xlsx.worksheets[1]['A6'].value)\n",
    "\n",
    "# Value\n",
    "print(xlsx.worksheets[1]['B5'].value)"
   ]
  }
 ],
 "metadata": {
  "kernelspec": {
   "display_name": "Python 3",
   "language": "python",
   "name": "python3"
  },
  "language_info": {
   "codemirror_mode": {
    "name": "ipython",
    "version": 3
   },
   "file_extension": ".py",
   "mimetype": "text/x-python",
   "name": "python",
   "nbconvert_exporter": "python",
   "pygments_lexer": "ipython3",
   "version": "3.8.6"
  }
 },
 "nbformat": 4,
 "nbformat_minor": 5
}
