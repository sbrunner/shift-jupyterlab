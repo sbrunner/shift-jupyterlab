{
 "cells": [
  {
   "cell_type": "code",
   "execution_count": 2,
   "id": "2983552b-de1b-4b65-aa54-a408825884e9",
   "metadata": {},
   "outputs": [],
   "source": [
    "# https://www.bp.com/en/global/corporate/energy-economics/statistical-review-of-world-energy.html\n",
    "\n",
    "import openpyxl\n",
    "xlsx = openpyxl.load_workbook('bp-stats-review-2021-all-data.xlsx')"
   ]
  },
  {
   "cell_type": "code",
   "execution_count": 11,
   "id": "0e67b678-0dbe-4241-8038-f027c15886e5",
   "metadata": {},
   "outputs": [
    {
     "name": "stdout",
     "output_type": "stream",
     "text": [
      "['Contents', 'Primary Energy Consumption', 'Primary Energy - Cons by fuel', 'Primary Energy - Cons capita', 'Carbon Dioxide Emissions', 'Natural Gas Flaring', 'CO2 From Flaring', 'CO2 Excluding Flaring', 'Oil - Proved reserves', 'Oil - Proved reserves history', 'Oil Production - Barrels', 'Oil Production - Tonnes', 'Oil Production - Crude Conds', 'Oil Production - NGLs', 'Total Liquids - Consumption', 'Oil Consumption - Barrels', 'Oil Consumption - Tonnes', 'Oil Consumption - EJ', 'Oil - Regional Consumption ', 'Oil - Spot crude prices', 'Oil - Crude prices since 1861', 'Oil - Refinery throughput', 'Oil - Refining capacity', 'Oil - Regional refining margins', 'Oil - Trade movements', 'Oil - Inter-area movements ', 'Oil - Trade 2019 - 2020', 'Gas - Proved reserves', 'Gas - Proved reserves history ', 'Gas Production - Bcm', 'Gas Production - Bcf', 'Gas Production - EJ', 'Gas Consumption - Bcm', 'Gas Consumption - Bcf', 'Gas Consumption - EJ', 'Gas - Prices ', 'Gas - Inter-regional trade', 'Gas - LNG imports', 'Gas - LNG exports', 'Gas - Trade movts LNG', 'Gas - Trade movts - pipeline', 'Coal - Reserves', 'Coal Production - Tonnes', 'Coal Production - EJ', 'Coal Consumption - EJ', 'Coal - Prices', 'Coal - Trade movements', 'Coal - Inter area movts', 'Nuclear Generation - TWh', 'Nuclear Consumption - EJ', 'Hydro Generation - TWh', 'Hydro Consumption - EJ', 'Renewables Consumption - EJ', 'Renewables Power - EJ', 'Renewables power - TWh', 'Renewables Generation by source', 'Solar Generation - TWh', 'Solar Consumption - EJ', 'Wind Generation - TWh', 'Wind Consumption - EJ', 'Geo Biomass Other - TWh', 'Geo Biomass Other - EJ', 'Biofuels Production - Kboed', 'Biofuels Production - PJ', 'Biofuels Consumption - Kboed', 'Biofuels Consumption - PJ', 'Electricity Generation ', 'Elec Gen by fuel', 'Elec Gen from Oil', 'Elec Gen from Gas', 'Elec Gen from Coal', 'Elec Gen from Other', 'Cobalt Production-Reserves', 'Lithium Production-Reserves', 'Graphite Production-Reserves', 'Rare Earth Production-Reserves', 'Cobalt and Lithium - Prices', 'Geothermal Capacity', 'Solar Capacity', 'Wind Capacity', 'Approximate conversion factors', 'Definitions', 'Methodology']\n",
      "4.924317048\n",
      "1965\n",
      "1966\n",
      "Canada\n",
      "Mexico\n",
      "4.924317048\n"
     ]
    }
   ],
   "source": [
    "print(xlsx.sheetnames[1])\n",
    "\n",
    "# Year\n",
    "print(xlsx.worksheets[1]['B3'].value)\n",
    "print(xlsx.worksheets[1]['C3'].value)\n",
    "\n",
    "# Country\n",
    "print(xlsx.worksheets[1]['A5'].value)\n",
    "print(xlsx.worksheets[1]['A6'].value)\n",
    "\n",
    "# Value\n",
    "print(xlsx.worksheets[1]['B5'].value)"
   ]
  }
 ],
 "metadata": {
  "kernelspec": {
   "display_name": "Python 3",
   "language": "python",
   "name": "python3"
  },
  "language_info": {
   "codemirror_mode": {
    "name": "ipython",
    "version": 3
   },
   "file_extension": ".py",
   "mimetype": "text/x-python",
   "name": "python",
   "nbconvert_exporter": "python",
   "pygments_lexer": "ipython3",
   "version": "3.8.6"
  }
 },
 "nbformat": 4,
 "nbformat_minor": 5
}
