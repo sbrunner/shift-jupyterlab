{
 "cells": [
  {
   "cell_type": "code",
   "execution_count": null,
   "id": "5c7a2c4a-c1c0-48f0-b678-a41ebf1a15f0",
   "metadata": {},
   "outputs": [],
   "source": [
    "import pandas as pd\n",
    "\n",
    "df_co2_pib = pd.read_pickle('world_co2_gdp.px')"
   ]
  },
  {
   "cell_type": "code",
   "execution_count": null,
   "id": "e7382f04-c2c5-4a1a-a727-ce02d682a86d",
   "metadata": {},
   "outputs": [],
   "source": [
    "import plotly.express as px\n",
    "\n",
    "fig = px.scatter(\n",
    "    df_co2_pib,\n",
    "    x=\"CO2\",\n",
    "    y=\"GDP\",\n",
    "    width=800,\n",
    "    height=800,\n",
    "    trendline=\"ols\",\n",
    "    hover_data=[\"CO2\", \"GDP\", \"Year\"],\n",
    ")\n",
    "fig.update_layout()\n",
    "fig.show()"
   ]
  }
 ],
 "metadata": {
  "kernelspec": {
   "display_name": "Python 3",
   "language": "python",
   "name": "python3"
  },
  "language_info": {
   "codemirror_mode": {
    "name": "ipython",
    "version": 3
   },
   "file_extension": ".py",
   "mimetype": "text/x-python",
   "name": "python",
   "nbconvert_exporter": "python",
   "pygments_lexer": "ipython3"
  },
  "widgets": {
   "application/vnd.jupyter.widget-state+json": {
    "state": {},
    "version_major": 2,
    "version_minor": 0
   }
  }
 },
 "nbformat": 4,
 "nbformat_minor": 5
}
