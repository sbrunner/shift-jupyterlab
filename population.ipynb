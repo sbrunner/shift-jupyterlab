{
 "cells": [
  {
   "cell_type": "code",
   "execution_count": null,
   "id": "d815b201-0ceb-4f80-a678-a019775d0c6c",
   "metadata": {},
   "outputs": [],
   "source": [
    "# https://www.bfs.admin.ch/bfs/fr/home/services/recherche/api.html\n",
    "# https://dam-api.bfs.admin.ch/hub/swagger-ui/index.html\n",
    "# communes\n",
    "# https://www.bfs.admin.ch/bfs/fr/home/services/recherche/api/api-gemeinde.assetdetail.15224055.html\n",
    "\n",
    "# motorisation\n",
    "# https://www.pxweb.bfs.admin.ch/sq/ccc96ddd-61a9-49ab-ad7f-dabbc934e8c0\n",
    "\n",
    "import requests\n",
    "\n",
    "# Population\n",
    "dataset_url = \"https://www.pxweb.bfs.admin.ch/api/v1/en/px-x-0102030000_101/px-x-0102030000_101.px\"\n",
    "\n",
    "metadata_response = requests.get(dataset_url)\n",
    "metadata_json = metadata_response.json()"
   ]
  },
  {
   "cell_type": "code",
   "execution_count": null,
   "id": "21ab34a1-3979-4ba5-add6-7e7550627dff",
   "metadata": {},
   "outputs": [],
   "source": [
    "print(metadata_json[\"title\"])\n",
    "for v in metadata_json[\"variables\"]:\n",
    "    print(\"---\")\n",
    "    print(f\"{v['text']} ({v['code']})\")\n",
    "    print(f\"{v['valueTexts']} ({v['values']})\")"
   ]
  },
  {
   "cell_type": "code",
   "execution_count": null,
   "id": "215642c7-5c86-4ce6-9c9a-4248aa9697e9",
   "metadata": {},
   "outputs": [],
   "source": [
    "response2 = requests.post(\n",
    "    dataset_url,\n",
    "    json={\n",
    "        \"query\": [\n",
    "            {\n",
    "                \"code\": \"Alter\",\n",
    "                \"selection\": {\n",
    "                    \"filter\": \"item\",\n",
    "                    \"values\": metadata_json[\"variables\"][1][\"values\"],\n",
    "                },\n",
    "            }\n",
    "        ],\n",
    "        \"response\": {\"format\": \"json-stat\"},\n",
    "    },\n",
    ")\n",
    "json = response2.json()"
   ]
  },
  {
   "cell_type": "code",
   "execution_count": null,
   "id": "17e55454-18b1-4baf-bbe8-c7d0a91baa64",
   "metadata": {},
   "outputs": [],
   "source": [
    "import pandas as pd\n",
    "\n",
    "values = {\"values\": json[\"dataset\"][\"value\"]}\n",
    "length = 1\n",
    "total_length = len(json[\"dataset\"][\"value\"])\n",
    "for dimension_id in json[\"dataset\"][\"dimension\"][\"id\"]:\n",
    "    dimension = json[\"dataset\"][\"dimension\"][dimension_id]\n",
    "\n",
    "    current_length = len(dimension[\"category\"][\"index\"])\n",
    "    nb = int(total_length / (length * current_length))\n",
    "\n",
    "    v = list(json[\"dataset\"][\"value\"])\n",
    "    for x in range(length):\n",
    "        for y, value in enumerate(dimension[\"category\"][\"label\"].values()):\n",
    "            for z in range(nb):\n",
    "                v[x * current_length * nb + y * nb + z] = value\n",
    "\n",
    "    values[dimension[\"label\"]] = v\n",
    "\n",
    "    length *= current_length\n",
    "\n",
    "df = pd.DataFrame(values)\n",
    "# print(json['dataset']['value'])\n",
    "df"
   ]
  },
  {
   "cell_type": "code",
   "execution_count": null,
   "id": "8e6bc93b-3187-41a3-b615-52ae55e0d368",
   "metadata": {},
   "outputs": [],
   "source": [
    "import plotly.express as px\n",
    "\n",
    "fig = px.line(\n",
    "    df.query(f'Age == \"99 years or older\"'), x=\"Year\", y=\"values\", color=\"Age\"\n",
    ")\n",
    "fig.update_layout(\n",
    "    yaxis_type=\"log\",\n",
    "    xaxis={\n",
    "        \"rangeslider\": {\"visible\": True},\n",
    "    },\n",
    ")\n",
    "fig.show()"
   ]
  }
 ],
 "metadata": {
  "kernelspec": {
   "display_name": "Python 3",
   "language": "python",
   "name": "python3"
  },
  "language_info": {
   "codemirror_mode": {
    "name": "ipython",
    "version": 3
   },
   "file_extension": ".py",
   "mimetype": "text/x-python",
   "name": "python",
   "nbconvert_exporter": "python",
   "pygments_lexer": "ipython3"
  },
  "widgets": {
   "application/vnd.jupyter.widget-state+json": {
    "state": {},
    "version_major": 2,
    "version_minor": 0
   }
  }
 },
 "nbformat": 4,
 "nbformat_minor": 5
}
