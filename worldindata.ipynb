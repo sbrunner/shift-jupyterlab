{
 "cells": [
  {
   "cell_type": "code",
   "execution_count": null,
   "id": "9dfb4865-b136-4af8-9874-97e5ae1b3e1f",
   "metadata": {},
   "outputs": [],
   "source": [
    "# Import packages\n",
    "import pandas as pd\n",
    "\n",
    "# https://github.com/owid/covid-19-data/tree/master/public/data\n",
    "df = pd.read_csv(\"owid-covid-data.csv\")\n",
    "df"
   ]
  },
  {
   "cell_type": "code",
   "execution_count": null,
   "id": "44def9c7-5cc9-4903-ba7c-ab59b3e22ef3",
   "metadata": {},
   "outputs": [],
   "source": [
    "df2 = df.query(\n",
    "    \"location in ['Oceania', 'Asia', 'Europe', 'South America', 'North America', 'Africa']\"\n",
    ")\n",
    "df2"
   ]
  },
  {
   "cell_type": "code",
   "execution_count": null,
   "id": "90d9b4c8-71a8-4ec3-a36a-2a0be2bce770",
   "metadata": {},
   "outputs": [],
   "source": [
    "df2.insert(4, \"td_tc\", df2[\"total_deaths\"] / df2[\"total_cases\"])\n",
    "df2"
   ]
  },
  {
   "cell_type": "code",
   "execution_count": null,
   "id": "c1b48ad8-3713-431c-bf76-c233442b1582",
   "metadata": {},
   "outputs": [],
   "source": [
    "import plotly.express as px\n",
    "\n",
    "print(set(df[\"continent\"]))\n",
    "fig = px.line(\n",
    "    df2,\n",
    "    x=\"date\",\n",
    "    #              y=\"new_deaths\",\n",
    "    #              y=\"new_cases\",\n",
    "    #              y=\"total_deaths\",\n",
    "    #              y=\"total_cases\",\n",
    "    y=\"td_tc\",\n",
    "    color=\"location\",\n",
    ")\n",
    "fig.update_layout(\n",
    "    yaxis_type=\"log\",\n",
    "    xaxis=dict(\n",
    "        rangeslider=dict(visible=True),\n",
    "    ),\n",
    ")\n",
    "fig.show()"
   ]
  }
 ],
 "metadata": {
  "kernelspec": {
   "display_name": "Python 3",
   "language": "python",
   "name": "python3"
  },
  "language_info": {
   "codemirror_mode": {
    "name": "ipython",
    "version": 3
   },
   "file_extension": ".py",
   "mimetype": "text/x-python",
   "name": "python",
   "nbconvert_exporter": "python",
   "pygments_lexer": "ipython3"
  },
  "widgets": {
   "application/vnd.jupyter.widget-state+json": {
    "state": {},
    "version_major": 2,
    "version_minor": 0
   }
  }
 },
 "nbformat": 4,
 "nbformat_minor": 5
}
